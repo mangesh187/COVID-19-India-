{
  "nbformat": 4,
  "nbformat_minor": 0,
  "metadata": {
    "colab": {
      "name": "project on carona.ipynb",
      "provenance": [],
      "collapsed_sections": []
    },
    "kernelspec": {
      "name": "python3",
      "display_name": "Python 3"
    }
  },
  "cells": [
    {
      "cell_type": "code",
      "metadata": {
        "id": "8z_AJgkup2uh",
        "colab_type": "code",
        "outputId": "5152a7a2-54a0-4261-a05d-31ad8b15ff85",
        "colab": {
          "base_uri": "https://localhost:8080/",
          "height": 459
        }
      },
      "source": [
        "import pandas as pd \n",
        "import numpy as np\n",
        "import matplotlib.pyplot as plt\n",
        "import numpy as np # linear algebra\n",
        "import pandas as pd # data processing, CSV file I/O (e.g. pd.read_csv)\n",
        "import matplotlib.pyplot as plt\n",
        "import seaborn as sns\n",
        "import pandas as pd\n",
        "import os\n",
        "plt.style.use(\"fivethirtyeight\")# for pretty graphs\n",
        "\n",
        "# Increase the default plot size and set the color scheme\n",
        "plt.rcParams['figure.figsize'] = 8, 5\n",
        "import warnings\n",
        "warnings.filterwarnings('ignore')\n",
        "import matplotlib.style as style\n",
        "style.available"
      ],
      "execution_count": 0,
      "outputs": [
        {
          "output_type": "execute_result",
          "data": {
            "text/plain": [
              "['Solarize_Light2',\n",
              " '_classic_test_patch',\n",
              " 'bmh',\n",
              " 'classic',\n",
              " 'dark_background',\n",
              " 'fast',\n",
              " 'fivethirtyeight',\n",
              " 'ggplot',\n",
              " 'grayscale',\n",
              " 'seaborn',\n",
              " 'seaborn-bright',\n",
              " 'seaborn-colorblind',\n",
              " 'seaborn-dark',\n",
              " 'seaborn-dark-palette',\n",
              " 'seaborn-darkgrid',\n",
              " 'seaborn-deep',\n",
              " 'seaborn-muted',\n",
              " 'seaborn-notebook',\n",
              " 'seaborn-paper',\n",
              " 'seaborn-pastel',\n",
              " 'seaborn-poster',\n",
              " 'seaborn-talk',\n",
              " 'seaborn-ticks',\n",
              " 'seaborn-white',\n",
              " 'seaborn-whitegrid',\n",
              " 'tableau-colorblind10']"
            ]
          },
          "metadata": {
            "tags": []
          },
          "execution_count": 2
        }
      ]
    },
    {
      "cell_type": "code",
      "metadata": {
        "id": "DnCefZo-p8GY",
        "colab_type": "code",
        "outputId": "78889aac-4da6-4e4f-e748-5b975c8b0dfb",
        "colab": {
          "resources": {
            "http://localhost:8080/nbextensions/google.colab/files.js": {
              "data": "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",
              "ok": true,
              "headers": [
                [
                  "content-type",
                  "application/javascript"
                ]
              ],
              "status": 200,
              "status_text": ""
            }
          },
          "base_uri": "https://localhost:8080/",
          "height": 108
        }
      },
      "source": [
        "from google.colab import files\n",
        "files.upload()"
      ],
      "execution_count": 0,
      "outputs": [
        {
          "output_type": "display_data",
          "data": {
            "text/html": [
              "\n",
              "     <input type=\"file\" id=\"files-19e655e5-62b2-43ab-8146-6479ffce4d64\" name=\"files[]\" multiple disabled />\n",
              "     <output id=\"result-19e655e5-62b2-43ab-8146-6479ffce4d64\">\n",
              "      Upload widget is only available when the cell has been executed in the\n",
              "      current browser session. Please rerun this cell to enable.\n",
              "      </output>\n",
              "      <script src=\"/nbextensions/google.colab/files.js\"></script> "
            ],
            "text/plain": [
              "<IPython.core.display.HTML object>"
            ]
          },
          "metadata": {
            "tags": []
          }
        },
        {
          "output_type": "stream",
          "text": [
            "Saving Covid cases in India.csv to Covid cases in India.csv\n"
          ],
          "name": "stdout"
        },
        {
          "output_type": "execute_result",
          "data": {
            "text/plain": [
              "{'Covid cases in India.csv': b'S. No.,Name of State / UT,Total Confirmed cases (Indian National),Total Confirmed cases ( Foreign National ),Cured/Discharged/Migrated,Deaths\\r\\n1,Andhra Pradesh,14,0,1,0\\r\\n,Andaman and Nicobar Islands,6,0,0,0\\r\\n2,Bihar,9,0,0,1\\r\\n20,Chandigarh,8,0,0,0\\r\\n3,Chattisgarh,6,0,0,0\\r\\n4,Delhi,38,1,6,1\\r\\n,Goa,3,0,0,0\\r\\n5,Gujarat,44,1,0,3\\r\\n6,Haryana,19,14,12,0\\r\\n7,Himachal Pradesh,3,0,0,1\\r\\n21,Jammu and Kashmir,20,0,1,1\\r\\n8,Karnataka,55,0,3,2\\r\\n9,Kerala,168,8,11,0\\r\\n22,Ladakh,13,0,3,0\\r\\n10,Madhya Pradesh,30,0,0,2\\r\\n11,Maharashtra,177,3,25,5\\r\\n12,Manipur,1,0,0,0\\r\\n13,Mizoram,1,0,0,0\\r\\n14,Odisha,3,0,0,0\\r\\n15,Pondicherry,1,0,0,0\\r\\n16,Punjab,38,0,1,1\\r\\n17,Rajasthan,52,2,3,0\\r\\n18,Tamil Nadu,34,6,2,1\\r\\n19,Telengana,46,10,1,0\\r\\n24,Uttarakhand,4,1,0,0\\r\\n23,Uttar Pradesh,54,1,11,0\\r\\n25,West Bengal,15,0,0,1'}"
            ]
          },
          "metadata": {
            "tags": []
          },
          "execution_count": 6
        }
      ]
    },
    {
      "cell_type": "code",
      "metadata": {
        "id": "cI75B107btJ1",
        "colab_type": "code",
        "outputId": "1b27d8af-2a4e-4f91-93bf-4e4351063a80",
        "colab": {
          "resources": {
            "http://localhost:8080/nbextensions/google.colab/files.js": {
              "data": "Ly8gQ29weXJpZ2h0IDIwMTcgR29vZ2xlIExMQwovLwovLyBMaWNlbnNlZCB1bmRlciB0aGUgQXBhY2hlIExpY2Vuc2UsIFZlcnNpb24gMi4wICh0aGUgIkxpY2Vuc2UiKTsKLy8geW91IG1heSBub3QgdXNlIHRoaXMgZmlsZSBleGNlcHQgaW4gY29tcGxpYW5jZSB3aXRoIHRoZSBMaWNlbnNlLgovLyBZb3UgbWF5IG9idGFpbiBhIGNvcHkgb2YgdGhlIExpY2Vuc2UgYXQKLy8KLy8gICAgICBodHRwOi8vd3d3LmFwYWNoZS5vcmcvbGljZW5zZXMvTElDRU5TRS0yLjAKLy8KLy8gVW5sZXNzIHJlcXVpcmVkIGJ5IGFwcGxpY2FibGUgbGF3IG9yIGFncmVlZCB0byBpbiB3cml0aW5nLCBzb2Z0d2FyZQovLyBkaXN0cmlidXRlZCB1bmRlciB0aGUgTGljZW5zZSBpcyBkaXN0cmlidXRlZCBvbiBhbiAiQVMgSVMiIEJBU0lTLAovLyBXSVRIT1VUIFdBUlJBTlRJRVMgT1IgQ09ORElUSU9OUyBPRiBBTlkgS0lORCwgZWl0aGVyIGV4cHJlc3Mgb3IgaW1wbGllZC4KLy8gU2VlIHRoZSBMaWNlbnNlIGZvciB0aGUgc3BlY2lmaWMgbGFuZ3VhZ2UgZ292ZXJuaW5nIHBlcm1pc3Npb25zIGFuZAovLyBsaW1pdGF0aW9ucyB1bmRlciB0aGUgTGljZW5zZS4KCi8qKgogKiBAZmlsZW92ZXJ2aWV3IEhlbHBlcnMgZm9yIGdvb2dsZS5jb2xhYiBQeXRob24gbW9kdWxlLgogKi8KKGZ1bmN0aW9uKHNjb3BlKSB7CmZ1bmN0aW9uIHNwYW4odGV4dCwgc3R5bGVBdHRyaWJ1dGVzID0ge30pIHsKICBjb25zdCBlbGVtZW50ID0gZG9jdW1lbnQuY3JlYXRlRWxlbWVudCgnc3BhbicpOwogIGVsZW1lbnQudGV4dENvbnRlbnQgPSB0ZXh0OwogIGZvciAoY29uc3Qga2V5IG9mIE9iamVjdC5rZXlzKHN0eWxlQXR0cmlidXRlcykpIHsKICAgIGVsZW1lbnQuc3R5bGVba2V5XSA9IHN0eWxlQXR0cmlidXRlc1trZXldOwogIH0KICByZXR1cm4gZWxlbWVudDsKfQoKLy8gTWF4IG51bWJlciBvZiBieXRlcyB3aGljaCB3aWxsIGJlIHVwbG9hZGVkIGF0IGEgdGltZS4KY29uc3QgTUFYX1BBWUxPQURfU0laRSA9IDEwMCAqIDEwMjQ7Ci8vIE1heCBhbW91bnQgb2YgdGltZSB0byBibG9jayB3YWl0aW5nIGZvciB0aGUgdXNlci4KY29uc3QgRklMRV9DSEFOR0VfVElNRU9VVF9NUyA9IDMwICogMTAwMDsKCmZ1bmN0aW9uIF91cGxvYWRGaWxlcyhpbnB1dElkLCBvdXRwdXRJZCkgewogIGNvbnN0IHN0ZXBzID0gdXBsb2FkRmlsZXNTdGVwKGlucHV0SWQsIG91dHB1dElkKTsKICBjb25zdCBvdXRwdXRFbGVtZW50ID0gZG9jdW1lbnQuZ2V0RWxlbWVudEJ5SWQob3V0cHV0SWQpOwogIC8vIENhY2hlIHN0ZXBzIG9uIHRoZSBvdXRwdXRFbGVtZW50IHRvIG1ha2UgaXQgYXZhaWxhYmxlIGZvciB0aGUgbmV4dCBjYWxsCiAgLy8gdG8gdXBsb2FkRmlsZXNDb250aW51ZSBmcm9tIFB5dGhvbi4KICBvdXRwdXRFbGVtZW50LnN0ZXBzID0gc3RlcHM7CgogIHJldHVybiBfdXBsb2FkRmlsZXNDb250aW51ZShvdXRwdXRJZCk7Cn0KCi8vIFRoaXMgaXMgcm91Z2hseSBhbiBhc3luYyBnZW5lcmF0b3IgKG5vdCBzdXBwb3J0ZWQgaW4gdGhlIGJyb3dzZXIgeWV0KSwKLy8gd2hlcmUgdGhlcmUgYXJlIG11bHRpcGxlIGFzeW5jaHJvbm91cyBzdGVwcyBhbmQgdGhlIFB5dGhvbiBzaWRlIGlzIGdvaW5nCi8vIHRvIHBvbGwgZm9yIGNvbXBsZXRpb24gb2YgZWFjaCBzdGVwLgovLyBUaGlzIHVzZXMgYSBQcm9taXNlIHRvIGJsb2NrIHRoZSBweXRob24gc2lkZSBvbiBjb21wbGV0aW9uIG9mIGVhY2ggc3RlcCwKLy8gdGhlbiBwYXNzZXMgdGhlIHJlc3VsdCBvZiB0aGUgcHJldmlvdXMgc3RlcCBhcyB0aGUgaW5wdXQgdG8gdGhlIG5leHQgc3RlcC4KZnVuY3Rpb24gX3VwbG9hZEZpbGVzQ29udGludWUob3V0cHV0SWQpIHsKICBjb25zdCBvdXRwdXRFbGVtZW50ID0gZG9jdW1lbnQuZ2V0RWxlbWVudEJ5SWQob3V0cHV0SWQpOwogIGNvbnN0IHN0ZXBzID0gb3V0cHV0RWxlbWVudC5zdGVwczsKCiAgY29uc3QgbmV4dCA9IHN0ZXBzLm5leHQob3V0cHV0RWxlbWVudC5sYXN0UHJvbWlzZVZhbHVlKTsKICByZXR1cm4gUHJvbWlzZS5yZXNvbHZlKG5leHQudmFsdWUucHJvbWlzZSkudGhlbigodmFsdWUpID0+IHsKICAgIC8vIENhY2hlIHRoZSBsYXN0IHByb21pc2UgdmFsdWUgdG8gbWFrZSBpdCBhdmFpbGFibGUgdG8gdGhlIG5leHQKICAgIC8vIHN0ZXAgb2YgdGhlIGdlbmVyYXRvci4KICAgIG91dHB1dEVsZW1lbnQubGFzdFByb21pc2VWYWx1ZSA9IHZhbHVlOwogICAgcmV0dXJuIG5leHQudmFsdWUucmVzcG9uc2U7CiAgfSk7Cn0KCi8qKgogKiBHZW5lcmF0b3IgZnVuY3Rpb24gd2hpY2ggaXMgY2FsbGVkIGJldHdlZW4gZWFjaCBhc3luYyBzdGVwIG9mIHRoZSB1cGxvYWQKICogcHJvY2Vzcy4KICogQHBhcmFtIHtzdHJpbmd9IGlucHV0SWQgRWxlbWVudCBJRCBvZiB0aGUgaW5wdXQgZmlsZSBwaWNrZXIgZWxlbWVudC4KICogQHBhcmFtIHtzdHJpbmd9IG91dHB1dElkIEVsZW1lbnQgSUQgb2YgdGhlIG91dHB1dCBkaXNwbGF5LgogKiBAcmV0dXJuIHshSXRlcmFibGU8IU9iamVjdD59IEl0ZXJhYmxlIG9mIG5leHQgc3RlcHMuCiAqLwpmdW5jdGlvbiogdXBsb2FkRmlsZXNTdGVwKGlucHV0SWQsIG91dHB1dElkKSB7CiAgY29uc3QgaW5wdXRFbGVtZW50ID0gZG9jdW1lbnQuZ2V0RWxlbWVudEJ5SWQoaW5wdXRJZCk7CiAgaW5wdXRFbGVtZW50LmRpc2FibGVkID0gZmFsc2U7CgogIGNvbnN0IG91dHB1dEVsZW1lbnQgPSBkb2N1bWVudC5nZXRFbGVtZW50QnlJZChvdXRwdXRJZCk7CiAgb3V0cHV0RWxlbWVudC5pbm5lckhUTUwgPSAnJzsKCiAgY29uc3QgcGlja2VkUHJvbWlzZSA9IG5ldyBQcm9taXNlKChyZXNvbHZlKSA9PiB7CiAgICBpbnB1dEVsZW1lbnQuYWRkRXZlbnRMaXN0ZW5lcignY2hhbmdlJywgKGUpID0+IHsKICAgICAgcmVzb2x2ZShlLnRhcmdldC5maWxlcyk7CiAgICB9KTsKICB9KTsKCiAgY29uc3QgY2FuY2VsID0gZG9jdW1lbnQuY3JlYXRlRWxlbWVudCgnYnV0dG9uJyk7CiAgaW5wdXRFbGVtZW50LnBhcmVudEVsZW1lbnQuYXBwZW5kQ2hpbGQoY2FuY2VsKTsKICBjYW5jZWwudGV4dENvbnRlbnQgPSAnQ2FuY2VsIHVwbG9hZCc7CiAgY29uc3QgY2FuY2VsUHJvbWlzZSA9IG5ldyBQcm9taXNlKChyZXNvbHZlKSA9PiB7CiAgICBjYW5jZWwub25jbGljayA9ICgpID0+IHsKICAgICAgcmVzb2x2ZShudWxsKTsKICAgIH07CiAgfSk7CgogIC8vIENhbmNlbCB1cGxvYWQgaWYgdXNlciBoYXNuJ3QgcGlja2VkIGFueXRoaW5nIGluIHRpbWVvdXQuCiAgY29uc3QgdGltZW91dFByb21pc2UgPSBuZXcgUHJvbWlzZSgocmVzb2x2ZSkgPT4gewogICAgc2V0VGltZW91dCgoKSA9PiB7CiAgICAgIHJlc29sdmUobnVsbCk7CiAgICB9LCBGSUxFX0NIQU5HRV9USU1FT1VUX01TKTsKICB9KTsKCiAgLy8gV2FpdCBmb3IgdGhlIHVzZXIgdG8gcGljayB0aGUgZmlsZXMuCiAgY29uc3QgZmlsZXMgPSB5aWVsZCB7CiAgICBwcm9taXNlOiBQcm9taXNlLnJhY2UoW3BpY2tlZFByb21pc2UsIHRpbWVvdXRQcm9taXNlLCBjYW5jZWxQcm9taXNlXSksCiAgICByZXNwb25zZTogewogICAgICBhY3Rpb246ICdzdGFydGluZycsCiAgICB9CiAgfTsKCiAgaWYgKCFmaWxlcykgewogICAgcmV0dXJuIHsKICAgICAgcmVzcG9uc2U6IHsKICAgICAgICBhY3Rpb246ICdjb21wbGV0ZScsCiAgICAgIH0KICAgIH07CiAgfQoKICBjYW5jZWwucmVtb3ZlKCk7CgogIC8vIERpc2FibGUgdGhlIGlucHV0IGVsZW1lbnQgc2luY2UgZnVydGhlciBwaWNrcyBhcmUgbm90IGFsbG93ZWQuCiAgaW5wdXRFbGVtZW50LmRpc2FibGVkID0gdHJ1ZTsKCiAgZm9yIChjb25zdCBmaWxlIG9mIGZpbGVzKSB7CiAgICBjb25zdCBsaSA9IGRvY3VtZW50LmNyZWF0ZUVsZW1lbnQoJ2xpJyk7CiAgICBsaS5hcHBlbmQoc3BhbihmaWxlLm5hbWUsIHtmb250V2VpZ2h0OiAnYm9sZCd9KSk7CiAgICBsaS5hcHBlbmQoc3BhbigKICAgICAgICBgKCR7ZmlsZS50eXBlIHx8ICduL2EnfSkgLSAke2ZpbGUuc2l6ZX0gYnl0ZXMsIGAgKwogICAgICAgIGBsYXN0IG1vZGlmaWVkOiAkewogICAgICAgICAgICBmaWxlLmxhc3RNb2RpZmllZERhdGUgPyBmaWxlLmxhc3RNb2RpZmllZERhdGUudG9Mb2NhbGVEYXRlU3RyaW5nKCkgOgogICAgICAgICAgICAgICAgICAgICAgICAgICAgICAgICAgICAnbi9hJ30gLSBgKSk7CiAgICBjb25zdCBwZXJjZW50ID0gc3BhbignMCUgZG9uZScpOwogICAgbGkuYXBwZW5kQ2hpbGQocGVyY2VudCk7CgogICAgb3V0cHV0RWxlbWVudC5hcHBlbmRDaGlsZChsaSk7CgogICAgY29uc3QgZmlsZURhdGFQcm9taXNlID0gbmV3IFByb21pc2UoKHJlc29sdmUpID0+IHsKICAgICAgY29uc3QgcmVhZGVyID0gbmV3IEZpbGVSZWFkZXIoKTsKICAgICAgcmVhZGVyLm9ubG9hZCA9IChlKSA9PiB7CiAgICAgICAgcmVzb2x2ZShlLnRhcmdldC5yZXN1bHQpOwogICAgICB9OwogICAgICByZWFkZXIucmVhZEFzQXJyYXlCdWZmZXIoZmlsZSk7CiAgICB9KTsKICAgIC8vIFdhaXQgZm9yIHRoZSBkYXRhIHRvIGJlIHJlYWR5LgogICAgbGV0IGZpbGVEYXRhID0geWllbGQgewogICAgICBwcm9taXNlOiBmaWxlRGF0YVByb21pc2UsCiAgICAgIHJlc3BvbnNlOiB7CiAgICAgICAgYWN0aW9uOiAnY29udGludWUnLAogICAgICB9CiAgICB9OwoKICAgIC8vIFVzZSBhIGNodW5rZWQgc2VuZGluZyB0byBhdm9pZCBtZXNzYWdlIHNpemUgbGltaXRzLiBTZWUgYi82MjExNTY2MC4KICAgIGxldCBwb3NpdGlvbiA9IDA7CiAgICB3aGlsZSAocG9zaXRpb24gPCBmaWxlRGF0YS5ieXRlTGVuZ3RoKSB7CiAgICAgIGNvbnN0IGxlbmd0aCA9IE1hdGgubWluKGZpbGVEYXRhLmJ5dGVMZW5ndGggLSBwb3NpdGlvbiwgTUFYX1BBWUxPQURfU0laRSk7CiAgICAgIGNvbnN0IGNodW5rID0gbmV3IFVpbnQ4QXJyYXkoZmlsZURhdGEsIHBvc2l0aW9uLCBsZW5ndGgpOwogICAgICBwb3NpdGlvbiArPSBsZW5ndGg7CgogICAgICBjb25zdCBiYXNlNjQgPSBidG9hKFN0cmluZy5mcm9tQ2hhckNvZGUuYXBwbHkobnVsbCwgY2h1bmspKTsKICAgICAgeWllbGQgewogICAgICAgIHJlc3BvbnNlOiB7CiAgICAgICAgICBhY3Rpb246ICdhcHBlbmQnLAogICAgICAgICAgZmlsZTogZmlsZS5uYW1lLAogICAgICAgICAgZGF0YTogYmFzZTY0LAogICAgICAgIH0sCiAgICAgIH07CiAgICAgIHBlcmNlbnQudGV4dENvbnRlbnQgPQogICAgICAgICAgYCR7TWF0aC5yb3VuZCgocG9zaXRpb24gLyBmaWxlRGF0YS5ieXRlTGVuZ3RoKSAqIDEwMCl9JSBkb25lYDsKICAgIH0KICB9CgogIC8vIEFsbCBkb25lLgogIHlpZWxkIHsKICAgIHJlc3BvbnNlOiB7CiAgICAgIGFjdGlvbjogJ2NvbXBsZXRlJywKICAgIH0KICB9Owp9CgpzY29wZS5nb29nbGUgPSBzY29wZS5nb29nbGUgfHwge307CnNjb3BlLmdvb2dsZS5jb2xhYiA9IHNjb3BlLmdvb2dsZS5jb2xhYiB8fCB7fTsKc2NvcGUuZ29vZ2xlLmNvbGFiLl9maWxlcyA9IHsKICBfdXBsb2FkRmlsZXMsCiAgX3VwbG9hZEZpbGVzQ29udGludWUsCn07Cn0pKHNlbGYpOwo=",
              "ok": true,
              "headers": [
                [
                  "content-type",
                  "application/javascript"
                ]
              ],
              "status": 200,
              "status_text": ""
            }
          },
          "base_uri": "https://localhost:8080/",
          "height": 108
        }
      },
      "source": [
        "from google.colab import files \n",
        "files.upload()"
      ],
      "execution_count": 0,
      "outputs": [
        {
          "output_type": "display_data",
          "data": {
            "text/html": [
              "\n",
              "     <input type=\"file\" id=\"files-9a5526d6-72ce-44de-b0c1-2f059264f046\" name=\"files[]\" multiple disabled />\n",
              "     <output id=\"result-9a5526d6-72ce-44de-b0c1-2f059264f046\">\n",
              "      Upload widget is only available when the cell has been executed in the\n",
              "      current browser session. Please rerun this cell to enable.\n",
              "      </output>\n",
              "      <script src=\"/nbextensions/google.colab/files.js\"></script> "
            ],
            "text/plain": [
              "<IPython.core.display.HTML object>"
            ]
          },
          "metadata": {
            "tags": []
          }
        },
        {
          "output_type": "stream",
          "text": [
            "Saving per_day_cases.xlsx to per_day_cases.xlsx\n"
          ],
          "name": "stdout"
        },
        {
          "output_type": "execute_result",
          "data": {
            "text/plain": [
              "{'per_day_cases.xlsx': b'PK\\x03\\x04\\x14\\x00\\x06\\x00\\x08\\x00\\x00\\x00!\\x00\\xc7z\\x97\\x90u\\x01\\x00\\x00 \\x06\\x00\\x00\\x13\\x00\\x08\\x02[Content_Types].xml \\xa2\\x04\\x02(\\xa0\\x00\\x02\\x00\\x00\\x00\\x00\\x00\\x00\\x00\\x00\\x00\\x00\\x00\\x00\\x00\\x00\\x00\\x00\\x00\\x00\\x00\\x00\\x00\\x00\\x00\\x00\\x00\\x00\\x00\\x00\\x00\\x00\\x00\\x00\\x00\\x00\\x00\\x00\\x00\\x00\\x00\\x00\\x00\\x00\\x00\\x00\\x00\\x00\\x00\\x00\\x00\\x00\\x00\\x00\\x00\\x00\\x00\\x00\\x00\\x00\\x00\\x00\\x00\\x00\\x00\\x00\\x00\\x00\\x00\\x00\\x00\\x00\\x00\\x00\\x00\\x00\\x00\\x00\\x00\\x00\\x00\\x00\\x00\\x00\\x00\\x00\\x00\\x00\\x00\\x00\\x00\\x00\\x00\\x00\\x00\\x00\\x00\\x00\\x00\\x00\\x00\\x00\\x00\\x00\\x00\\x00\\x00\\x00\\x00\\x00\\x00\\x00\\x00\\x00\\x00\\x00\\x00\\x00\\x00\\x00\\x00\\x00\\x00\\x00\\x00\\x00\\x00\\x00\\x00\\x00\\x00\\x00\\x00\\x00\\x00\\x00\\x00\\x00\\x00\\x00\\x00\\x00\\x00\\x00\\x00\\x00\\x00\\x00\\x00\\x00\\x00\\x00\\x00\\x00\\x00\\x00\\x00\\x00\\x00\\x00\\x00\\x00\\x00\\x00\\x00\\x00\\x00\\x00\\x00\\x00\\x00\\x00\\x00\\x00\\x00\\x00\\x00\\x00\\x00\\x00\\x00\\x00\\x00\\x00\\x00\\x00\\x00\\x00\\x00\\x00\\x00\\x00\\x00\\x00\\x00\\x00\\x00\\x00\\x00\\x00\\x00\\x00\\x00\\x00\\x00\\x00\\x00\\x00\\x00\\x00\\x00\\x00\\x00\\x00\\x00\\x00\\x00\\x00\\x00\\x00\\x00\\x00\\x00\\x00\\x00\\x00\\x00\\x00\\x00\\x00\\x00\\x00\\x00\\x00\\x00\\x00\\x00\\x00\\x00\\x00\\x00\\x00\\x00\\x00\\x00\\x00\\x00\\x00\\x00\\x00\\x00\\x00\\x00\\x00\\x00\\x00\\x00\\x00\\x00\\x00\\x00\\x00\\x00\\x00\\x00\\x00\\x00\\x00\\x00\\x00\\x00\\x00\\x00\\x00\\x00\\x00\\x00\\x00\\x00\\x00\\x00\\x00\\x00\\x00\\x00\\x00\\x00\\x00\\x00\\x00\\x00\\x00\\x00\\x00\\x00\\x00\\x00\\x00\\x00\\x00\\x00\\x00\\x00\\x00\\x00\\x00\\x00\\x00\\x00\\x00\\x00\\x00\\x00\\x00\\x00\\x00\\x00\\x00\\x00\\x00\\x00\\x00\\x00\\x00\\x00\\x00\\x00\\x00\\x00\\x00\\x00\\x00\\x00\\x00\\x00\\x00\\x00\\x00\\x00\\x00\\x00\\x00\\x00\\x00\\x00\\x00\\x00\\x00\\x00\\x00\\x00\\x00\\x00\\x00\\x00\\x00\\x00\\x00\\x00\\x00\\x00\\x00\\x00\\x00\\x00\\x00\\x00\\x00\\x00\\x00\\x00\\x00\\x00\\x00\\x00\\x00\\x00\\x00\\x00\\x00\\x00\\x00\\x00\\x00\\x00\\x00\\x00\\x00\\x00\\x00\\x00\\x00\\x00\\x00\\x00\\x00\\x00\\x00\\x00\\x00\\x00\\x00\\x00\\x00\\x00\\x00\\x00\\x00\\x00\\x00\\x00\\x00\\x00\\x00\\x00\\x00\\x00\\x00\\x00\\x00\\x00\\x00\\x00\\x00\\x00\\x00\\x00\\x00\\x00\\x00\\x00\\x00\\x00\\x00\\x00\\x00\\x00\\x00\\x00\\x00\\x00\\x00\\x00\\x00\\x00\\x00\\x00\\x00\\x00\\x00\\x00\\x00\\x00\\x00\\x00\\x00\\x00\\x00\\x00\\x00\\x00\\x00\\x00\\x00\\x00\\x00\\x00\\x00\\x00\\x00\\x00\\x00\\x00\\x00\\x00\\x00\\x00\\x00\\x00\\x00\\x00\\x00\\x00\\x00\\x00\\x00\\x00\\x00\\x00\\x00\\x00\\x00\\x00\\x00\\x00\\x00\\x00\\x00\\x00\\x00\\x00\\x00\\x00\\x00\\x00\\x00\\x00\\x00\\x00\\x00\\x00\\x00\\x00\\x00\\xcc\\x94]K\\xc30\\x14\\x86\\xef\\x05\\xffC\\xc9\\xad\\xb4\\xd9&\\x88\\xc8\\xba]L\\xbd\\xd4\\x81\\xf3\\x07\\xc4\\xe4t-K\\x93\\x90\\x93\\xcd\\xed\\xdf{\\x9a} R7\\xc6\\nz\\xd3\\xd0$\\xe7}\\x9f|\\xbd\\xc3\\xf1\\xba\\xd6\\xc9\\n<V\\xd6\\xe4\\xac\\x9f\\xf5X\\x02FZU\\x99y\\xce\\xdeg\\xcf\\xe9=K0\\x08\\xa3\\x84\\xb6\\x06r\\xb6\\x01d\\xe3\\xd1\\xf5\\xd5p\\xb6q\\x80\\tU\\x1b\\xccY\\x19\\x82{\\xe0\\x1ce\\t\\xb5\\xc0\\xcc:04RX_\\x8b@\\xbf~\\xce\\x9d\\x90\\x0b1\\x07>\\xe8\\xf5\\xee\\xb8\\xb4&\\x80\\tih4\\xd8h\\xf8\\x08\\x85X\\xea\\x90<\\xad\\xa9{K\\xe2A#K&\\xdb\\x89\\x8dW\\xce\\x84s\\xba\\x92\"\\x10)_\\x19\\xf5\\xc3%\\xdd9dT\\x19\\xe7`Y9\\xbc!\\x0c\\xc6[\\x1d\\x9a\\x91\\xdf\\rvu\\xaf\\xb45\\xbeR\\x90L\\x85\\x0f/\\xa2&\\x0c\\xbe\\xd6\\xfc\\xd3\\xfa\\xc5\\x87\\xb5\\x8b\\xec\\xb8H\\x0b\\xa5-\\x8aJ\\x82\\xb2rY\\xd3\\x0ed\\xe8<\\x08\\x85%@\\xa8u\\x16\\xdb\\xac\\x16\\x95\\xd9s\\x1f\\xf1\\x8f\\x93\\x91\\xc7\\xa6\\xdf1H\\xb3\\xbe(|&\\xc7\\xe0\\x9fp\\xdc\\xfe\\x11G\\xa0\\xfb\\x0f<~/?\\x92(s\\xe2\\x000l4`\\xd7\\xd70\\x8a\\x9er.\\x85\\x07\\xf5\\x16<%E\\xe7\\x00\\xdf\\xb5OpH\\xa1\\xe5\\xa4\\xa4\\'\\xd3\\xf1&\\x1ct\\x8f\\xf9\\xd3;\\x9ez\\xeb\\x90\\x12\\xcd\\xc3\\xf9\\x00\\xfb\\xc8j\\xaaSGB\\xe0C\\x05\\x87\\xd0j{\\xfc\\x07GJ\\xc3\\x8bW\\x0cM\\xde*P-\\xde<\\xe6\\xfb\\xe8\\x0b\\x00\\x00\\xff\\xff\\x03\\x00PK\\x03\\x04\\x14\\x00\\x06\\x00\\x08\\x00\\x00\\x00!\\x00\\xb5U0#\\xf4\\x00\\x00\\x00L\\x02\\x00\\x00\\x0b\\x00\\x08\\x02_rels/.rels \\xa2\\x04\\x02(\\xa0\\x00\\x02\\x00\\x00\\x00\\x00\\x00\\x00\\x00\\x00\\x00\\x00\\x00\\x00\\x00\\x00\\x00\\x00\\x00\\x00\\x00\\x00\\x00\\x00\\x00\\x00\\x00\\x00\\x00\\x00\\x00\\x00\\x00\\x00\\x00\\x00\\x00\\x00\\x00\\x00\\x00\\x00\\x00\\x00\\x00\\x00\\x00\\x00\\x00\\x00\\x00\\x00\\x00\\x00\\x00\\x00\\x00\\x00\\x00\\x00\\x00\\x00\\x00\\x00\\x00\\x00\\x00\\x00\\x00\\x00\\x00\\x00\\x00\\x00\\x00\\x00\\x00\\x00\\x00\\x00\\x00\\x00\\x00\\x00\\x00\\x00\\x00\\x00\\x00\\x00\\x00\\x00\\x00\\x00\\x00\\x00\\x00\\x00\\x00\\x00\\x00\\x00\\x00\\x00\\x00\\x00\\x00\\x00\\x00\\x00\\x00\\x00\\x00\\x00\\x00\\x00\\x00\\x00\\x00\\x00\\x00\\x00\\x00\\x00\\x00\\x00\\x00\\x00\\x00\\x00\\x00\\x00\\x00\\x00\\x00\\x00\\x00\\x00\\x00\\x00\\x00\\x00\\x00\\x00\\x00\\x00\\x00\\x00\\x00\\x00\\x00\\x00\\x00\\x00\\x00\\x00\\x00\\x00\\x00\\x00\\x00\\x00\\x00\\x00\\x00\\x00\\x00\\x00\\x00\\x00\\x00\\x00\\x00\\x00\\x00\\x00\\x00\\x00\\x00\\x00\\x00\\x00\\x00\\x00\\x00\\x00\\x00\\x00\\x00\\x00\\x00\\x00\\x00\\x00\\x00\\x00\\x00\\x00\\x00\\x00\\x00\\x00\\x00\\x00\\x00\\x00\\x00\\x00\\x00\\x00\\x00\\x00\\x00\\x00\\x00\\x00\\x00\\x00\\x00\\x00\\x00\\x00\\x00\\x00\\x00\\x00\\x00\\x00\\x00\\x00\\x00\\x00\\x00\\x00\\x00\\x00\\x00\\x00\\x00\\x00\\x00\\x00\\x00\\x00\\x00\\x00\\x00\\x00\\x00\\x00\\x00\\x00\\x00\\x00\\x00\\x00\\x00\\x00\\x00\\x00\\x00\\x00\\x00\\x00\\x00\\x00\\x00\\x00\\x00\\x00\\x00\\x00\\x00\\x00\\x00\\x00\\x00\\x00\\x00\\x00\\x00\\x00\\x00\\x00\\x00\\x00\\x00\\x00\\x00\\x00\\x00\\x00\\x00\\x00\\x00\\x00\\x00\\x00\\x00\\x00\\x00\\x00\\x00\\x00\\x00\\x00\\x00\\x00\\x00\\x00\\x00\\x00\\x00\\x00\\x00\\x00\\x00\\x00\\x00\\x00\\x00\\x00\\x00\\x00\\x00\\x00\\x00\\x00\\x00\\x00\\x00\\x00\\x00\\x00\\x00\\x00\\x00\\x00\\x00\\x00\\x00\\x00\\x00\\x00\\x00\\x00\\x00\\x00\\x00\\x00\\x00\\x00\\x00\\x00\\x00\\x00\\x00\\x00\\x00\\x00\\x00\\x00\\x00\\x00\\x00\\x00\\x00\\x00\\x00\\x00\\x00\\x00\\x00\\x00\\x00\\x00\\x00\\x00\\x00\\x00\\x00\\x00\\x00\\x00\\x00\\x00\\x00\\x00\\x00\\x00\\x00\\x00\\x00\\x00\\x00\\x00\\x00\\x00\\x00\\x00\\x00\\x00\\x00\\x00\\x00\\x00\\x00\\x00\\x00\\x00\\x00\\x00\\x00\\x00\\x00\\x00\\x00\\x00\\x00\\x00\\x00\\x00\\x00\\x00\\x00\\x00\\x00\\x00\\x00\\x00\\x00\\x00\\x00\\x00\\x00\\x00\\x00\\x00\\x00\\x00\\x00\\x00\\x00\\x00\\x00\\x00\\x00\\x00\\x00\\x00\\x00\\x00\\x00\\x00\\x00\\x00\\x00\\x00\\x00\\x00\\x00\\x00\\x00\\x00\\x00\\x00\\x00\\x00\\x00\\x00\\x00\\x00\\x00\\x00\\x00\\x00\\x00\\x00\\x00\\x00\\x00\\x00\\x00\\x00\\x00\\x00\\x00\\x00\\x00\\x00\\x00\\x00\\x00\\x00\\x00\\x00\\x00\\x00\\x00\\x00\\x00\\x00\\x00\\x00\\x00\\x00\\x00\\x00\\x00\\x00\\x00\\x00\\x00\\x00\\xac\\x92MO\\xc30\\x0c\\x86\\xefH\\xfc\\x87\\xc8\\xf7\\xd5\\xdd\\x90\\x10BKwAH\\xbb!T~\\x80I\\xdc\\x0f\\xb5\\x8d\\xa3$\\x1b\\xdd\\xbf\\'\\x1c\\x10T\\x1a\\x83\\x03G\\x7f\\xbd~\\xfc\\xca\\xdb\\xdd<\\x8d\\xea\\xc8!\\xf6\\xe24\\xac\\x8b\\x12\\x14;#\\xb6w\\xad\\x86\\x97\\xfaqu\\x07*&r\\x96Fq\\xac\\xe1\\xc4\\x11v\\xd5\\xf5\\xd5\\xf6\\x99GJy(v\\xbd\\x8f*\\xab\\xb8\\xa8\\xa1K\\xc9\\xdf#F\\xd3\\xf1D\\xb1\\x10\\xcf.W\\x1a\\t\\x13\\xa5\\x1c\\x86\\x16=\\x99\\x81Z\\xc6MY\\xdeb\\xf8\\xae\\x01\\xd5BS\\xed\\xad\\x86\\xb0\\xb77\\xa0\\xea\\x93\\xcf\\x9b\\x7f\\xd7\\x96\\xa6\\xe9\\r?\\x889L\\xec\\xd2\\x99\\x15\\xc8sbg\\xd9\\xae|\\xc8l!\\xf5\\xf9\\x1aUSh9i\\xb0b\\x9er:\"y_dl\\xc0\\xf3D\\x9b\\xbf\\x13\\xfd|-N\\x9c\\xc8R\"4\\x12\\xf82\\xcfG\\xc7%\\xa0\\xf5\\x7fZ\\xb44\\xf1\\xcb\\x9dy\\xc47\\t\\xc3\\xab\\xc8\\xf0\\xc9\\x82\\x8b\\x1f\\xa8\\xde\\x01\\x00\\x00\\xff\\xff\\x03\\x00PK\\x03\\x04\\x14\\x00\\x06\\x00\\x08\\x00\\x00\\x00!\\x00\\xf4\\xf5\\x07;\\x13\\x01\\x00\\x00Y\\x04\\x00\\x00\\x1a\\x00\\x08\\x01xl/_rels/workbook.xml.rels \\xa2\\x04\\x01(\\xa0\\x00\\x01\\x00\\x00\\x00\\x00\\x00\\x00\\x00\\x00\\x00\\x00\\x00\\x00\\x00\\x00\\x00\\x00\\x00\\x00\\x00\\x00\\x00\\x00\\x00\\x00\\x00\\x00\\x00\\x00\\x00\\x00\\x00\\x00\\x00\\x00\\x00\\x00\\x00\\x00\\x00\\x00\\x00\\x00\\x00\\x00\\x00\\x00\\x00\\x00\\x00\\x00\\x00\\x00\\x00\\x00\\x00\\x00\\x00\\x00\\x00\\x00\\x00\\x00\\x00\\x00\\x00\\x00\\x00\\x00\\x00\\x00\\x00\\x00\\x00\\x00\\x00\\x00\\x00\\x00\\x00\\x00\\x00\\x00\\x00\\x00\\x00\\x00\\x00\\x00\\x00\\x00\\x00\\x00\\x00\\x00\\x00\\x00\\x00\\x00\\x00\\x00\\x00\\x00\\x00\\x00\\x00\\x00\\x00\\x00\\x00\\x00\\x00\\x00\\x00\\x00\\x00\\x00\\x00\\x00\\x00\\x00\\x00\\x00\\x00\\x00\\x00\\x00\\x00\\x00\\x00\\x00\\x00\\x00\\x00\\x00\\x00\\x00\\x00\\x00\\x00\\x00\\x00\\x00\\x00\\x00\\x00\\x00\\x00\\x00\\x00\\x00\\x00\\x00\\x00\\x00\\x00\\x00\\x00\\x00\\x00\\x00\\x00\\x00\\x00\\x00\\x00\\x00\\x00\\x00\\x00\\x00\\x00\\x00\\x00\\x00\\x00\\x00\\x00\\x00\\x00\\x00\\x00\\x00\\x00\\x00\\x00\\x00\\x00\\x00\\x00\\x00\\x00\\x00\\x00\\x00\\x00\\x00\\x00\\x00\\x00\\x00\\x00\\x00\\x00\\x00\\x00\\x00\\x00\\x00\\x00\\x00\\x00\\x00\\x00\\x00\\x00\\x00\\x00\\x00\\x00\\x00\\x00\\x00\\x00\\x00\\x00\\x00\\x00\\x00\\x00\\x00\\x00\\x00\\x00\\x00\\x00\\x00\\x00\\x00\\x00\\x00\\x00\\x00\\x00\\x00\\x00\\x00\\x00\\x00\\x00\\x00\\x00\\x00\\x00\\x00\\x00\\x00\\xbc\\x94\\xcfj\\xc30\\x0c\\xc6\\xef\\x83\\xbd\\x83\\xd1}q\\x92n]\\x19uz\\xd8\\x18\\xf4\\xbau\\x0f`l%\\x0eM\\xec`y\\x7f\\xf2\\xf639$\\x0b\\x94\\xec\\x12z1H\\xc2\\xdf\\xf7C\\xb2\\xbc?\\xfc\\xb4\\r\\xfbBO\\xb5\\xb3\\x02\\xb2$\\x05\\x86V9]\\xdbJ\\xc0\\xc7\\xe9\\xf5n\\x07\\x8c\\x82\\xb4Z6\\xce\\xa2\\x80\\x1e\\t\\x0e\\xc5\\xed\\xcd\\xfe\\r\\x1b\\x19\\xe2%2uG,\\xaaX\\x12`B\\xe8\\x9e8\\'e\\xb0\\x95\\x94\\xb8\\x0em\\xac\\x94\\xce\\xb72\\xc4\\xd0W\\xbc\\x93\\xea,+\\xe4y\\x9an\\xb9\\xff\\xab\\x01\\xc5L\\x93\\x1d\\xb5\\x00\\x7f\\xd4\\x1b`\\xa7\\xbe\\x8b\\xce\\xffk\\xbb\\xb2\\xac\\x15\\xbe8\\xf5\\xd9\\xa2\\r\\x17,\\xf8\\xb7\\xf3g2\\x88!\\x8aJ_a\\x100\\xa6\\x88\\x0f\\x95M\\x12\\x89\\x81_\\x86y\\\\\\x13F\\xc9F=\\x1bY\\xdb\\tfL-A\\xe4W\\xeeH\\xbe\\x04\\x93]\\x19&[\\x82\\xd9\\xae\\tCFz\\xd4\\xef\\xc1\\xc7U\\xa0iD\\xb3\\xf4\\x12\\xcc\\xc3\\xaa0\\xa1o\\xe2\\xe6\\x8d\\xaf\\x96\\x86x\\xc9\\xfe~M\\xfb\\x10\\xf7\\x19\\'\\xf7!\\xe4\\xc39\\xce\\x83\\xcf>\\x84\\xe2\\x17\\x00\\x00\\xff\\xff\\x03\\x00PK\\x03\\x04\\x14\\x00\\x06\\x00\\x08\\x00\\x00\\x00!\\x00\\xfd\\xfc2\\x85\\x89\\x03\\x00\\x00\\xa9\\x08\\x00\\x00\\x0f\\x00\\x00\\x00xl/workbook.xml\\xacU]o\\xa38\\x14}_i\\xff\\x03\\xe2\\x9db\\xf3\\x1d\\xd4t\\x14 \\xd1D;\\x1dU\\x9dL\\xe7q\\xe4\\x80S\\xac\\x00f\\x8c\\xc9\\x87\\xaa\\xf9\\xefs\\xed\\x844mG\\xablg\\xa3\\xc4`\\xfb\\xe6p\\xce\\xf5\\xb9\\x97\\xeb\\x0f\\xbb\\xba26Tt\\x8c7c\\x13_!\\xd3\\xa0M\\xce\\x0b\\xd6<\\x8e\\xcd\\xaf\\x8b\\x99\\x15\\x99F\\'IS\\x90\\x8a7tl\\xeeig~\\xb8\\xf9\\xfb\\xaf\\xeb-\\x17\\xeb%\\xe7k\\x03\\x00\\x9anl\\x96R\\xb6\\xb1mwyIk\\xd2]\\xf1\\x966\\xb0\\xb3\\xe2\\xa2&\\x12\\xa6\\xe2\\xd1\\xeeZAI\\xd1\\x95\\x94\\xca\\xba\\xb2\\x1d\\x84\\x02\\xbb&\\xac1\\x0f\\x08\\xb1\\xb8\\x04\\x83\\xafV,\\xa7\\x19\\xcf\\xfb\\x9a6\\xf2\\x00\"hE$\\xd0\\xefJ\\xd6v\\x03Z\\x9d_\\x02W\\x13\\xb1\\xee[+\\xe7u\\x0b\\x10KV1\\xb9\\xd7\\xa0\\xa6Q\\xe7\\xf1\\xfc\\xb1\\xe1\\x82,+\\x90\\xbd\\xc3\\xbe\\xb1\\x13\\xf0\\r\\xe0\\x87\\x11\\x0c\\xce\\xf0$\\xd8z\\xf3\\xa8\\x9a\\xe5\\x82w|%\\xaf\\x00\\xda>\\x90~\\xa3\\x1f#\\x1b\\xe3\\x17)\\xd8\\xbd\\xcd\\xc1eH\\x9e-\\xe8\\x86\\xa93<\\xb1\\x12\\xc1;Y\\x05\\'\\xac\\xe0\\x19\\x0c\\xa3?F\\xc3`-\\xed\\x95\\x18\\x92\\xf7N4\\xff\\xc4\\xcd1o\\xaeW\\xac\\xa2\\x0f\\x07\\xeb\\x1a\\xa4m?\\x93Z\\x9dTe\\x1a\\x15\\xe9\\xe4\\xb4`\\x92\\x16c3\\x84)\\xdf\\xd2\\x17\\x0b\\xa2o\\x93\\x9eU\\xb0\\x8b\\x91\\x8b\"\\xd3\\xbe9\\xd9\\xf9N\\x18\\x05]\\x91\\xbe\\x92\\x0b0\\xf2\\x00\\x0f\\x81A0r|\\x15\\t\\xc6\\x98T\\x92\\x8a\\x86H\\x9a\\xf2F\\x82\\x0f\\x8f\\xba\\xfe\\xd4s\\x1a;-98\\xdc\\xb8\\xa7?z&(\\x14\\x16\\xf8\\x0b\\xb4\\xc2H\\xf2\\x98,\\xbb;\"K\\xa3\\x17\\xd5\\xd8\\xb4\\xbfv \\xden\\x89\\xe8\\xab\\x16*\\x94\\xee\\xed\\x8cvk\\xc9[;\\xe5\\x1bV\\x18\\xf3\\xa6`\\xc4>\\xf3)y[\\x14\\xff\\xc1\\xa9$W\\xf2m\\xd0\\x7f\\xe0x\\xb8\\x7f\\x9d\\x0b\\xa0*\\xe2\\xc1\\x8dwR\\x18p?\\xcf>\\xc1\\x89|!\\x1b8\\x1fpAq,\\xdf\\xb9:\\x00\\xf7{\\x93\\x8b\\x18\\x7f\\x7f\\n\"\\'\\x08\\x9ddj%\\x18\\x87\\x16\\x0e\\xbc\\x00\\xee\\x82\\x91\\x85\\xb2\\xc8\\x9fb7\\xf5F\\x13\\xe7\\'\\x88\\x11A\\x9cs\\xd2\\xcb\\xf2x\\xf4\\nzlz\\xfeo\\xb6n\\xc9n\\xd8\\xc1(\\xeeY\\xf1L\\xe3\\t\\x1d?\\x96\\xba\\xbe\\x1a\\x86\\xbd\\x9fJ\\xb0jr\\x0f\\x8cn\\xbbg\\x93\\xa8\\xa9\\xb1\\xfb\\xc6\\x9a\\x82o\\xc7\\xa6\\x83|\\x07T\\xed\\x87\\xb9\\x17\\xc0l\\xab7\\xbf\\xb1B\\x96\\x10\\xe1E\\xdei\\xed#e\\x8f%0\\xc6\\xa1\\x8f`\\x91\\xe4\\x92m\\xe8\\x82,!LIp\\x14\\xcf\\xb1\\xf9\\xe4LfA\\x9a\\xe2\\xc4\\xcaR?\\xb0f\\xae\\x07\\xad8\\x8c\\xb0\\x15\\xa4.\\x1e\\x85\\xa1\\x17x\\xd9D\\xf3\\xb3\\xcf\\x08\\xea\\xe6\\nD\\xf5\\xd5htAh\\x17@\\x13W}Wg\\xdc4D\\xac\\x1e!\\xe6\\x05V\\x02_\\x04KR\\xed\\xcf\\x82\\x81\\xd2)\\xd8y\\x1d\\xfc\\x0f\\x87\\x86~\\x16\\xec\\x9e\\x05\\xbb\\xda+\\x03\\x9f\\x9cT9T\\x96\\xbah\\n#\\x8c\\x9c\\x91\\x8a\\xa0;\\xf9\\xa9\\x93\\xfa\\n\\xa6f\\xa0\\x1b{h\\x12\\xa2\\x91g\\xa1\\xa9\\xeb[^4r\\xac\\xc8s\\x1d+\\xf52g\\xea\\x87\\xd3l\\x9a\\xf8\\xca\\x06\\xea\\xad\\x13\\xff\\x1f\\xbdW\\xd7V<\\xbc\\xce\\x14\\xcb\\x92\\x08\\xb9\\x10$_\\xc3K\\xf0\\x9e\\xae\\x12\\xd2\\x81ou\\xaal\\xe0{N6\\xf1\\xa3\\x04\\xb9@\\xd1\\x9b\\xe1\\x99\\xe5\\xe1\\x11\\xb2\\x92$\\xf0,?\\x9b\\xb9~\\x88\\xb3t\\xea\\xcf\\x9e\\xc9*\\xf9\\xabwv\\xbe\\xc8\\xd6\\xff\\xa6D\\xf6\\xd0\\x15TC\\xd0\\xf3X\\x8d\\xb3\\xe3\\xeaiquX8\\x1a\\xe0E\\x89\\xc7\\xf7\\x99\\xca\\xfb\\xf1\\xdf\\xff\\x16\\xf8\\x05\\xd4W\\xf4\\xc2\\xe0\\xd9\\xc3\\x85\\x81\\xe9\\xe7\\xdb\\xc5\\xad\\xf6\\xc6o\\x05\\x1c\\x12\\xacFm\\x0b{8\\x96\\x9b_\\x00\\x00\\x00\\xff\\xff\\x03\\x00PK\\x03\\x04\\x14\\x00\\x06\\x00\\x08\\x00\\x00\\x00!\\x00\\xc1\\x17\\x10\\xbeN\\x07\\x00\\x00\\xc6 \\x00\\x00\\x13\\x00\\x00\\x00xl/theme/theme1.xml\\xecY\\xcd\\x8b\\x1b7\\x14\\xbf\\x17\\xfa?\\x0csw\\xfc5\\xe3\\x8f%\\xde\\xe0\\xcfl\\x93\\xdd$d\\x9d\\x94\\x1c\\xb5\\xb6\\xecQV32\\x92\\xbc\\x1b\\x13\\x02%9\\xf5R(\\xa4\\xa5\\x97Bo=\\x94\\xd2@\\x03\\r\\xbd\\xf4\\x8f\\t$\\xb4\\xe9\\x1f\\xd1\\'\\xcd\\xd8#\\xad\\xe5$\\x9blJZv\\r\\x8bG\\xfe\\xbd\\xa7\\xa7\\xf7\\x9e~z\\xf3t\\xf1\\xd2\\xbd\\x98zG\\x98\\x0b\\xc2\\x92\\x96_\\xbeP\\xf2=\\x9c\\x8c\\xd8\\x98$\\xd3\\x96\\x7fk8(4|OH\\x94\\x8c\\x11e\\tn\\xf9\\x0b,\\xfcK\\xdb\\x9f~r\\x11m\\xc9\\x08\\xc7\\xd8\\x03\\xf9Dl\\xa1\\x96\\x1fI9\\xdb*\\x16\\xc5\\x08\\x86\\x91\\xb8\\xc0f8\\x81\\xdf&\\x8c\\xc7H\\xc2#\\x9f\\x16\\xc7\\x1c\\x1d\\x83\\xde\\x98\\x16+\\xa5R\\xad\\x18#\\x92\\xf8^\\x82bP{}2!#\\xec\\r\\x95J\\x7f{\\xa9\\xbcO\\xe11\\x91B\\r\\x8c(\\xdfW\\xaa\\xb1%\\xa1\\xb1\\xe3\\xc3\\xb2B\\x88\\x85\\xe8R\\xee\\x1d!\\xda\\xf2a\\x9e1;\\x1e\\xe2{\\xd2\\xf7(\\x12\\x12~h\\xf9%\\xfd\\xe7\\x17\\xb7/\\x16\\xd1V&D\\xe5\\x06YCn\\xa0\\xff2\\xb9L`|X\\xd1s\\xf2\\xe9\\xc1j\\xd2 \\x08\\x83Z{\\xa5_\\x03\\xa8\\\\\\xc7\\xf5\\xeb\\xfdZ\\xbf\\xb6\\xd2\\xa7\\x01h4\\x82\\x95\\xa6\\xb6\\xd8:\\xeb\\x95n\\x90a\\rP\\xfa\\xd5\\xa1\\xbbW\\xefU\\xcb\\x16\\xde\\xd0_]\\xb3\\xb9\\x1d\\xaa\\x8f\\x85\\xd7\\xa0T\\x7f\\xb0\\x86\\x1f\\x0c\\xba\\xe0E\\x0b\\xafA)>\\\\\\xc3\\x87\\x9df\\xa7g\\xeb\\xd7\\xa0\\x14_[\\xc3\\xd7K\\xed^P\\xb7\\xf4kPDIr\\xb8\\x86.\\x85\\xb5jw\\xb9\\xda\\x15d\\xc2\\xe8\\x8e\\x13\\xde\\x0c\\x83A\\xbd\\x92)\\xcfQ\\x90\\r\\xab\\xecRSLX\"7\\xe5Z\\x8c\\xee2>\\x00\\x80\\x02R$I\\xe2\\xc9\\xc5\\x0cO\\xd0\\x08\\xb2\\xb8\\x8b(9\\xe0\\xc4\\xdb%\\xd3\\x08\\x12o\\x86\\x12&`\\xb8T)\\rJU\\xf8\\xaf>\\x81\\xfe\\xa6#\\x8a\\xb602\\xa4\\x95]`\\x89X\\x1bR\\xf6xb\\xc4\\xc9L\\xb6\\xfc+\\xa0\\xd57 /\\x9e={\\xfe\\xf0\\xe9\\xf3\\x87\\xbf=\\x7f\\xf4\\xe8\\xf9\\xc3_\\xb2\\xb9\\xb5*Kn\\x07%SS\\xee\\xd5\\x8f_\\xff\\xfd\\xfd\\x17\\xde_\\xbf\\xfe\\xf0\\xea\\xf17\\xe9\\xd4\\'\\xf1\\xc2\\xc4\\xbf\\xfc\\xf9\\xcb\\x97\\xbf\\xff\\xf1:\\xf5\\xb0\\xe2\\xdc\\x15/\\xbe}\\xf2\\xf2\\xe9\\x93\\x17\\xdf}\\xf5\\xe7O\\x8f\\x1d\\xda\\xdb\\x1c\\x1d\\x98\\xf0!\\x89\\xb1\\xf0\\xae\\xe1c\\xef&\\x8ba\\x81\\x0e\\xfb\\xf1\\x01?\\x9d\\xc40B\\xc4\\x92@\\x11\\xe8v\\xa8\\xee\\xcb\\xc8\\x02^[ \\xea\\xc2u\\xb0\\xed\\xc2\\xdb\\x1cX\\xc6\\x05\\xbc<\\xbfk\\xd9\\xba\\x1f\\xf1\\xb9$\\x8e\\x99\\xafF\\xb1\\x05\\xdcc\\x8cv\\x18w:\\xe0\\xaa\\x9a\\xcb\\xf0\\xf0p\\x9eL\\xdd\\x93\\xf3\\xb9\\x89\\xbb\\x89\\xd0\\x91k\\xee.J\\xac\\x00\\xf7\\xe73\\xa0W\\xe2R\\xd9\\x8d\\xb0e\\xe6\\r\\x8a\\x12\\x89\\xa68\\xc1\\xd2S\\xbf\\xb1C\\x8c\\x1d\\xab\\xbbC\\x88\\xe5\\xd7=2\\xe2L\\xb0\\x89\\xf4\\xee\\x10\\xaf\\x83\\x88\\xd3%Cr`%R.\\xb4Cb\\x88\\xcb\\xc2e \\x84\\xda\\xf2\\xcd\\xdem\\xaf\\xc3\\xa8k\\xd5=|d#a[ \\xea0~\\x88\\xa9\\xe5\\xc6\\xcbh.Q\\xecR9D15\\x1d\\xbe\\x8bd\\xe42r\\x7f\\xc1G&\\xae/$Dz\\x8a)\\xf3\\xfac,\\x84K\\xe6:\\x87\\xf5\\x1aA\\xbf\\n\\x0c\\xe3\\x0e\\xfb\\x1e]\\xc46\\x92Kr\\xe8\\xd2\\xb9\\x8b\\x183\\x91=v\\xd8\\x8dP<s\\xdaL\\x92\\xc8\\xc4~&\\x0e!E\\x91w\\x83I\\x17|\\x8f\\xd9;D=C\\x1cP\\xb21\\xdc\\xb7\\t\\xb6\\xc2\\xfdf\"\\xb8\\x05\\xe4j\\x9a\\x94\\'\\x88\\xfae\\xce\\x1d\\xb1\\xbc\\x8c\\x99\\xbd\\x1f\\x17t\\x82\\xb0\\x8be\\xda<\\xb6\\xd8\\xb5\\xcd\\x893;:\\xf3\\xa9\\x95\\xda\\xbb\\x18St\\x8c\\xc6\\x18{\\xb7>sX\\xd0a3\\xcb\\xe7\\xb9\\xd1W\"`\\x95\\x1d\\xecJ\\xac+\\xc8\\xceU\\xf5\\x9c`\\x01e\\x92\\xaak\\xd6)r\\x97\\x08+e\\xf7\\xf1\\x94m\\xb0goq\\x82x\\x16(\\x89\\x11\\xdf\\xa4\\xf9\\x1aD\\xddJ]8\\xe5\\x9cTz\\x9d\\x8e\\x0eM\\xe05\\x02\\xe5\\x1f\\xe4\\x8b\\xd3)\\xd7\\x05\\xe80\\x92\\xbb\\xbfI\\xeb\\x8d\\x08Yg\\x97z\\x16\\xee|]p+~o\\xb3\\xc7`_\\xde=\\xed\\xbe\\x04\\x19|j\\x19 \\xf6\\xb7\\xf6\\xcd\\x10Qk\\x82<a\\x86\\x08\\n\\x0c\\x17\\xdd\\x82\\x88\\x15\\xfe\\\\D\\x9d\\xabZl\\xee\\x94\\x9b\\xd8\\x9b6\\x0f\\x03\\x14FV\\xbd\\x13\\x93\\xe4\\x8d\\xc5\\xcf\\x89\\xb2\\'\\xfcw\\xca\\x1ew\\x01s\\x06\\x05\\x8f[\\xf1\\xfb\\x94:\\x9b(e\\xe7D\\x81\\xb3\\t\\xf7\\x1f,kzh\\x9e\\xdc\\xc0p\\x92\\xacs\\xd6yUs^\\xd5\\xf8\\xff\\xfb\\xaaf\\xd3^>\\xafe\\xcek\\x99\\xf3Z\\xc6\\xf5\\xf6\\xf5Aj\\x99\\xbc|\\x81\\xca&\\xef\\xf2\\xe8\\x9eO\\xbc\\xb1\\xe53!\\x94\\xee\\xcb\\x05\\xc5\\xbbBw}\\x04\\xbc\\xd1\\x8c\\x070\\xa8\\xdbQ\\xba\\'\\xb9j\\x01\\xce\"\\xf8\\x9a5\\x98,\\xdc\\x94#-\\xe3q&?\\'2\\xda\\x8f\\xd0\\x0cZCe\\xdd\\xc0\\x9c\\x8aL\\xf5Tx3&\\xa0c\\xa4\\x87u+\\x15\\x9f\\xd0\\xad\\xfbN\\xf3x\\x8f\\x8d\\xd3Ng\\xb9\\xac\\xba\\x9a\\xa9\\x0b\\x05\\x92\\xf9x)\\\\\\x8dC\\x97J\\xa6\\xe8Z=\\xef\\xde\\xad\\xd4\\xeb~\\xe8TwY\\x97\\x06(\\xd9\\xd3\\x18aLf\\x1bQu\\x18Q_\\x0eB\\x14^g\\x84^\\xd9\\x99X\\xd1tX\\xd1P\\xea\\x97\\xa1ZFq\\xe5\\n0m\\x15\\x15x\\xe5\\xf6\\xe0E\\xbd\\xe5\\x87A\\xdaA\\x86f\\x1c\\x94\\xe7c\\x15\\xa7\\xb4\\x99\\xbc\\x8c\\xae\\n\\xce\\x99Fz\\x933\\xa9\\x99\\x01Pb/3 \\x8ftS\\xd9\\xbaqyjui\\xaa\\xbdE\\xa4-#\\x8ct\\xb3\\x8d0\\xd20\\x82\\x17\\xe1,;\\xcd\\x96\\xfbY\\xc6\\xba\\x99\\x87\\xd42O\\xb9b\\xb9\\x1br3\\xea\\x8d\\x0f\\x11kE\"\\'\\xb8\\x81&&S\\xd0\\xc4;n\\xf9\\xb5j\\x08\\xb7*#4k\\xf9\\x13\\xe8\\x18\\xc3\\xd7x\\x06\\xb9#\\xd4[\\x17\\xa2S\\xb8v\\x19I\\x9en\\xf8wa\\x96\\x19\\x17\\xb2\\x87D\\x94:\\\\\\x93N\\xca\\x061\\x91\\x98{\\x94\\xc4-_-\\x7f\\x95\\r4\\xd1\\x1c\\xa2m+W\\x80\\x10>Z\\xe3\\x9a@+\\x1f\\x9bq\\x10t;\\xc8x2\\xc1#i\\x86\\xdd\\x18Q\\x9eN\\x1f\\x81\\xe1S\\xaep\\xfe\\xaa\\xc5\\xdf\\x1d\\xac$\\xd9\\x1c\\xc2\\xbd\\x1f\\x8d\\x8f\\xbd\\x03:\\xe77\\x11\\xa4XX/+\\x07\\x8e\\x89\\x80\\x8b\\x83r\\xea\\xcd1\\x81\\x9b\\xb0\\x15\\x91\\xe5\\xf9w\\xe2`\\xcah\\xd7\\xbc\\x8a\\xd29\\x94\\x8e#:\\x8bPv\\xa2\\x98d\\x9e\\xc25\\x89\\xae\\xcc\\xd1O+\\x1f\\x18O\\xd9\\x9a\\xc1\\xa1\\xeb.<\\x98\\xaa\\x03\\xf6\\xbdO\\xdd7\\x1f\\xd5\\xcas\\x06i\\xe6g\\xa6\\xc5*\\xea\\xd4t\\x93\\xe9\\x87;\\xe4\\r\\xab\\xf2C\\xd4\\xb2*\\xa5n\\xfdN-r\\xaek.\\xb9\\x0e\\x12\\xd5yJ\\xbc\\xe1\\xd4}\\x8b\\x03\\xc10-\\x9f\\xcc2MY\\xbcN\\xc3\\x8a\\xb3\\xb3Q\\xdb\\xb43,\\x08\\x0cO\\xd46\\xf8muF8=\\xf1\\xae\\'?\\xc8\\x9d\\xccZu@,\\xebJ\\x9d\\xf8\\xfa\\xca\\xdc\\xbc\\xd5f\\x07w\\x81<zp\\x7f8\\xa7R\\xe8PBo\\x97#(\\xfa\\xd2\\x1b\\xc8\\x946`\\x8b\\xdc\\x93Y\\x8d\\x08\\xdf\\xbc9\\'-\\xff~)l\\x07\\xddJ\\xd8-\\x94\\x1aa\\xbf\\x10T\\x83R\\xa1\\x11\\xb6\\xab\\x85v\\x18V\\xcb\\xfd\\xb0\\\\\\xeau*\\x0f\\xe0`\\x91Q\\\\\\x0e\\xd3\\xeb\\xfa\\x01\\\\a\\xd0Evi\\xaf\\xc7\\xd7.\\xee\\xe3\\xe5-\\xcd\\x85\\x11\\x8b\\x8bL_\\xcc\\x17\\xb5\\xe1\\xfa\\xe2\\xbe\\\\\\xd9|q\\xef\\x11 \\x9d\\xfb\\xb5\\xca\\xa0Ymvj\\x85f\\xb5=(\\x04\\xbdN\\xa3\\xd0\\xec\\xd6:\\x85^\\xad[\\xef\\rz\\xdd\\xb0\\xd1\\x1c<\\xf0\\xbd#\\r\\x0e\\xda\\xd5nP\\xeb7\\n\\xb5r\\xb7[\\x08j%e~\\xa3Y\\xa8\\x07\\x95J;\\xa8\\xb7\\x1b\\xfd\\xa0\\xfd +c`\\xe5)}d\\xbe\\x00\\xf7j\\xbb\\xb6\\xff\\x01\\x00\\x00\\xff\\xff\\x03\\x00PK\\x03\\x04\\x14\\x00\\x06\\x00\\x08\\x00\\x00\\x00!\\x00\\x9b\\x95\\xb7\\xb7\\xe4\\x02\\x00\\x00`\\x07\\x00\\x00\\r\\x00\\x00\\x00xl/styles.xml\\xacU[o\\xd30\\x14~G\\xe2?X~\\xcfriR\\xda*\\xc9D\\xd7E\\x9a4&\\xa4\\r\\x89W\\'qZk\\xbeD\\x8e[R\\x10\\xff\\x9d\\xe3$mS6`\\x0c\\xfa\\xd0\\xda\\xc7\\xf6w\\xbe\\xf3\\x9dK\\xe3\\xcbVp\\xb4\\xa3\\xbaaJ&\\xd8\\xbf\\xf00\\xa2\\xb2P%\\x93\\xeb\\x04\\x7fz\\xc8\\x9c\\x19F\\x8d!\\xb2$\\\\I\\x9a\\xe0=m\\xf0e\\xfa\\xf6M\\xdc\\x98=\\xa7\\xf7\\x1bJ\\r\\x02\\x08\\xd9$xcL\\xbdp\\xdd\\xa6\\xd8PA\\x9a\\x0bUS\\t\\'\\x95\\xd2\\x82\\x18\\xd8\\xea\\xb5\\xdb\\xd4\\x9a\\x92\\xb2\\xb1\\x8f\\x04w\\x03\\xcf\\x9b\\xba\\x820\\x89{\\x84\\x85(^\\x02\"\\x88~\\xdc\\xd6N\\xa1DM\\x0c\\xcb\\x19gf\\xdfaa$\\x8a\\xc5\\xcdZ*Mr\\x0eT[?$\\x05j\\xfd\\xa9\\x0eP\\xab\\x0fN:\\xeb\\x13?\\x82\\x15Z5\\xaa2\\x17\\x80\\xeb\\xaa\\xaab\\x05}Jw\\xee\\xce]R\\x9c\\x90\\x00\\xf9uH~\\xe4z\\xc1Y\\xec\\xad~%R\\xe8j\\xbac6}8\\x8d+%M\\x83\\n\\xb5\\x95&\\xc1\\x01\\x10\\xb5\\x12,\\x1e\\xa5\\xfa\"3{\\x04\\x19\\x1en\\xa5q\\xf3\\x15\\xed\\x08\\x07K\\x80\\xdd4.\\x14W\\x1a\\x19H\\x1d(\\xe7[\\x8b$\\x82\\xf67\\xae\\x08g\\xb9f\\xd6X\\x11\\xc1\\xf8\\xbe7w\\xef\\xbal\\x0f\\xf7\\x04\\x03\\xed\\xed-\\xd7\\xf2\\xe8\\xd9<\\xefG\\xaf\\xf3\\x04g\\x99\\xd7}\\xfe\\x8f\\xb3\\xceg\\x03N\\x19\\xe7#\\tzC\\x1aC\\xad\\x18\\xaae\\x06\\xa7hX?\\xeck\\x88UBY\\xf7\\x9c\\xe1\\xe8\\x8f\\xb7\\xd7\\x9a\\xec\\xfd \\x1a=p;\\x87i\\x9c+]B\\x1b\\x1d\\xc4\\xb7:\\xf7\\xa64\\xe6\\xb42\\xa0\\x8af\\xeb\\x8d\\xfd5\\xaa\\x86\\xef\\\\\\x19\\x03\\xa5\\x96\\xc6%#k%\\t\\xb7\\xba\\x1d^\\x0c\\x0b\\x08\\xa7\\xa0\\x9c\\xdf\\xdbV\\xfb\\\\\\x9da\\xb7\\x15\\x92[\\x91\\tsS&\\x18\\x9a\\xd6*~XB \\xc3\\xb2\\xc7\\xeb7\\x16\\x7f\\x8c\\xd6c\\x8f`\\'@\\xf9\\xefaQ[\\x1d\\xf1\\xcf^\\xfb\\xe1KX\\x1d\\x9f#R\\xd7|\\x7f\\xb7\\x159\\xd5Y73\\x86:\\xfc\\x15%\\x1f\\xe0\\x9f\\x8f\\xf4\\'L[\\xf9\\x03V\\'\\x00\\x84<\\xd2\\xf5L\\xd5\\xa3>\\xc8V\\x7f\\x82\\xef,\\x11\\x0e}4\\xc4\\x88\\xf2-\\xe3\\x86\\xc9g\\x14\\x05\\xcc\\xb2=\\xe5\\xc8\\xb3%b\\xec \\xea\\xb2w\\xf4\\x02\\xa9*iE\\xb6\\xdc<\\x1c\\x0f\\x13|Z\\x7f\\xa0%\\xdb\\nh\\xdd\\xe1\\xd6G\\xb6S\\xa6\\x83H\\xf0i}kK\\xc9\\x9fZ\\x1f\\xb45\\xb7\\r4\\x1b\\xfc\\xa2\\xadf\\t\\xfev\\xbd|7_]g\\x813\\xf3\\x963\\'\\x9c\\xd0\\xc8\\x99G\\xcb\\x95\\x13\\x85W\\xcb\\xd5*\\x9b{\\x81w\\xf5}4\\x0e\\xffa\\x18v\\xd3\\x1b\\xaa\\xc6\\x0f\\x17\\r\\x87\\x91\\xa9\\x87`\\x07\\xf2\\xf7\\'[\\x82G\\x9b\\x9e~\\xd7D@{\\xcc}\\x1eL\\xbd\\xf7\\x91\\xef9\\xd9\\xc4\\xf3\\x9dpJf\\xcel:\\x89\\x9c,\\xf2\\x83\\xd54\\\\^GY4\\xe2\\x1e\\xbdrhz\\xae\\xef\\xf7\\xe3\\xd7\\x92\\x8f\\x16\\x86\\t\\xca\\x99<\\xe4\\xea\\x90\\xa1\\xb1\\x15\\x92\\x04\\xdb\\xdf\\x04\\xe1\\x1e2\\xe1\\x9e\\xfe\\x1a\\xd3\\x1f\\x00\\x00\\x00\\xff\\xff\\x03\\x00PK\\x03\\x04\\x14\\x00\\x06\\x00\\x08\\x00\\x00\\x00!\\x00\\xc8/{\\xcdk\\t\\x00\\x00\\x941\\x00\\x00\\x18\\x00\\x00\\x00xl/worksheets/sheet3.xml\\x9c[]o\\xeb6\\x12}/\\xb0\\xff\\xc1\\xd0\\xbbc}RR\\x90\\xe4\"\\x96\\x1a\\xb4@\\x0b,v\\xdb\\xddg\\xc5\\x96\\x13\\xe1\\xda\\x96WR>.\\x8a\\xfe\\xf7\\x1d\\x8eh\\x9b:2m3\\xc0\\xedm\\xc29\\x1e\\x1e\\x8f\\x86s\\x86\\x14\\xef\\xdd\\xb7\\xcf\\xcdz\\xf2^6mUo\\xef\\x1d\\xef\\xc6u&\\xe5vQ/\\xab\\xed\\xcb\\xbd\\xf3\\xe7\\x1fO\\xd3\\xc4\\x99\\xb4]\\xb1]\\x16\\xebz[\\xde;?\\xca\\xd6\\xf9\\xf6\\xf0\\x8f\\x9f\\xee>\\xea\\xe6{\\xfbZ\\x96\\xdd\\x84<l\\xdb{\\xe7\\xb5\\xebv\\xb7\\xb3Y\\xbbx-7E{S\\xef\\xca-YVu\\xb3):\\xfa\\xb5y\\x99\\xb5\\xbb\\xa6,\\x96\\xfc\\xa1\\xcdz\\xe6\\xbb\\xae\\x98m\\x8aj\\xeb\\xf4\\x1en\\x9bk|\\xd4\\xabU\\xb5(\\xf3z\\xf1\\xb6)\\xb7]\\xef\\xa4)\\xd7EG\\xfc\\xdb\\xd7j\\xd7\\xee\\xbdm\\x16\\xd7\\xb8\\xdb\\x14\\xcd\\xf7\\xb7\\xddtQov\\xe4\\xe2\\xb9ZW\\xdd\\x0fv\\xeaL6\\x8b\\xdb__\\xb6uS<\\xaf\\xe9{\\x7fza\\xb1\\x98|6\\xf4\\xc7\\xa7\\xff\\x82\\xfd4<>\\x9aiS-\\x9a\\xba\\xadW\\xdd\\ry\\x9e\\xf5\\x9c\\xc7_?\\x9d\\xa5\\xb3bq\\xf04\\xfe\\xfeW\\xb9\\xf1\\xc2YS\\xbeW\\xf2\\x01\\x1e]\\xf9_\\xa3\\xe4E\\x07_\\xfe\\xd1Y\\xf0Eg\\xe2\\xe0L\\x86\\xab\\xb9}\\xab\\x96\\xf7\\xce_\\x8f\\xf3d.\\xfc8\\x99z\\x8f\\xc9\\xcf\\xd34\\x0f\\x1f\\xa7\\xe9S\\x14N}/\\x8f\\x1f\\x93\\xa7\\xe81\\x0e\\xfc\\xbf\\x9d\\x87\\xbbeEOX~\\xabIS\\xae\\xee\\x9dG\\xef6\\x8f]g\\xf6p\\xc7\\t\\xf4\\x9f\\xaa\\xfch\\xb5\\x9f\\']\\xf1\\xfc\\xefr].\\xba\\x92&\\xf1\\x9cIW\\xef~+W]V\\xae\\xd7\\xf4\\xe1\\x90\\xf2Zf\\xecs]\\x7f\\x97\\x1f\\xfd\\x95@.M\\xd2\\xf2G\\xe4$\\xc5\\xa2\\xab\\xde\\xcb\\x1e\\x9e\\xc7D\\xb8\\xfd\\x1f\\xcf+\\x7f\\xa6Ig\\x87Y\\xf5\\x9f\\xf7\\x0c\\x9e8\\xcb\\xff\\xd9L\\x9e\\x8b\\xb6\\xcc\\xea\\xf5\\x7f\\xabe\\xf7J4h\\xd6e\\xb9*\\xde\\xd6\\xdd\\xbf\\xea\\x8f_\\xca\\xea\\xe5\\xb5\\xa3QA\\xd1\\x90\\xe9t\\xbb\\xfc\\x91\\x97\\xed\\x82\\xf2\\x98\\xc8\\xdc\\xf8r\\x9aE\\xbd&\\x9f\\xf4\\xf7dS\\xd1z\\x0c)\\r\\x8bO\\xfe\\xffG\\xef\\xd2\\x8fo\\x84\\x08]\\xe1G\\xce\\xe4\\xb9l\\xbb\\xa7Jzt&\\x8b\\xb7\\xb6\\xab7\\xfby\\x99q\\xef\\x8by\\xe7EW<\\xdc5\\xf5\\xc7\\x84\\x92\\x8c\\xd0\\xed\\xae\\x90K\\xd6\\xbb\\xa5\\tNR!\\x0e\\x12\\xfa(\\x03y\\xef\\xb4\\x14\\xa9\\xf7\\x07\\xf7n\\xf6N_~\\xa1ls\\xdd\\xe6\\rm\\x99n\\xf3\\x87\\xb6\\\\\\xce\\x7f\\xefP~\\x1d<\\x07\\x07\\xc4\\x8c8\\x1e\\x88\\x12\\xe4j\\xa2\\x12+\\xbf\\x9a$\\x1a\\x06I\\x84d}\\xb6 M\\x1c\\x1dL/s\\xe0\\xda8I\\xac>=L4\\x0fNN/GW\\x0f\\xf3`:\\xa7\\x18\\xad\\x861\\x1eP\\xa1\\xc7t5\\x15\\x89\\xd5\\xa9@\\xf8\\xe7\\xe1I*rt\\xc5O\\xe4\\xb5h\\xca\\xa5\\xd3/\\xba,\\xbc\\xcdDL\\x0e+^.\\xf3p:\\xa7gu\\x8e)\\xa5\\xe5\\xd5L%VgzL\\x03N\\xbeyt\\x92\\xa9\\x1c\\x1d0\\xed\\xc9\\xd1\\xe2\\xd1St\\x10>ZpW\\x93\\x92X\\x9dT\\x08Y/\\x98\\x14\\x045\\x93\\xa3&R\\xc7\\\\\\x18\\x90\\x92a\\xbd6\\xbd$V\\'\\x15\\x01\\xa9\\xf8$)9j\\x19)\\xa9\\xf6\\xd7\\x92\\x92X\\x9d\\x94\\x00R\\t\\x93\\x82\\x87\\x9a\\xc9Q\\xcbH\\xa5\\x16\\xa4$V\\'\\x15\\x03\\xa9\\xb4\\xaf\\x10P\\xae\\xe4\\xa8%)Y\\xdb\\xaf/\\xa3\\x12\\xac\\xd3J\\xb0\\x96J1\\xa2\\xca\\x85eT\\x0e[>B\\xcf\\xaa\\xbe\\xf7\\xc5\\xf8X7S$\\xa6LHL\\x0e\\xdb\\x12\\xb3\\xa9\\xe7\\x1e\\x14t1R\\x9f\\xbevC\\xd2e\\xf493\\xb1\\xe3\\xaa\\x1d\\xacD\\xcf\\xa6\\xd23X{\\x94\\x02K=\\x01\\xe4\\xa3\\xf4F\\x92\\xc8\\xd5^/\\xb1Z\\xe1:.\\xe8!3\\x9b\\xc2\\xefA\\xe5\\x17X\\xf9\\t\\xc0\\xcc\\xb0x\\xf1\\xb8m\\xfa\\xdb\\x14z\\x0f*\\xbd\\xc0JO\\x00f\\x06u-\\xe3q\\x133C\\xd7 \\xdb\\xab\\xeb\\x17&\\x94{\\x81\\xe5\\x9e\\xbc\\x9dfv\\xae\\xe2\\x1fsu\\xf84\\xf5\\x92/[\\xe2SM\\xe0\\xa1\\xf3\\x82\\x9a/\\xb0\\xe6{}\\xd1\\xf7F+\\xe0\\\\\\xd97h\\x91\\xa7\\xd7\\xfd\\x8b\\xcc\\xa0\\xf0\\x0b,\\xfc\\xe4\\x8dc\\x06\\xb5$\\xe3q\\xdb\\xa7\\xa9\\x17\\xff\\x8b\\xcc\\xa0\\xfa\\x0b\\xac\\xfe^_\\xfe}\\x14%\\x1e71;\\xa6\\xc4\\xb0;\\xd5\\x05\\xe0\\x123\\x1f\\x04@\\xa0\\x00\\x10@\\xc6\\xccG\\x05\\xe0q\\xcb\\xb5\\xe9\\xeb\\np\\x91\\x19(\\x80@\\x05 o\\xa7\\x99}A\\x02|]\\x02.2\\x03\\t\\x88G=}/\\x01><\\xe5\\x8cf1k\\x80i\\xaf\\xa1k\\xc0Ef\\xd0\\xee\\xc7\\xa8\\x01~\\xaf\\x01cf\\xe74\\xc0P5|]\\x03.2\\x03\\r\\x88Q\\x03\\xc8\\x1b?M\\xc8\\xbf\\x8c\\xc7m\\xf3L\\xd7\\x80\\x8b\\xcc@\\x03b\\xd4\\x00\\xda\\xd1\\x9ef\\xf6\\x85\\x86\\xdf\\xd75\\xe0\"3\\xd0\\x80\\x185\\x80\\xbc\\x9df\\xf6\\x05\\r\\xf0m4\\x80\\xc1Z\\xaf\\x11\\xa3\\x06\\x10\\xe04\\xb3/\\xb4\\xfe\\xbe\\x8d\\x060Xg\\x86\\x1a@\\x80\\xd3\\xcc\\xce\\xf5\\xff\\xa6\\x15`\\xa3\\x01>h@\\x8c\\x1a@\\x00f\\x86\\xea\\xc4\\xe3\\x96+ \\xb0\\xd1\\x00\\x06\\xeb1C\\r \\x80d\\x16@\\x9d\\xcbx\\xdc\\x96\\x99\\x8d\\x06\\x04\\xa0\\x011j\\x00\\x01\\x98\\x19\\xf6\\xb4<n\\xcb\\xccF\\x03\\x02\\xd0\\x80\\x045\\x80\\x00\\x92Y\\x84\\xf5\\x8c\\xc7M\\xcc\\xb4\\xba<<\\xf1\\xb1:\\xf2\\x01\\x11HFg>\\xfb\\x8d\\xc0(jgw\\x02P\\x17\\xf3\\xa0wcX\\x1b\\x81\\xcd\\x0e\\x81\\xc1Z\\x06&\\xa8\\x0e\\x04\\xe0\\xb5\\xe1\\xe2\\xe2`\\x83)\\x9c)\\x04?Wn\\x0c\\xcdf`\\xb3u`\\xb0N\\x19e\\x83\\x00\\x92r\\x18`\\x1f\\xcc\\x06c\\x06\\xa04\\xe7\\xca\\x8fa\\x8b\\x18\\xd8l*\\x18\\xacsFA!\\x80\\xe4,\\\\\\xdc\\x89\\xb1\\xc1\\xb8\\x9e\\xb0\\xd1\\xce\\x95\\x1fCK\\x13\\xd8\\x9c01X\\xe7\\x8cRC\\x00\\xc99\\t\\xb0wf\\x831\\xce\\x01$\\x7f\\xae\\xfc\\x18\\x9a\\xea\\xc0\\xe6\\x00\\x8a\\xc1:g\\x14!\\x02H\\xce)j@\\xc6\\x06c\\x9cCx^\\xb9\\xf2c\\xd8\\xa4\\x076\\xe7S\\x0c\\xd69\\xa3<\\x11@r\\xf6|<X\\xc8\\xd8b\\x0ct2\"\\xdd;:\\xc6dx\\xa2ls|%\\xdf\\x9e\\xe8\\xc7W\\t*\\x17\\x01\\x98t\\x8c)\\x9a\\xb1\\xc5D:r!\\xcbr\\xe5\\xe8\\x18\\x94!i\\x9b\\xa3\\xad\\x10D-AQ#\\x00\\x17\\xbb \\xc0\\r\\x04[\\x8c\\xa4\\xb1\\xdb\\xcf\\x95\\xa3cP\\x86\\xa4m\\x8e\\xbdB\\xd0\\xbb\\x14\\xf5\\x8e\\x00\\xbd\\x12\\xe3\\x1b\\x8e\\x8c-&\\xd2\\x89\\x87\\xb2\\xa2\\x1c\\x1d\\x832$m\\xa3\\x84!(a\\x8aJH\\x00&\\x1d\\x8f\\x8a4[\\x8c\\x91N`A\\xe7\\xca\\x91g\\x10\\xc3\\xd0\\xea=\\tl\\x95\\xd2\\xd1\\x8b\\x92^\\x0c\\xc3 \\xc0c)\\x9a\\xc7\\xbc\\xc1\\x8cRH\\xb4\\x9c\\xe1\\x83\\x13\\xc1a\\xacm\\xf40\\x84mT\\x8azH\\x00n\\x88<\\x0c^\\xc6\\x16c\\x82DX\\xa8\\x95#\\xcf\\xa0\\x88\\xa1\\x8d\"2X\\xabz)*\"\\x01\\x98\\xb5\\xf0\\xb1Yb\\x8b\\x89u\\x88\\x8f&W\\x8e\\xb4t\\x1f\\xc6\\xdaF\\x13C8\\x82KQ\\x13\\t\\xc0:\\xeec\\xf1\\xcd\\xd8bb-\\xf0\\xfc3W\\x8e<\\x83*\\x866\\xaa\\xc8`=\\xd6\\xa8\\x8a\\x04`\\xd6\\x11\\xe6N\\xc6\\x16\\x13\\xeb\\x00\\x9b\\xc2\\\\9\\xf2\\x0c\\xba\\x18\\xda\\xe8\"\\x83u\\xd6\\xa8\\x8b\\x04\\x90\\xacc7\\x1ce\\xc8\\xb9\\xb77a\\x88\\xcd\\xa9r\\xa4\\x9d\\x9b\\x0e2$\\xb2\\x11F\\x06\\xeb\\xacQ\\x18\\t\\xc0\\xac\\x03\\xac\\xbf\\x19[\\xcc\\x1b\\x14|i\\xae\\x1cy\\x06e\\x8cl\\x94\\x91\\xc1:kTF\\x020\\xeb0\\xc6m\\x15[\\xcc\\r*\\xca\\xb9r\\xe4\\x19\\xa41\\xb2\\x91F\\x06\\x1fY\\xa7.J#\\x01\\x98u4\\x8e\\xf5\\xd9\\x03\\xc1\\x11iu+\\xc0 \\x8d\\x91\\x8d42X\\'\\x8d\\xd2H\\x00&\\x1dG(2l1&H8J\\x10u\\xe4h\\x90\\xc6\\xc8F\\x1a\\x19\\xac\\xb3Fi$\\x00\\xb3N\\xf0\\xb48c\\x8b1A\\xb4\\x02\\xc7\\xaf\\xf8s\\xe5H\\xab\\xfa\\xc3\\xc5hu\\x9d`(\\x8d\\xa9;\\xbaO\\xd0Kc\\x9c\\xe2\\xf9F\\x16\\x9d;c\\xf4\\xb4vC\\xb1VG\\x95\\x06i\\x8cl\\xa4\\x91\\xc1z\\xacQ\\x1a\\t c\\x9d\\xb8#Ag\\x8b1\\xd6.T\\xd0\\\\9\\xd2^~\\x0ccm#\\x8d\\xd1P\\x1aSl\\xe4\\xe7\\x04`\\xd6\\xfe\\xa8\\xe5c\\x8b\\x915\\xb6\\xb5\\xb9r\\xa4\\xbd\\x18\\x19\\xb2\\xb6\\x91\\xc6h\\xf8\\xe6*uQ\\x1a\\t\\xc0\\xac\\x03\\x1f\\xcf\\xe0\\xd8bl\\x9ep\\xef\\xa5\\xfc\\xf8\\x06e\\x8cl\\x94\\x91\\xc1z\\x82\\xa02\\x12\\x80I\\x87\\xe3\\xbawN\\x19Q\\xfds\\xe5\\xc77\\xec\\x18\\x85\\x8d02X\\'\\x8d\\xc2H\\x00&\\x1d\\xe1{\\xcd\\x8c-\\xe6\\xfc\\xc0\\xba\\xa7\\x1c\\x99\\x8e\\xf4\\x84\\x8d02Xg\\x8d\\xc2H\\x00f-\\xa2\\xd1\\x05\\xa0so\\xc3\\x12\\\\\\x8a\\xca\\x8fo\\xd0Ea\\xa3\\x8b\\x0c\\xd6Hc\\xb5\\xa2\\xcb\\x96=\\xe9\\x187&\\x19[\\x8c\\xa1\\x0eG\\xac\\xd5\\xfb6\\x830\\n\\x1bad\\xb0\\xce\\x1a\\x85\\x91\\x00\\x1c\\xea$\\xc5\\xdd9[L\\xacGg\\x91\\xca\\x8fv\\xa8>\\xa8\\x1f\\xc2F\\x17\\x19\\xac\\x93F]$\\x00\\x93NG\\x877l1n\\x08\\xb0~(?\\xda\\xe1\\xd9\\x90\\xb4\\x8d,\\n\\x90E\\xac\\x12s\\x02H\\xd2\\xa4\\x97\\xa3H\\x9f\\x93\\xc5\\x187\\xe7\\xcaO`PEau\\x0bo\\xf8N.\\xc5\\xc6aN\\xde\\x98\\xb47&}\\xf6.\\x1ev\\x8d\\xb9r\\xa4\\x1dk\\x0eCm\\xa3\\x8a|UR\\xcf\\x0f\\xdc0\\x12\\x80Y\\xfb\\xa3M\\x0c[\\xccZ>J\\x90\\xdeQ`\\xd80\\n\\x1bUd\\xb0\\xce\\x1aU\\x91\\x00\\xcc:\\xd0\\x1e-7B\\x19[\\x06\\xac\\xf9\\xce\\xb4\\x1c\\xe7;\\xa3T\\x14\\xe7\"\\x99\\xce\\xe5E\\x0c\\xbe5\\x8aGC\\xb9\\xf2\\xad\\xed\\xe3\\x87\\xe1\\xb7QJ\\xb1\\x7f\\xf5\\'\\xefk\\xeb\\x17\\x89\\xe9\\xde\\xb8\\xc5]\\xcb\\xfda\\xe7\\xc1K\\x7f\\xf7\\xbb\\xbfC\\xbd+^\\xca\\xdf\\x8b\\xe6\\xa5\\xda\\xb6\\x935\\xdd/\\x977\\xb7)E\\x9a\\xfej7\\xffL7\\xcfyT\\xde\\xd0\\xae;\\xba\\x95\\xbd\\xff\\xed\\x95\\xfe\\xf5CI\\xb7\\xaa\\xdd\\x1b\\xaa\\x94\\xab\\xba\\xee\\xf6\\xbf\\xc8\\x99\\x0e\\xff\\x9e\\xe2\\xe1\\xff\\x00\\x00\\x00\\xff\\xff\\x03\\x00PK\\x03\\x04\\x14\\x00\\x06\\x00\\x08\\x00\\x00\\x00!\\x00\\x18\\x9f\\x07\\x8c0\\n\\x00\\x00\\xfb9\\x00\\x00\\x18\\x00\\x00\\x00xl/worksheets/sheet1.xml\\x9c\\x9b[o\\xe3\\xba\\x15\\x85\\xdf\\x0b\\xf4?\\x18~O\\xac\\x9b/\\n\\x12\\x1f\\x8ce\\xda\\x1d\\xa0\\x05\\x8a\\xa2\\x97g\\xc5\\x96\\x13cl+\\xb5\\x9cd\\x06\\x07\\xfd\\xef\\xdd\\xdc\\xa2lr\\x91R\\xc4\\x03\\x9c3\\x93Y\\xdcY\\xd2\\'\\x91\\xd4\\x12%=\\xfe\\xf6\\xf3x\\x18|\\x14\\xe7j_\\x9e\\x9e\\x86\\xe1}0\\x1c\\x14\\xa7M\\xb9\\xdd\\x9f^\\x9e\\x86\\xff\\xfa\\xe7\\xean6\\x1cT\\x97\\xfc\\xb4\\xcd\\x0f\\xe5\\xa9x\\x1a\\xfe*\\xaa\\xe1o\\xf3?\\xff\\xe9\\xf1\\xb3<\\xff\\xa8^\\x8b\\xe22 \\x87S\\xf54|\\xbd\\\\\\xde\\x1eF\\xa3j\\xf3Z\\x1c\\xf3\\xea\\xbe|+N\\xd4\\xb2+\\xcf\\xc7\\xfcB\\xff<\\xbf\\x8c\\xaa\\xb7s\\x91o\\xf9\\x97\\x8e\\x87Q\\x14\\x04\\x93\\xd11\\xdf\\x9f\\x86\\xb5\\xc3\\xc3\\xb9\\x8fG\\xb9\\xdb\\xed7\\xc5\\xb2\\xdc\\xbc\\x1f\\x8b\\xd3\\xa569\\x17\\x87\\xfcB\\xfb_\\xbd\\xee\\xdf\\xaa\\xc6\\xed\\xb8\\xe9cw\\xcc\\xcf?\\xde\\xdf\\xee6\\xe5\\xf1\\x8d,\\x9e\\xf7\\x87\\xfd\\xe5\\x17\\x9b\\x0e\\x07\\xc7\\xcd\\xc3\\xf7\\x97Sy\\xce\\x9f\\x0f\\xc4\\xfd3L\\xf2\\xcd\\xe0\\xe7\\x99\\xfe\\x8b\\xe8\\xff\\xb8\\xd9\\x0c\\xeb\\xd6\\x96\\x8e\\xfb\\xcd\\xb9\\xac\\xca\\xdd\\xe5\\x9e\\x9cG\\xf5>\\xdb\\xf8\\xe9(\\x1d\\xe5\\x9b\\xab\\x93\\xcd\\xdf\\xcb&LF\\xe7\\xe2c/O\\xe0\\xcd*\\xfac\\xbb\\x14\\x8e\\xaf^\\xd1\\xcd,\\xfe\\x83f\\x93\\xab\\x99<\\\\\\xe7\\x87\\xf7\\xfd\\xf6i\\xf8\\xfbl!\\xa6q6\\x8b\\xef\\xc28I\\xeefA\\x12\\xd3\\x1f\\xb3\\xec.J\\xc3\\xe4\\xdb,\\x9b\\xc4Y\\xb0\\xf8\\xdfp\\xfe\\xb8\\xdd\\xd3\\x19\\x96T\\x83s\\xb1{\\x1a~\\x0b\\x1f\\xd6\\x93`8\\x9a?r\\x07\\xfa\\xf7\\xbe\\xf8\\xac\\xb4\\x9f\\x07\\x97\\xf2\\xed\\xaf\\xc5\\xee\\x92\\x15\\x87\\x03\\x15G\\x93\\xe1@\\xf6\\xd0\\xe7\\xb2\\xfc!K\\xbf\\xd3\\x96\\x032\\xad\\x8aC\\xb1\\x91}e\\x90\\xd3_\\x1fE]\\xfe}<\\xa5^\\xfe_\\xde\\x8e\\xfc\\x9962\\xbanE\\xff\\xb9\\xd9\\xe2\\x8a{\\xf5\\xdf\\xcf\\x83\\xe7\\xbc*\\xb2\\xf2\\xf0\\x9f\\xfd\\xf6\\xf2J\\xc3\\x87F\\xcf\\xb6\\xd8\\xe5\\xef\\x87\\xcb?\\xca\\xcf\\xbf\\x14\\xfb\\x97\\xd7\\x0b\\xa9\\xb4/\\xdcM\\x1e\\xb6\\xbf\\x96E\\xb5\\xa1~K;s\\x1f\\xc9\\xcdl\\xca\\x03y\\xd2\\x9f\\x83\\xe3\\x9e\\xc6\\x1f\\xed\\xc61\\xff\\xc9\\x7f\\x7f\\xd6\\x96\\xd1\\xf4~2I\\x82I4\\x1e\\x0e\\x9e\\x8b\\xea\\xb2\\xdaK\\xc7\\xe1`\\xf3^]\\xcac\\xb3]\\xde\\xe3\\xda\\x8b\\xf7{\\x99_\\xf2\\xf9\\xe3\\xb9\\xfc\\x1cP\\xa7\\xa2\\xea\\xea-\\x97C4|\\xa0\\r8w\\x85\\xf6A\\x96~\\xa3Z\\xf2\\xaf\\xe8H}\\xcc\\x83\\xc7\\xd1\\x07\\xc1oT\\xdbBo\\x0b\\xcd\\xb6Lo\\x8b\\xcc\\xb6\\xa5\\xde61\\xdb\\x84\\xde\\x96\\x98m+\\xbdml\\xb6\\xad\\xf5\\xb6\\xf8\\xda6\"\\xe2+6u\\xe0\\xde\\xd8\\xb2V\\x1e(\\x89\\x9d\\xc4\\xb3\\t\\xa2G\\xdc\\x82\\xd0Nu\\xe9TE\\xad\\x82\\xef\\nU\\x03\\x80\\x06Mo\\x00Y\\xab\\x03\\xc0\\xae.b\\'\\x80Tw\\xf3E|\\xb7\\xa0s\\xb6s\\x9c\\xf3\\xa5\\xf3\\xf7D\\xad\"\\x0c\\xaa\\x06L\\xe2\\x01#ku\\x18\\xe8P\\x8b\\xc4\\t#\\xd5\\x1d\\xf7\\xde\\xd7\\xfc\\\\l\\x87\\xf5\\xb4\\x91%\\x0f\\x19M\\x1b\\x83j\\xcf\\x13\\xc0\"\\xb9[P\\x7fq\\xb2:mE\\xad\"+\\xaa\\x06+\\r\\xd5\\xde\\'N\\xd6\\xea\\xac\\xb7\\xce\\xcc\\x03r1fV8\\x02\\x99T\\r\\xd6\\x1a\\x8f&\\x94\\x8f9\\x9c\\xfa\\xa5\\xd3A\\xd4*b\\xa1j`\\xd14\\xd6\\x1bK\\xd6\\xeaX0\\xb6\\x17\\x13\\xc6\\x02\\xd8L\\xaa}\\xb1\\x9c\\x0e\\xa2V\\x11\\x0bU\\x03KN\\xfd}\\xa7GY\\xabc\\xc1\\xb4\\xb4\\x98:\\xb1\\xa4\\xda\\x86\\x05\\xbb\\xbat:\\x88ZE,T\\r,\\x99\\xdb\\xfab\\xc9Z\\x1d\\x0bf\\xe9\\xc5\\xcc\\x89%\\xd5\\xbeXN\\x07Q\\xab\\x88\\x85\\xaa\\x81\\x95z`\\xc9Z\\x1dk\\n\\x17\\xb4\\xd4\\x89%\\xd5\\xbeXN\\x07Q\\xab\\x88\\x85\\xaa\\x81%\\x93C\\xff\\x8b\\xb4,\\xd6\\xc1fx\\xa5\\x96Q\\xe7c\\x8e\\xc3\\x8b6\\xd2\\x1f\\x8d\\x8b-\\x0f\\xa1d\\x84\\xb3d\\x93\\xce+\\x82\\xc8b\\x9d.E\\xba\\xfa:m\\xd1I\\xb9\\xef\\x89\\x0b\\x9d\\x1eB\\xc9\\x16]]}\\x93M:\\x9f\\xa4\\x11B\\xd4\\x98Z)\\xab\\xce\\x04\\x16\\x9d\\x94{\\xd39=\\x04m\\xdbq\\x8d_Y\\xb2I\\xe7\\x13CB\\xc8!S\\xcc!T\\xe0\\xec\\x99\\x9cD\\xf4\\x8b\\xb7vA\\xc3)\\xd2\\xed!\\x94l\\x9d\\xbb\\xceX\\x12\\xfa\\xe4\\x12.\\xd6z\\xe6\\x14\\x83\\t\\x158\\xe9\\xach\\xd2E\\xe7\\xf4\\x10\\xca\\xda\\xa2\\xeb\\x0c\"\\xa1O\\x12\\xe1b\\x9d\\x0e\\xa3\\x08\\x158\\xe9\\xba\\xc2\\x88u\\xee\\x9c\\x1eBY[t\\x9dyD\\xdeW\\xf5\\x9f3!\\x91L1\\x91\\x90\\x9b\\x93\\xae+\\x93Xt\\xeeP\\xa2\\xac-\\xba\\xceX\\x12\\xea\\xb9\\xa4\\xed\\x0e\\xf2z\\xdb\\x06\\xc1d\\x8a\\xc1\\x84\\xdc\\x9ct>\\xd1\\xc4\\xed!\\x94l\\xd1u\\xa6\\x93P\\x8f\\'_\\xd2A>\\x99b>!7\\'\\x9dOBq{\\x08%[t\\x9d!%\\xd4S\\xca\\x97t\\x10S\\xa6\\x18S\\xc8\\xcdI\\xe7\\x13T\\xdc\\x1eB\\xc9\\x16]gV\\x89\\xf4\\xac\\xf2\\x15\\x1d\\x17\\xeb\\xb3\\nf\\x15*p\\xd1\\xb1\\xdc\\xf7z\\xe7\\xf6\\x10JF:K6\\x97\\r\\xf4\\xac\\xf2%\\x1dd\\x95)f\\x95\\xc8\\x9dUX\\xeeM\\xe7\\xce*\\xca\\xda\\xa2\\xeb\\xcc*\\x91\\x9eU\\xbe\\xa4\\x83\\xac2\\xc3\\xacBn\\xces\\xe7\\x93U\\xdc\\x1eB\\xc9\\x16]\\xe7\\x8aI\\xa4g\\x95/\\xe9 \\xab\\xcc0\\xab\\x90\\x9b\\x93\\xce\\'\\xab\\xb8=\\x84\\x92-\\xba\\xce\\xac\\x12\\xe9Y\\xe5K:XD\\x99aV!7\\'\\x9dOVq{\\x08%[t\\x9dYE.p^\\xaf\\xe6_\\xd2\\xc1\\xb2\\xc9\\x0c\\xb3\\n\\xb99\\xe9|\\xb2\\x8a\\xdbC(\\xd9\\xa2\\xeb\\xcc*r=\\xba?\\x1dd\\x95\\x19f\\x15rs\\xd2\\xf9d\\x15\\xb7\\x87P\\xb2E\\xd7\\x99U\"\\x9f\\xac\\xc2\\xc5\\xda\\x15a\\x86Y\\x85\\n\\x9ct>Y\\xc5\\xed!\\x94l\\xd1uf\\x95\\xc8\\'\\xabp\\xb1N\\x87Y\\x85\\n\\x9ct>Y\\xc5\\xed!\\x94l\\xd1uf\\x95\\xc8\\'\\xabp\\xb1N\\x87Y\\x85\\n\\x9ct>Y\\xc5\\xed!\\x94l\\xd1uf\\x95\\xd8\\'\\xabp\\xb1N\\x87Y\\x85\\n\\\\t,\\xf7\\xbd\\x9a\\xbb=\\x84\\x92\\x91\\xce\\x92\\xcd\\'\\x04>Y%\\x86\\xac2\\xc3\\xacB\\x05N:\\x9fu\\x15\\xb7\\x87P\\xb2E\\xd7\\x99Ub\\x9f\\xac\\xc2\\xc5\\xda\\xb9K1\\xabP\\x81\\x93\\xce\\'\\xab\\xb8=\\x84\\x92-\\xba\\xee\\xa7;^\\x8fw \\xab\\xa4\\xd6\\xf3\\x1dwV\\x89}\\xb2\\n\\x17\\xdb+~J\\xb6\\xe8:\\xb3J\\xec\\xb3\\xae\\xc2\\xc5\\xfa\\xb9\\xc3\\xacB\\x05\\xf2\\xdc\\xc1T\\x9a\\xb1\\xdc6\\xee \\x11,\\x95\\x07\\xc8\\xc2-\\xaf\\x94|\\x836\\xc7\\x9d\\xcf\\xbaJ\\x0cY%\\xc5\\xacB\\x05\\x92\\x0e\\x86c\\xc6ro\\xba\\xda\\x03\\x1f\\xaf*k\\xd8\\xe2J\\xc9mt>\\xeb*1d\\x95\\x14\\xb3\\n\\x15\\xf0\\xb8\\xc3GX\\xac\\xb7\\xe1E\\xd6\\xd9\\xab]\"8H\\xa2q\\x87G\\xc7Jn\\x03\\xf4y\\xe4\\x13\\xc3\\xd2J\\x8aq\\x85\\n\\x18\\x10WlY\\xef\\xfb4\\xab1\\x81Q&\\x1a\\x1d\\xf9:\\x03K\\xec\\xf3\\xec\\x87\\x8b\\xf5\\xc1\\x87\\x81\\x85\\n\\x98\\x0fNl\\xc6zo>e\\x02\\xf3\\x96h\\xcc\\x91\\xaf3\\xb2\\xc4>\\x0f\\x81\\xb8X\\xe7\\xc3\\xc8B\\x05\\xcc\\x07z\\xc6z\\xef\\xf1\\xa7L\\xe0 \\x89\\xc6\\x1c\\xf9:CK\\xe2\\xf30\\x88\\x8bu>\\x0c-T \\xf9\\x12\\xec\\x9f\\xac\\xb7\\xf1A\\'X6&\\xd8?\\x95\\x8e\\x13\\x8c\\x92[\\xc6_\\xe2\\xf38\\x88\\x8bu>\\x8c-T \\xf9\\xc6\\xb0k\\x19\\xebm|p\\xb2\\x97\\xca$\\x01](\\xdd\\xe2\\xeb\\x0c.\\x89\\xcf\\x03!.\\xbe\\xf1\\xa5\\x01\\x06\\x17*\\xe0\\x8b\\x1f\\xcc;\\x19\\xeb\\xad\\xe3\\x0f\\xaa\\x97\\x8d\\x0b\\x0e@\\xa5\\xe3\\xbb7Jn;\\x81>\\xd9%1\\xb3K\\x1a`v\\xa1\\x027\\xa0OxiL,\\xbe\\xda\\xdc\\xe2\\xeb~Y\\xc5\\xebm\\x15s\\xa5%\\r\\xac\\xd7U\\xea\\xf4\\x82\\xeb\\xbaY\\xd2\\xb5\\xd4\\x12\\xe2[T\\\\\\xfd1\\xc7gNB\\xe9\\x16 \\xbe\\xcdb\\xbe\\x8d\\xe3\\x13`\\x123\\xc0\\xa4\\x01\\x06\\x18*\\x90\\'\\x10o\\xe43\\xd6\\xdbz(LSKe2\\xc5\\x80\\xa6\\xf4\\x10\\xf3\\xa7\\xd2o\\x87\\xc9\\x04\\xf4\\xc90\\x89\\x99a\\xd2\\x003\\x0c\\x15H\\xc0\\x10\\xc7f\\xc6\\r\\xfd\\xc7`m3\\x03tq\\xb5\\x87\\xab\\x84\\xd2\\xa1\\'\\xac\\x95\\xdc66}\\xc2Mb\\x86\\x9b4\\xc0pC\\x05L\\x8e\\x87?\\xe3\\x86Vr8YKe\\x83\\xd9I4\\xf6\\xd6\\xfcZo\\xd6\"W{\\xe3~\\xe1/\\xf1\\x89=\\\\\\xacO\\xbb\\x18{\\xa8\\xa0&\\xc7\\xdc\\xc3\\rm\\xe4P\\xbcT.)\\xe6\\xd6\\xc6\\xdd\\x02\\xaf\\xb7j\\x81\\xa3lvv\\x9f<\\x94\\x98\\x8f\\x9b\\xd2\\x00\\xf3\\x10\\x150xb]P\\xbb\\x16q\"+1(\\x1b\\x8c\\xf2\\xe2\\xea\\x8f\\xbd\\xbd\\xfe\\x05\\x0b\\x1dW\\x94\\xccW\\xed|\\xa2\\xd2\\xd8|o&\\r0*Q\\x01\\xa3\\xe3K\\x19\\x197\\xb4fA\\xec\\xed\\x8d\\xcd\\x18\\xe7\\xb2\\xa6\\x01\\'k\\xa5C\\xf9Z\\xc9\\xb7j\\x13\\xdd\\'E\\x8d\\xcd\\xc5\\x9f4\\xc0\\x14E\\x05\\x8c\\x9e\\xc21\\xc9\\xb8\\xa1\\xf5>\\rg\\xf1\\xc6\\x06\\x1f\\xa6\\x88\\xa6\\xc1Bw.:\\xadU\\xf9m:2\\xd1}\\x02\\xd6\\xd8|\\x8a\\x95\\xe2T\\xb6\\xa0\\x02\\x89\\x1e%x\\x07\\xce\\rm\\xe8c\\xeb=Kecu\\xf8\\xc6\\x1fz\\xf6J\\xe9pD\\xd6J\\xbe\\x8d\\'\\x13\\xdd\\'z\\x8d!z\\x85\\x18\\xbd\\xa8\\xa0\\xbe9\\xb7\\xd0\\xbb\\xb2\\x17>\\x07\\\\66\\x18\\xed\\x84j\\xc0C\\xb2R\\xba\\x85^\\xef\\xcemF2\\xd1}R\\xd9\\x18R\\x19\\xe6\\xa9\\x05\\x150:.\\xa5e\\xdc\\xd0z_\\x84\\xb1\\xac\\xb1\\x99`\\xf0T\\r6\\xbaJ\\x83\\xf0B\\xbb*\\xbf\\x8d\\'\\x13\\xdd\\xeb\\x95b\\xc8k!\\xe6\\xb5q\\x9d\\xd7\\x92\\x895\\xd6\\xbb\\x1e\\x8fa~]66\\x11\\x84\\x06\\xa1\\x1abk\\xac;\\x17\\xba\\xd6\\xaa\\xfc\\xd6\\x05Mt\\x9f$7\\x86$\\x17b\\x92\\xa3\\x02\\xbeY\\x0c\\xad\\x0e\\xdf\\xf5\\xec\\xcc\\x1e\\xeb\\xb5M\\x82\\xef\\xb7\\t\\xe5\\x1f\\x83\\xfdJ\\xe9 \\xaf\\x95\\xacMI&\\xbbO\\x96\\xe3oX\\xb4D\\x13b\\x96\\xa3\\x02\\xbe\\xcf\\np\\x1d\\x95\\x1bZs:\\xde*+\\x9b\\xb1}u\\xab\\xfdq\\xa1a\\xa5~\\x01\\xe7\\xddu\\xa3\\xdfF\\x8e\\t\\xef\\x13\\xe7\\xc6\\xe6+Bi\\x88q\\x8e\\n\\x18\\x1e\\xd7\\'3nh\\x85\\xb7\\xaeo\\xca&\\xb6.\\xeduC\\x02\\x07}\\xa5\\xb6\\x8b\\xfb\\xb3n\\xf4\\x96\\xfb\\x97\\xb1O\\xa4\\xe3b\\xfd\\xccc\\xa4\\xa3\\x02\\xbeA\\xc3\\x11\\x99qCk\\x8a\\xc7\\x04\\xb8T>\\xd3\\x04fAqm\\x80L\\xa7\\xf4\\x10\\x0e\\xe3\\xba\\xd1oG\\xd18\\xf5\\xfc\\xc1F\\xdf\\x97\\xd7\\xb9X\\xa7\\xc7TG\\x05\\x92>\\xc5s&\\xbf\\x0bi\\x7f\\xa7\\x16#\\xfbR\\xd9\\xcc\\xac5\\xe8\\xa6\\x01\\xa7;\\xa5G\\x10\\x0f\\xe5Wlu\\xc0\\x86\\xdb\\x98\\xfa\\x93\\xb3\\xfa\\xd3\\xad\\xb7\\xfc\\xa5\\xf8[~~\\xd9\\x9f\\xaa\\xc1\\x81>k\\x93\\x1f\\x8c\\xd1dp\\xae\\xbf(\\xe3\\x9f\\xe9\\x837V\\xe5\\x87a\\xe5\\x85>\\x06k\\xfe\\xf5J\\x1fY\\x16\\xf41WpO\\x97\\xff]Y^\\x9a\\x7f\\xc8\\xcf\\xda\\xae\\x9fm\\xce\\xff\\x0f\\x00\\x00\\xff\\xff\\x03\\x00PK\\x03\\x04\\x14\\x00\\x06\\x00\\x08\\x00\\x00\\x00!\\x00j\\xc2\\xda\\xbe\\xdc\\x00\\x00\\x00]\\x01\\x00\\x00\\x14\\x00\\x00\\x00xl/sharedStrings.xmll\\x90\\xc1N\\x031\\x0cD\\xefH\\xfc\\x83\\xe5;M\\x8a\\x04T(\\x9b\\nu\\xc5\\x91\\x03*\\x1f`e\\xddn\\xa4\\xddd\\x1b{\\x0b\\xfd{\\x82zAm\\x8f3O\\xf6\\xd8\\xe3\\xd6?\\xe3\\x00G.\\x12sjp\\xb9\\xb0\\x08\\x9cB\\xeeb\\xda7\\xf8\\xb5}\\x7fX!\\x88R\\xeah\\xc8\\x89\\x1b<\\xb1\\xe0\\xda\\xdf\\xdf9\\x11\\x85:\\x9b\\xa4\\xc1^uz5FB\\xcf#\\xc9\"O\\x9c*\\xd9\\xe52\\x92VY\\xf6F\\xa6\\xc2\\xd4I\\xcf\\xac\\xe3`\\x1e\\xad}6#\\xc5\\x84\\x10\\xf2\\x9c\\xb4\\xe6>!\\xcc)\\x1ef\\xde\\x9c\\x8d\\x17\\xf4N\\xa2w\\xea[RvF\\xbd3\\x7f\\xfa\\xecm\\xb3\\xd2\\x00\\x1b\\x12\\x96K\\xf4\\xc1\\xdf\\xb7AK\\'\\x01\\xda)\\x17\\x90\\xb9L$R_\\x84\\xa5\\xb5\\x10n\\xed\\xf9\\xe4\\x90k-\\xdc]\\x06\\xb4L\\xda_\\xc5\\xbe\\x05\\x8d\\xc7\\x7fw\\x9aZ\\x8f\\xff\\x05\\x00\\x00\\xff\\xff\\x03\\x00PK\\x03\\x04\\x14\\x00\\x06\\x00\\x08\\x00\\x00\\x00!\\x00\\xb4OK\\x9aV\\x08\\x00\\x00c+\\x00\\x00\\x18\\x00\\x00\\x00xl/worksheets/sheet2.xml\\x9cZko\\xabF\\x10\\xfd^\\xa9\\xff\\x01\\xf1\\xdd1\\xfb\\xe2a%\\xbe\\xba\\x86F\\xad\\xd4JU\\xd5\\xc7gb\\xe3\\x18]\\xdb\\xb8@\\x92{U\\xf5\\xbfwv\\xc0\\xf12\\xb0\\xa9\\xd7\\xd2}$\\xcc\\xf1\\xeca\\x99=g\\x16\\xef\\xfd\\xa7\\xaf\\x87\\xbd\\xf7Z\\xd4MY\\x1d\\x1f|v\\x17\\xf8^q\\\\W\\x9b\\xf2\\xf8\\xfc\\xe0\\xff\\xf1\\xfb\\xe3,\\xf6\\xbd\\xa6\\xcd\\x8f\\x9b|_\\x1d\\x8b\\x07\\xff[\\xd1\\xf8\\x9f\\x96\\xdf\\x7fw\\xffV\\xd5_\\x9a]Q\\xb4\\x1ed86\\x0f\\xfe\\xaemO\\x8b\\xf9\\xbcY\\xef\\x8aC\\xde\\xdcU\\xa7\\xe2\\x08\\x91mU\\x1f\\xf2\\x16~\\xad\\x9f\\xe7\\xcd\\xa9.\\xf2\\r~\\xe8\\xb0\\x9f\\xf3 \\x08\\xe7\\x87\\xbc<\\xfa]\\x86E}M\\x8ej\\xbb-\\xd7EV\\xad_\\x0e\\xc5\\xb1\\xed\\x92\\xd4\\xc5>o\\x81\\x7f\\xb3+O\\xcd9\\xdba}M\\xbaC^\\x7fy9\\xcd\\xd6\\xd5\\xe1\\x04)\\x9e\\xca}\\xd9~\\xc3\\xa4\\xbewX/~z>Vu\\xfe\\xb4\\x87\\xfb\\xfe\\xcad\\xbe\\xf6\\xbe\\xd6\\xf0\\x87\\xc3_q\\x1e\\x06\\xaf\\x8fF:\\x94\\xeb\\xbaj\\xaam{\\x07\\x99\\xe7\\x1d\\xe7\\xf1\\xed\\'\\xf3d\\x9e\\xaf\\xdf3\\x8d\\xef\\xff\\xaa4L\\xce\\xeb\\xe2\\xb5\\xd4\\x0f\\xf0\\x92\\x8a\\xdfF\\x89\\xa9\\xf7\\\\\\xfc\\x92L\\xdc\\x98,|O\\xa6\\xa7\\xab^\\xbc\\x94\\x9b\\x07\\xff\\x1f\\xc5\\xc3\\x80\\xc9,\\x9c\\xc9(\\x8bfI(\\xf9,\\xc9\\x021{\\x94\\x0cB\\xd1j\\x15\\'?\\xfc\\xeb/\\xef7%<a}W^]l\\x1f\\xfc\\xcfl\\x91\\xa9\\xc4\\x9f/\\xef\\xb1\\x80\\xfe,\\x8b\\xb7\\xc6\\xf8\\xd9k\\xab\\xd3\\xcf\\xc5\\xb6M\\x8b\\xfd\\x1e\\xc0\\\\\\xf9\\x9e\\xae\\xd0\\xa7\\xaa\\xfa\\xa2\\xa1?\\xc1\\xc8\\x01$m\\x8a}\\xb1\\xd6\\xb5\\xe2\\xe5\\xf0\\xdfk\\xd1\\xc13\\x15B\\x95\\xff\\x8d\\xe3\\xc0\\xcf\\xe7\\x81\\xe6\\xef#-\\xef/?\\x9fG}\\xc4\\xca\\xfe\\xb5\\xf6\\x9e\\xf2\\xa6H\\xab\\xfd_\\xe5\\xa6\\xdd\\xc1\\x12\\x82\\x15\\xb4)\\xb6\\xf9\\xcb\\xbe\\xfd\\xadz\\xfb\\xb1(\\x9fw-\\\\\\x85\\x01\\xb0T\\x16\\x9boY\\xd1\\xac\\xa1v\\x81\\xd0\\x1d\\xd7\\xf7\\xb3\\xae\\xf6\\x90\\x13\\xfe\\xf5\\x0e%\\xacA\\t\\xa5\\x97\\x7f\\xc5\\xff\\xdf\\xba\\x94<\\xba\\x0bC\\x19\\x84\\xfa\\xa6\\x9e\\x8a\\xa6},uF\\xdf[\\xbf4mu8\\x8f\\xabS\\xcd\\xbb\\\\\\xc8;\\xcb\\xdb|y_Wo\\x1e\\x14\\x16\\xa0\\x9bS\\xae\\x97)[\\xc0\\x00\\x93T\\x80\\x83\\x86~\\x06,\\xe4o`\\xb6^\\x97\\xc1\\xfd\\xfcU\\xa7\\xedc+3\\xc6\\x86\\xb1\\xd4\\x8c\\xf1a,3c\\xe2=6\\x07v\\xef\\x14\\xa1\\xe0\\xae\\xa6\\xa8\\xb1\\xfa\\xa64E)\\xe2\\x90PYq\\x8c\\x10\\x12)\\xbd:\\x18\\x1eJ\\xf4\\xea\\xe15\\xd6\\x1c\\x9e\\x0c\\xb4\\x12\\x93\\xc3\\xeb\\xab\\xdb\\xe5J\\xccV\\x80\\xdf\\x0egw@\\x05\\x1e\\xd0\\xd5T4\\xd6\\xa4r\\x99\\\\|\\x98+9IE_\\xdd\\xe2S\\xde\\xe5u\\xb1\\xf1\\xbb%\\x96\\xcaE\\nK\\xcckJ\\\\,+9[A\\xba\\x8f\\x98BA^\\xcdTcM\\xa6\\x92\\x94\\x96\\x9ad\\xaa\\xaf\\x0e\\x98v\\xe4\\xa0\\xd6\\xcd\\xe2\\x1cL\\x9f^\\xcb\\xd7\\xd6\\xba\\xc6\\x9a\\xa4\\x14!\\x15N\\x92\\xd2W\\x1dIE\\x0e\\xa44\\xd6$\\x15\\x12R\\xd1$)}\\xd5\\x91\\x94\\xf6\\xf6kgJcMR\\x11!\\x15#)R~\\xa9\\xbej#uY\\xb4\\x83\\xc7\\xa7\\x0b\\xf0ZR\\x1ak\\x92\\x8a\\t\\xa9d\\x92\\x94\\xbe\\xea8SZ\\xd5\\xaf\\x17P\\r6i%TE\\xb5\\x15\\xbd.\\xe9d\\xc1 \\xee\\xc4\\x9c\\x94]\\x83\\rb\\xd1H\\xde;I\\x1d\\x11\\xd3\\x97]g\\xccE\\xcf\\x19\\x11\\xf4\\x88\\n:\\x00&gL_v%\\xe6\\xa2\\xf4\\x8cH}D\\xa5\\x1e\\x00\\x93\\xc4P\\xecM\\x85\\xfd\\x7f\\xddb.\\xba\\x8f`\\xf3QR\\xe1\\x07\\xc0$\\xb1\\x91\\xf4_A\\xccE\\xe6\\x19\\xd1\\xf9\\x88\\xea<\\x00&\\x89\\xdd\\xa0\\xf4\\xba\\xab\\xba~U\\x12\\xad\\x8f\\xa8\\xd6C\\xb6Ib7\\xa8=s\\x91{\\x04\\x9b\\x8f\\x92\\xea=\\x00&\\x89\\xdd\\xa0\\xf8\\xccE\\xf2\\x11\\xfc!\\xb1i\\xd1\\x87\\xcf\\xb9\\xafJ\\x17\\xd9gD\\xf7#jF\\x00\\x98\\x9c\\xb1\\x1b\\x94\\x9f\\xbb(?\\x82\\xcd\\x19\\xa3\\x86\\x04\\x80)bx\\xd9Q\\xc7\\xb8\\x8b\\xf2#\\xd8$F-\\t\\x00\\x93\\xc4nP~\\xee\\xd4\\xc9\\x13\\xe5\\x8f\\xa9%A\\xb6Ib7(?wQ~\\x04\\x1b3\\x16\\x8f\\xf6\\x18\\xd3\\xca\\x0f\\x9fs.~\\xee\\xa2\\xfc\\x086\\x89QK\\x02\\x80\\x9e1Nf2\\xc5\\xeb\\xd6f\\xec\\xb2\\x84\\x86\\xbb2\\x17\\xed\\xd7\\x1bT\\xb3\\xbf\\x88\\xa9)\\x01@S\\x8bH\\xf5\\xa5x\\xddFM]\\xd0Cj.\\xea\\xcf\\x89\\xfa\\xc7\\xd4\\x96\\x00\\xa0\\xa91E\\xb4$\\xc5\\x80\\x8d[D\\x16x\\xd6\\xa7\\xb9\\xcc\\xfd\\x90\\xb2\\x8b/p\\xb2\\x0f\\x88\\xa9a\\x01\\x00\\x1f4\\x1fM\\xe7G\\xce@[\\x98\\xacOci\\xc7\\xb9\\x8bc \\xd8\\xacMje\\x00\\xc0\\xd5\\xcci\\x8b\\x89\\x01\\xdb,\\'\\xe4ae}\\x9aK\\xe5\\x0fg\\xd9\\xc5K8\\xf1\\x92\\x98z\\t\\x004eI\\x9b\\xe5\\x14\\x03\\xd6\\xf5$I\\x9e\\xac\\xcfcy\\xfb!\\\\l\\x06\\xc1\\xe64S\\x9b\\x01\\x80\\xe6\\x1c*R2)\\x06\\xac\\x9ci\\x85e}\\x9e\\xcb\\xf4\\x0f_\\x99\\xb88\\x90 {\\x8f\\x98:\\x10\\x004\\xe7\\x98\\x06R\\x0c\\xd88sAk\\xa3\\xcfs\\xb9\\xf3!g\\x17s\\x12\\xc4\\x9c\\x12jN\\x00@\\xd1`\\x9c<\\x81\\x14#v\\xd2\\xe4\\xe6\\xb3>\\xd1e\\xb9\\x0cI;\\xbd\\x9c\"[\\x96\\x84\\x1a\\x97\\xe8\\x8c\\x8bE\\x01}\\x83\\x87\\x11\\xab\\x0cGd\\xcdf}\"\\x8bs\\x08\\x17SC\\xb0Q\\xd1\\xc9\\xe8\\x95\\xda\\xd9\\xd4\\x04\\x91\\x94\\x14>j7\\\\!\\xc8\\n\\xc8\\x10\\x0ee6\\xfd\\x12R\\xb8\\xd8\\x1d\\x82M\\xd2\\xd4\\xee\\x00\\x80\\x02\\xad\\x02\\xfa*\\x12#\\xb6\\x99\\x96!\\xb9\\xc7\\xacOd1B\\xe1b\\x84\\x086IS#\\x04\\x00Jt0^\\x88\\x1f\\xed\\x84\\x14\\x15\\xce\\xacO\\xc4,^(\\\\\\xbc\\x10\\xc1&k\\xea\\x85\\x00@\\xd6\\xb1\\x1a\\xad\\xc4\\x0f\\xcd0\\x1c\\xad\\xc4.\\x11\\xb3\\xd8\\xa1p\\xb1C\\x04\\x9b\\xac\\xa9\\x1d\\x02\\x00\\xbd%\\x1cW\\xf5G{\\xa8h\\xd4v\\xf4\\x89\\x98\\xc5\\x11\\x85\\x8b#\"\\xd8dM\\x1d\\x11\\x00\\x9a\\xb5\\x8ai\\x7f\\x97b\\xc4j/|\\xe4\\x89}&f1E\\xe9b\\x8a\\x086iSS\\x04\\x006\\x9f\\x82\\xee\\xfcS\\x8c\\xd8\\x9d\\x9c\\x8aQ\\xd6gb\\x16_\\x94.\\xbe\\x88`\\x936\\xf5E\\x00h\\xda\\t\\xa3\\x8d[\\x8a\\x11{C\\x9f\\xd0\\x0e\\xa4\\xcf\\xc4,\\xd6(]\\xac\\x11\\xc1\\x17\\xdaI@\\xad\\x11\\x00h\\x8d\\xf0]\\x1fmO1d\\xed\\xf5\\xe8f>;g\\xb2\\x98\\xa3t1G\\x04\\x9b\\xb4\\xa99\\x02\\x00is\\x19R\\xcd\\xc6\\x90\\xdd\\xd2\\x8d\"\\xc6\\xaf^\\xb2s*\\x8b?J\\xa7\\xafy\\x86\\xdf\\xf3$\\xd4PV\\x90\\xad\\xdb\\xbe0\\xca#\\xc5\\x90\\x95w\\xa8\\xc8\\x14d\\xe7T\\x16\\x8b\\x94.\\x16\\x89`s\\xbeG\\xdfOu\\x16\\xc9\\xa20\\xa4\\xfbU\\xf8\\xac\\xdd\\xd8\\xb9\\x1a\\x89\\t\\xe2a\\x07gqI\\xe9\\xe2\\x92\\x086yS\\x97\\x04\\x00Z;\\x1bo\\x181d\\x9bo!\\xc7\\xcb\\xb2Oe\\xf1I\\xe9\\xe2\\x93\\x086yS\\x9f\\x04\\x00\\xf2\\x96\\x11\\x9d\\xbf\\x14CV\\xde\\x8a6\\xbf\\xd99\\x95\\xc5)\\xa5\\x8bS\"\\xd8\\xe4M\\x9d\\x12\\x00\\xc8;J\\xe8\\x1b\\xa2\\x14CV\\xde\\\\\\xd0\\xb6\\xf5\\x9c\\xca\\xe2\\x95\\xd2\\xc5+\\x11l\\xf2\\xa6^\\t\\x00\\xecK\\x98\\nh\\xe3\\x8a!\\xfb|s\\xda\\x04\\xf6\\xa9\\x8c\\xad\\xf3`\\x93\\xa0\\\\\\xcc\\x12\\xc1&oj\\x96\\x00@\\xde*\\x1a\\xe9\\t\\x86\\xac\\xbd+\\x0f\\xa8\\xed\\xf4\\xa9\\xb8\\xc5-\\x95\\x8b[\"\\xd8\\xe4M\\xdd\\x12\\x00\\xd8Q\\xb1\\x80v\\xfe)\\x86\\xac\\xbb\\x1b\\xc1\\xe9\\x99\\x85>\\x15\\xb7\\xd8\\xa5r\\xb1K\\x04\\x1b\\xbc\\x8d\\xa6\\xb8\\xfb\\x9e\\x1e\\x00\\xc8;\\n8\\xdd\\x95a\\xc8\\xca;\\x89i\\x9d\\xf4\\xa9\\x8c\\xfa\\x19\\xd6\\x89\\x8b_\\xaa\\xe1f21\\xda\\xe2\\x9ew\\xe7\\x97J(\\xda\\x93\\xa6\\xf0Y\\xbb~\\xc3\\xab\\x89Q\\x9d\\xf4\\xc7&,~\\xa9\\\\\\xfc\\x12\\xc1\\xe6|\\xd3\\xfd$\\x00\\xb0\\x87M\\xd8h\\xc3\\x80!\\xeb|+\\xaa?Y\\x9f\\xcax\\x050\\x9co\\xa7C\\x12\\xc37\\xa8\\t]|+\\xd5\\xf9e(\\x12N_Tb\\xc8\\xba.\\xa3\\xd1N\\xa7Oe\\xbc=\\x1c\\xf2v\\xf1K<@e\\xce\\xf7\\xe8tGgr!\\xb4\\xb1T\\x07\\xe1\\xb3\\xf6:Q\\x9c\\xb6\\x8f\\xfa\\xb0\\x16J\\x93\\xc5/\\x95\\x8b_\"\\xd8\\xe4M\\xfd\\x12\\x00\\xb8i\\xd0\\xa7\\x8c\\xc8y\\'\\x0cY\\xeb\\x84\\xd3%\\x9e\\xf5\\xa9\\x84\\xc5/\\x95\\x8b_\"\\xd8\\xe4M\\xfd\\x12\\x00\\x9aw\\x1c(A\\xdbo\\x0c\\xd9x\\x87LQ\\xbf\\xecS\\t\\x8b_\\xe2\\x89\\xa1k\\x0fl \\xd8\\xe4M\\xfd\\x12\\x00\\xc8;\\x94\\t\\xdd\\xc8c\\xc8\\xae\\x83\\xc6\\xd7\\x04]\\xff\\xdd\\xa72\\xfc\\xbf\\xab\\xef\\xee(_w<\\xee\\x94?\\x17\\xbf\\xe4\\xf5syl\\xbc=\\x1c\\x1f\\xd4\\x87\\xf2\\xa0~\\xea\\xee\\xd4\\x1e\\xfe\\x0c\\x07\\x0b\\xf1\\xaa>|W\\xb5p\\xe0\\xee\\xfc\\xdb\\x0e\\x0e\\xb3\\x16p`.\\xb8\\x03\\x91\\xdcVU{\\xfeE\\x1f\\xc4{?\\x1e\\xbb\\xfc\\x0f\\x00\\x00\\xff\\xff\\x03\\x00PK\\x03\\x04\\x14\\x00\\x06\\x00\\x08\\x00\\x00\\x00!\\x00\\xcb\\xe3[a\\x9c\\x01\\x00\\x00N\\x03\\x00\\x00\\x10\\x00\\x08\\x01docProps/app.xml \\xa2\\x04\\x01(\\xa0\\x00\\x01\\x00\\x00\\x00\\x00\\x00\\x00\\x00\\x00\\x00\\x00\\x00\\x00\\x00\\x00\\x00\\x00\\x00\\x00\\x00\\x00\\x00\\x00\\x00\\x00\\x00\\x00\\x00\\x00\\x00\\x00\\x00\\x00\\x00\\x00\\x00\\x00\\x00\\x00\\x00\\x00\\x00\\x00\\x00\\x00\\x00\\x00\\x00\\x00\\x00\\x00\\x00\\x00\\x00\\x00\\x00\\x00\\x00\\x00\\x00\\x00\\x00\\x00\\x00\\x00\\x00\\x00\\x00\\x00\\x00\\x00\\x00\\x00\\x00\\x00\\x00\\x00\\x00\\x00\\x00\\x00\\x00\\x00\\x00\\x00\\x00\\x00\\x00\\x00\\x00\\x00\\x00\\x00\\x00\\x00\\x00\\x00\\x00\\x00\\x00\\x00\\x00\\x00\\x00\\x00\\x00\\x00\\x00\\x00\\x00\\x00\\x00\\x00\\x00\\x00\\x00\\x00\\x00\\x00\\x00\\x00\\x00\\x00\\x00\\x00\\x00\\x00\\x00\\x00\\x00\\x00\\x00\\x00\\x00\\x00\\x00\\x00\\x00\\x00\\x00\\x00\\x00\\x00\\x00\\x00\\x00\\x00\\x00\\x00\\x00\\x00\\x00\\x00\\x00\\x00\\x00\\x00\\x00\\x00\\x00\\x00\\x00\\x00\\x00\\x00\\x00\\x00\\x00\\x00\\x00\\x00\\x00\\x00\\x00\\x00\\x00\\x00\\x00\\x00\\x00\\x00\\x00\\x00\\x00\\x00\\x00\\x00\\x00\\x00\\x00\\x00\\x00\\x00\\x00\\x00\\x00\\x00\\x00\\x00\\x00\\x00\\x00\\x00\\x00\\x00\\x00\\x00\\x00\\x00\\x00\\x00\\x00\\x00\\x00\\x00\\x00\\x00\\x00\\x00\\x00\\x00\\x00\\x00\\x00\\x00\\x00\\x00\\x00\\x00\\x00\\x00\\x00\\x00\\x00\\x00\\x00\\x00\\x00\\x00\\x00\\x00\\x00\\x00\\x00\\x00\\x00\\x00\\x00\\x00\\x00\\x00\\x00\\x00\\x00\\x00\\x00\\x00\\x9c\\x93MO\\xdc0\\x10\\x86\\xef\\x95\\xfa\\x1f\"\\xdfY\\x07\\xb6B\\xd5\\xca1\\xaa\\x96V\\xa0\\x16u\\xa5]\\xe0<8\\x93\\x8d\\x85cG\\x9e!\\xda\\xed\\xaf\\xaf\\xb3\\x11!\\xa1\\x9cz\\x9b\\x8f7\\xaf\\x9f\\xcc\\xd8\\xea\\xea\\xd0\\xb8\\xac\\xc3H6\\xf8B\\x9c/r\\x91\\xa17\\xa1\\xb4~_\\x88\\xfb\\xdd\\x8f\\xb3\\xaf\"#\\x06_\\x82\\x0b\\x1e\\x0bqD\\x12W\\xfa\\xf3\\'\\xb5\\x89\\xa1\\xc5\\xc8\\x16)K\\x16\\x9e\\nQ3\\xb7+)\\xc9\\xd4\\xd8\\x00-R\\xdb\\xa7N\\x15b\\x03\\x9c\\xd2\\xb8\\x97\\xa1\\xaa\\xac\\xc1\\xeb`^\\x1a\\xf4,/\\xf2\\xfcR\\xe2\\x81\\xd1\\x97X\\x9e\\xb5\\xa3\\xa1\\x18\\x1cW\\x1d\\xff\\xafi\\x19L\\xcfG\\x0f\\xbbc\\x9b\\x80\\xb5\\xfa\\xd6\\xb6\\xce\\x1a\\xe0\\xf4\\x97\\xfa\\xce\\x9a\\x18(T\\x9c\\xdd\\x81\\xb1\\x9e\\x03\\xd5\\xd9\\xf7\\x83A\\xa7\\xe4T\\xa6\\x12\\xe7\\x16\\xcdK\\xb4|\\xd4\\xb9\\x92\\xd3Tm\\r8\\\\\\xa7#t\\x05\\x8eP\\xc9\\xb7\\x82\\xbaA\\xe8\\xc7\\xb7\\x01\\x1bI\\xab\\x8eW\\x1d\\x1a\\x0e1#\\xfb\\'\\r\\xf0BdO@\\xd8\\x83\\x15\\xa2\\x83h\\xc1s\\x02\\xeceCr\\x8a]K\\x1c\\xf5c\\x88\\xcfT#2)\\x99\\x04C\\xf1\\x14N\\xb5\\xd3\\xd8~\\xd1\\xcb\\x93 \\x05sao0\\x80\\xa4\\xc6\\x1cqg\\xd9!\\xfd\\xae6\\x10\\xf9\\x03\\xe2\\xe5\\x94\\xf8\\xc40\\xf0\\x0e8\\xb7\\xbe\\xb40\\xc5\\x1bAo\\x19\\xdc\\xf1\\xc3\\xce\\xcf\\x10q\\xf6\\xcd\\x0c\\xee\\x1d\\xce:4-\\xf8c\\xa2\\x1e\\xa3_\\xd6?\\xd3}\\xbb\\x0b\\xd7\\xc0\\xf8\\xba\\x81yQmk\\x88X\\xa6\\xa5\\x8d\\x1b\\x1a\\x0b\\xea&\\r?\\xba\\xded]\\x83\\xdfc\\xf9\\xaa\\xf9\\xb7\\xd1\\xdf\\x9c\\x87\\xe1y\\xe8\\xf3\\xcbE\\xbe\\xcc\\xd3U\\x98\\xd4\\x94|{\\x08\\xfa/\\x00\\x00\\x00\\xff\\xff\\x03\\x00PK\\x03\\x04\\x14\\x00\\x06\\x00\\x08\\x00\\x00\\x00!\\x00\\xba\\xcd\\xfe\\xef\\xad\\x02\\x00\\x00s\\r\\x00\\x00\\x10\\x00\\x00\\x00xl/calcChain.xmlt\\x97M\\x8e\\xda@\\x14\\x84\\xf7\\x91r\\x07\\xab\\xf7\\x19\\xe3\\xb6M~\\x04\\xccb\\xa4\\x9c 9\\x80\\x05\\xce\\x80\\x04\\x06a\\x14%\\xb7\\x8f5]6\\x15\\x7f\\xc3\\x92Gu\\xfb\\xebj\\xea\\xf9\\xb1z\\xfes:f\\xbf\\xdbk\\x7f8w\\xebP<-B\\xd6v\\xdb\\xf3\\xee\\xd0\\xbd\\xae\\xc3\\xcf\\x1f\\xdf?}\\tY\\x7fk\\xba]s<w\\xed:\\xfcm\\xfb\\xf0\\xbc\\xf9\\xf8a\\xb5m\\x8e\\xdb\\x97}s\\xe8\\xb2a\\x87\\xae_\\x87\\xfd\\xedv\\xf9\\x96\\xe7\\xfdv\\xdf\\x9e\\x9a\\xfe\\xe9|i\\xbb\\xe1\\x9b_\\xe7\\xeb\\xa9\\xb9\\r\\x1f\\xaf\\xafy\\x7f\\xb9\\xb6\\xcd\\xae\\xdf\\xb7\\xed\\xedt\\xcc\\xe3b\\xb1\\xccO\\xc3\\x06a\\xb3\\xdaf\\xd7uxY~\\x0e\\xd9a\\x1d\\xca\\x90\\x1d\\x07\\x94\\x90O\\xf5\\x81\\xe1\\xad>U\\xea\\xa4\\x8cwM\\x9d4^\\xf9\\xfa\\xb6\\x8a\\x1a\\xdb\\xb9N\\x1a\\x7f\\xd6`\\xc0\\xf0,\\xaf,\\x1fP\\xd5\\xa0JJ\\x7fb\\xaa\\xf8\\x13\\x13\\xb9\\xef_\\xbd\\xbf\\x7f\\x9d\\xf6\\xf7\\xddR\\xc5\\xd7\\x0e^\\xbd\\xe7X\\x9d\\xf6\\xf4\\xb5\\xa9\\xe2$im\\x01\\xb7#\\xce\\x95\\x94\\xbe[\\xd2p\\xedP\\x99\\xddTR\\xda\\xda\\x11dv\\xc9<\\xdb\\xfc\"\\xe0\\\\\\xbar;\\x12n\\xb3\\xc0m\\x16\\x89\\xd0\\x16\\x15\\xe3Y\\xa6_W1:s\\xaf\\xc0\\xbd\\x02\\xbc\\x05\\xee\\xba\\x00q\\x01\\xe4\\x02\\xcc\\x11\\xcc\\x11\\xcc\\x11\\xcc\\x11\\xcc\\x11\\xcc\\x11\\xcc\\x11\\xcc\\x11\\xcc\\x11\\xcc\\x11\\xcc%\\x98K0\\x97`.\\xc1\\\\\\x82\\xb9\\x04s\\t\\xe6\\x12\\xcc%\\x98K0W`\\xae\\xc0\\\\\\x81\\xb9\\x02s\\x05\\xe6\\n\\xcc\\x15\\x98+0W`\\xae\\xc0\\\\\\x83\\xb9\\x06\\xb34\\x9e\\xd6\\xa4\\xb1\\xca2\\xedSZ\\xffL\\xcfB\\xef\\x15\\x83\\xe7w\\xec\\xb4\\xf3\\x00\\xa3K\\xeb\\x8c\\x83\\x87\\xff\\xf7s6\\xa7y\\xa7F#E\\xbfG\\xbbG\\xb7W\\xf6\\x8d\\\\\\xd9\\xf7\\n\\xba\\x93\\xb2\\xef\\x1a\\xe0*\\xfb\\xae\\x01\\xb0\\xb2\\xef\\x1a +\\xfb\\xa6Q\\xf6\\xbd\\x82\\xbbS\\xf6]\\x83\\xfe\\xac\\xec\\xbb\\x06o\\x13e\\xdf5pY\\xd9w\\r|V\\xf6M\\xa3\\xec{\\x05>+\\xfb\\xae\\x81\\xcf\\xca\\xbek\\xe0\\xb3\\xb2\\xef\\x1a\\xf8\\xac\\xec\\x9bF\\xd9\\xf7\\n|V\\xf6]\\x03\\x9f\\x95}\\xd7\\xc0ge\\xdf\\t\\xe7?w\\xd9lqT\\x8b\\xb5\\x8al\\xf6\\n^\\xb6j\\xb1\\xae\\x19\\x07\\x84\\xe9U\\xa6\\x16\\xeb\\x1a\\x0c2j\\xb1\\xae\\x19G\\xb3\\xfb>\\x88\\xbbl\\xb6U\\xb2\\xd9+`\\x96\\xcd\\xae\\x01\\xb3lv\\r\\x98e\\xb3k\\xc0\\xac\\x16\\xeb\\x9a\\xb1\\xed\\xddGK\\xb6\\xc6GC\\x8d\\xb7O0k\\x04s\\xcd\\xa3\\x81\\xd15d\\xc6D5/\\x8c\\xf3\\xe9t\\x04\\xec\\x81\\xab\\xc2\\xa9\\xd5,\\x8dD\\xcd\\xd2+\\x18\\x0c\\xd5,]3\\x0e\\xb3\\xf7\\xd1\\t\\xa7\\xd6\\xa0\\xe4\\xab@\\xacA\\xc95`V\\xb34\\x8d\\x06%\\xaf\\x80Y\\x83\\x92k\\xc0\\xacA\\xc950Y\\x83\\x92i\\x18\\xb5\\xfb\\x04\\x9bO\\x7f\\x976\\xff\\x00\\x00\\x00\\xff\\xff\\x03\\x00PK\\x03\\x04\\x14\\x00\\x06\\x00\\x08\\x00\\x00\\x00!\\x00JqR5N\\x01\\x00\\x00{\\x02\\x00\\x00\\x11\\x00\\x08\\x01docProps/core.xml \\xa2\\x04\\x01(\\xa0\\x00\\x01\\x00\\x00\\x00\\x00\\x00\\x00\\x00\\x00\\x00\\x00\\x00\\x00\\x00\\x00\\x00\\x00\\x00\\x00\\x00\\x00\\x00\\x00\\x00\\x00\\x00\\x00\\x00\\x00\\x00\\x00\\x00\\x00\\x00\\x00\\x00\\x00\\x00\\x00\\x00\\x00\\x00\\x00\\x00\\x00\\x00\\x00\\x00\\x00\\x00\\x00\\x00\\x00\\x00\\x00\\x00\\x00\\x00\\x00\\x00\\x00\\x00\\x00\\x00\\x00\\x00\\x00\\x00\\x00\\x00\\x00\\x00\\x00\\x00\\x00\\x00\\x00\\x00\\x00\\x00\\x00\\x00\\x00\\x00\\x00\\x00\\x00\\x00\\x00\\x00\\x00\\x00\\x00\\x00\\x00\\x00\\x00\\x00\\x00\\x00\\x00\\x00\\x00\\x00\\x00\\x00\\x00\\x00\\x00\\x00\\x00\\x00\\x00\\x00\\x00\\x00\\x00\\x00\\x00\\x00\\x00\\x00\\x00\\x00\\x00\\x00\\x00\\x00\\x00\\x00\\x00\\x00\\x00\\x00\\x00\\x00\\x00\\x00\\x00\\x00\\x00\\x00\\x00\\x00\\x00\\x00\\x00\\x00\\x00\\x00\\x00\\x00\\x00\\x00\\x00\\x00\\x00\\x00\\x00\\x00\\x00\\x00\\x00\\x00\\x00\\x00\\x00\\x00\\x00\\x00\\x00\\x00\\x00\\x00\\x00\\x00\\x00\\x00\\x00\\x00\\x00\\x00\\x00\\x00\\x00\\x00\\x00\\x00\\x00\\x00\\x00\\x00\\x00\\x00\\x00\\x00\\x00\\x00\\x00\\x00\\x00\\x00\\x00\\x00\\x00\\x00\\x00\\x00\\x00\\x00\\x00\\x00\\x00\\x00\\x00\\x00\\x00\\x00\\x00\\x00\\x00\\x00\\x00\\x00\\x00\\x00\\x00\\x00\\x00\\x00\\x00\\x00\\x00\\x00\\x00\\x00\\x00\\x00\\x00\\x00\\x00\\x00\\x00\\x00\\x00\\x00\\x00\\x00\\x00\\x00\\x00\\x00\\x00\\x00\\x00\\x00\\x00\\x8c\\x92QK\\xc30\\x14\\x85\\xdf\\x05\\xffC\\xc9{\\x9b\\xa4ec\\x94\\xb6\\x03\\x95=9\\x14\\xecP|\\x0b\\xc9\\xed\\x16l\\x93\\x92D\\xbb\\xfd{\\xd3v\\xd6\\xca\\x14|L\\xce\\xb9_\\xce\\xb9$[\\x1f\\x9b:\\xf8\\x00c\\xa5V9\\xa2\\x11A\\x01(\\xae\\x85T\\xfb\\x1c\\xed\\xcaM\\xb8B\\x81uL\\tVk\\x059:\\x81E\\xeb\\xe2\\xfa*\\xe3m\\xca\\xb5\\x81G\\xa3[0N\\x82\\r<I\\xd9\\x94\\xb79:8\\xd7\\xa6\\x18[~\\x80\\x86\\xd9\\xc8;\\x94\\x17+m\\x1a\\xe6\\xfc\\xd1\\xecq\\xcb\\xf8\\x1b\\xdb\\x03\\x8e\\tY\\xe2\\x06\\x1c\\x13\\xcc1\\xdc\\x03\\xc3v\"\\xa23R\\xf0\\t\\xd9\\xbe\\x9bz\\x00\\x08\\x8e\\xa1\\x86\\x06\\x94\\xb3\\x98F\\x14\\x7f{\\x1d\\x98\\xc6\\xfe:0(3g#\\xdd\\xa9\\xf5\\x9d\\xceq\\xe7l\\xc1Gqr\\x1f\\xad\\x9c\\x8c]\\xd7E]2\\xc4\\xf0\\xf9)~\\xd9\\xde?\\rUC\\xa9\\xfa]q@E&x\\xca\\r0\\xa7M\\xb1\\x95\\xdch\\xab+\\x17<T\\x95\\xe4\\x10\\xec,\\x98\\x0c\\xcf\\x1c\\xfd6kf\\xdd\\xd6/\\xbe\\x92 nN\\x7f\\r]\\x1a\\xfdKC\\xb1\\xf19\\x10\\x81\\x8f\\x9a\\x8e\\xc5\\xbe\\x94\\xe7\\xe4\\xf6\\xae\\xdc\\xa0\"&1\\tI\\x12\\xd2EI\\x97)%\\xe9\\x82\\xbc\\xf69~\\xcc\\xf7\\xd1\\xc7\\x8b\\xe6\\x9c\\xe6\\x1f\\xc4xU\\xd2EOL\\xe8\\x8c\\xf8\\x05(2|\\xf1]\\x8aO\\x00\\x00\\x00\\xff\\xff\\x03\\x00PK\\x01\\x02-\\x00\\x14\\x00\\x06\\x00\\x08\\x00\\x00\\x00!\\x00\\xc7z\\x97\\x90u\\x01\\x00\\x00 \\x06\\x00\\x00\\x13\\x00\\x00\\x00\\x00\\x00\\x00\\x00\\x00\\x00\\x00\\x00\\x00\\x00\\x00\\x00\\x00\\x00[Content_Types].xmlPK\\x01\\x02-\\x00\\x14\\x00\\x06\\x00\\x08\\x00\\x00\\x00!\\x00\\xb5U0#\\xf4\\x00\\x00\\x00L\\x02\\x00\\x00\\x0b\\x00\\x00\\x00\\x00\\x00\\x00\\x00\\x00\\x00\\x00\\x00\\x00\\x00\\xae\\x03\\x00\\x00_rels/.relsPK\\x01\\x02-\\x00\\x14\\x00\\x06\\x00\\x08\\x00\\x00\\x00!\\x00\\xf4\\xf5\\x07;\\x13\\x01\\x00\\x00Y\\x04\\x00\\x00\\x1a\\x00\\x00\\x00\\x00\\x00\\x00\\x00\\x00\\x00\\x00\\x00\\x00\\x00\\xd3\\x06\\x00\\x00xl/_rels/workbook.xml.relsPK\\x01\\x02-\\x00\\x14\\x00\\x06\\x00\\x08\\x00\\x00\\x00!\\x00\\xfd\\xfc2\\x85\\x89\\x03\\x00\\x00\\xa9\\x08\\x00\\x00\\x0f\\x00\\x00\\x00\\x00\\x00\\x00\\x00\\x00\\x00\\x00\\x00\\x00\\x00&\\t\\x00\\x00xl/workbook.xmlPK\\x01\\x02-\\x00\\x14\\x00\\x06\\x00\\x08\\x00\\x00\\x00!\\x00\\xc1\\x17\\x10\\xbeN\\x07\\x00\\x00\\xc6 \\x00\\x00\\x13\\x00\\x00\\x00\\x00\\x00\\x00\\x00\\x00\\x00\\x00\\x00\\x00\\x00\\xdc\\x0c\\x00\\x00xl/theme/theme1.xmlPK\\x01\\x02-\\x00\\x14\\x00\\x06\\x00\\x08\\x00\\x00\\x00!\\x00\\x9b\\x95\\xb7\\xb7\\xe4\\x02\\x00\\x00`\\x07\\x00\\x00\\r\\x00\\x00\\x00\\x00\\x00\\x00\\x00\\x00\\x00\\x00\\x00\\x00\\x00[\\x14\\x00\\x00xl/styles.xmlPK\\x01\\x02-\\x00\\x14\\x00\\x06\\x00\\x08\\x00\\x00\\x00!\\x00\\xc8/{\\xcdk\\t\\x00\\x00\\x941\\x00\\x00\\x18\\x00\\x00\\x00\\x00\\x00\\x00\\x00\\x00\\x00\\x00\\x00\\x00\\x00j\\x17\\x00\\x00xl/worksheets/sheet3.xmlPK\\x01\\x02-\\x00\\x14\\x00\\x06\\x00\\x08\\x00\\x00\\x00!\\x00\\x18\\x9f\\x07\\x8c0\\n\\x00\\x00\\xfb9\\x00\\x00\\x18\\x00\\x00\\x00\\x00\\x00\\x00\\x00\\x00\\x00\\x00\\x00\\x00\\x00\\x0b!\\x00\\x00xl/worksheets/sheet1.xmlPK\\x01\\x02-\\x00\\x14\\x00\\x06\\x00\\x08\\x00\\x00\\x00!\\x00j\\xc2\\xda\\xbe\\xdc\\x00\\x00\\x00]\\x01\\x00\\x00\\x14\\x00\\x00\\x00\\x00\\x00\\x00\\x00\\x00\\x00\\x00\\x00\\x00\\x00q+\\x00\\x00xl/sharedStrings.xmlPK\\x01\\x02-\\x00\\x14\\x00\\x06\\x00\\x08\\x00\\x00\\x00!\\x00\\xb4OK\\x9aV\\x08\\x00\\x00c+\\x00\\x00\\x18\\x00\\x00\\x00\\x00\\x00\\x00\\x00\\x00\\x00\\x00\\x00\\x00\\x00\\x7f,\\x00\\x00xl/worksheets/sheet2.xmlPK\\x01\\x02-\\x00\\x14\\x00\\x06\\x00\\x08\\x00\\x00\\x00!\\x00\\xcb\\xe3[a\\x9c\\x01\\x00\\x00N\\x03\\x00\\x00\\x10\\x00\\x00\\x00\\x00\\x00\\x00\\x00\\x00\\x00\\x00\\x00\\x00\\x00\\x0b5\\x00\\x00docProps/app.xmlPK\\x01\\x02-\\x00\\x14\\x00\\x06\\x00\\x08\\x00\\x00\\x00!\\x00\\xba\\xcd\\xfe\\xef\\xad\\x02\\x00\\x00s\\r\\x00\\x00\\x10\\x00\\x00\\x00\\x00\\x00\\x00\\x00\\x00\\x00\\x00\\x00\\x00\\x00\\xdd7\\x00\\x00xl/calcChain.xmlPK\\x01\\x02-\\x00\\x14\\x00\\x06\\x00\\x08\\x00\\x00\\x00!\\x00JqR5N\\x01\\x00\\x00{\\x02\\x00\\x00\\x11\\x00\\x00\\x00\\x00\\x00\\x00\\x00\\x00\\x00\\x00\\x00\\x00\\x00\\xb8:\\x00\\x00docProps/core.xmlPK\\x05\\x06\\x00\\x00\\x00\\x00\\r\\x00\\r\\x00J\\x03\\x00\\x00==\\x00\\x00\\x00\\x00'}"
            ]
          },
          "metadata": {
            "tags": []
          },
          "execution_count": 7
        }
      ]
    },
    {
      "cell_type": "code",
      "metadata": {
        "id": "rCZHf0pBb3fB",
        "colab_type": "code",
        "colab": {}
      },
      "source": [
        "df1 = pd.read_excel('per_day_cases.xlsx')\n"
      ],
      "execution_count": 0,
      "outputs": []
    },
    {
      "cell_type": "code",
      "metadata": {
        "id": "yxf32jTNp8D2",
        "colab_type": "code",
        "colab": {}
      },
      "source": [
        "df = pd.read_csv('Covid cases in India.csv')\n"
      ],
      "execution_count": 0,
      "outputs": []
    },
    {
      "cell_type": "code",
      "metadata": {
        "id": "OktxV94-Xhu8",
        "colab_type": "code",
        "colab": {}
      },
      "source": [
        "df.drop(columns='S. No.',inplace=True)"
      ],
      "execution_count": 0,
      "outputs": []
    },
    {
      "cell_type": "code",
      "metadata": {
        "id": "YNKu0L7mXzAT",
        "colab_type": "code",
        "colab": {}
      },
      "source": [
        "df.rename(columns={'Name of State / UT':'State','Cured/Discharged/Migrated':'Recovered'},inplace=True)\n"
      ],
      "execution_count": 0,
      "outputs": []
    },
    {
      "cell_type": "code",
      "metadata": {
        "id": "oma_wwGgpomF",
        "colab_type": "code",
        "outputId": "417249e9-b5f6-479b-b133-fb35f2a096ce",
        "colab": {
          "base_uri": "https://localhost:8080/",
          "height": 204
        }
      },
      "source": [
        "df.head()"
      ],
      "execution_count": 0,
      "outputs": [
        {
          "output_type": "execute_result",
          "data": {
            "text/html": [
              "<div>\n",
              "<style scoped>\n",
              "    .dataframe tbody tr th:only-of-type {\n",
              "        vertical-align: middle;\n",
              "    }\n",
              "\n",
              "    .dataframe tbody tr th {\n",
              "        vertical-align: top;\n",
              "    }\n",
              "\n",
              "    .dataframe thead th {\n",
              "        text-align: right;\n",
              "    }\n",
              "</style>\n",
              "<table border=\"1\" class=\"dataframe\">\n",
              "  <thead>\n",
              "    <tr style=\"text-align: right;\">\n",
              "      <th></th>\n",
              "      <th>State</th>\n",
              "      <th>Total Confirmed cases (Indian National)</th>\n",
              "      <th>Total Confirmed cases ( Foreign National )</th>\n",
              "      <th>Recovered</th>\n",
              "      <th>Deaths</th>\n",
              "    </tr>\n",
              "  </thead>\n",
              "  <tbody>\n",
              "    <tr>\n",
              "      <th>0</th>\n",
              "      <td>Andhra Pradesh</td>\n",
              "      <td>14</td>\n",
              "      <td>0</td>\n",
              "      <td>1</td>\n",
              "      <td>0</td>\n",
              "    </tr>\n",
              "    <tr>\n",
              "      <th>1</th>\n",
              "      <td>Andaman and Nicobar Islands</td>\n",
              "      <td>6</td>\n",
              "      <td>0</td>\n",
              "      <td>0</td>\n",
              "      <td>0</td>\n",
              "    </tr>\n",
              "    <tr>\n",
              "      <th>2</th>\n",
              "      <td>Bihar</td>\n",
              "      <td>9</td>\n",
              "      <td>0</td>\n",
              "      <td>0</td>\n",
              "      <td>1</td>\n",
              "    </tr>\n",
              "    <tr>\n",
              "      <th>3</th>\n",
              "      <td>Chandigarh</td>\n",
              "      <td>8</td>\n",
              "      <td>0</td>\n",
              "      <td>0</td>\n",
              "      <td>0</td>\n",
              "    </tr>\n",
              "    <tr>\n",
              "      <th>4</th>\n",
              "      <td>Chattisgarh</td>\n",
              "      <td>6</td>\n",
              "      <td>0</td>\n",
              "      <td>0</td>\n",
              "      <td>0</td>\n",
              "    </tr>\n",
              "  </tbody>\n",
              "</table>\n",
              "</div>"
            ],
            "text/plain": [
              "                         State  ...  Deaths\n",
              "0               Andhra Pradesh  ...       0\n",
              "1  Andaman and Nicobar Islands  ...       0\n",
              "2                        Bihar  ...       1\n",
              "3                   Chandigarh  ...       0\n",
              "4                  Chattisgarh  ...       0\n",
              "\n",
              "[5 rows x 5 columns]"
            ]
          },
          "metadata": {
            "tags": []
          },
          "execution_count": 12
        }
      ]
    },
    {
      "cell_type": "code",
      "metadata": {
        "id": "IX4RQj74pz56",
        "colab_type": "code",
        "colab": {}
      },
      "source": [
        "df['Total cases'] = df['Total Confirmed cases (Indian National)'] + df['Total Confirmed cases ( Foreign National )']"
      ],
      "execution_count": 0,
      "outputs": []
    },
    {
      "cell_type": "code",
      "metadata": {
        "id": "vKBLWLkUYmD0",
        "colab_type": "code",
        "colab": {}
      },
      "source": [
        "df['Active cases'] = df['Total cases'] - df['Deaths'] - df['Recovered']"
      ],
      "execution_count": 0,
      "outputs": []
    },
    {
      "cell_type": "code",
      "metadata": {
        "id": "pAJghKJpYNqf",
        "colab_type": "code",
        "colab": {}
      },
      "source": [
        "df.sort_values(['Active cases'],ascending = False ,inplace=True)"
      ],
      "execution_count": 0,
      "outputs": []
    },
    {
      "cell_type": "code",
      "metadata": {
        "id": "_4afCqPcqW4u",
        "colab_type": "code",
        "colab": {}
      },
      "source": [
        ""
      ],
      "execution_count": 0,
      "outputs": []
    },
    {
      "cell_type": "code",
      "metadata": {
        "id": "xMZXZfKjp8A-",
        "colab_type": "code",
        "outputId": "8a1ebc7a-acd2-4435-ef8c-c94f2590178f",
        "colab": {
          "base_uri": "https://localhost:8080/",
          "height": 628
        }
      },
      "source": [
        "sns.set(style='darkgrid',font_scale=1.2)\n",
        "b = df.groupby(['State'])['Recovered'].sum().sort_values(ascending=False).to_frame()\n",
        "b.style.background_gradient(cmap='Greens')\n"
      ],
      "execution_count": 0,
      "outputs": [
        {
          "output_type": "execute_result",
          "data": {
            "text/html": [
              "<style  type=\"text/css\" >\n",
              "    #T_cb0524cc_7438_11ea_bc06_0242ac1c0002row0_col0 {\n",
              "            background-color:  #00441b;\n",
              "            color:  #f1f1f1;\n",
              "        }    #T_cb0524cc_7438_11ea_bc06_0242ac1c0002row1_col0 {\n",
              "            background-color:  #7cc87c;\n",
              "            color:  #000000;\n",
              "        }    #T_cb0524cc_7438_11ea_bc06_0242ac1c0002row2_col0 {\n",
              "            background-color:  #8ace88;\n",
              "            color:  #000000;\n",
              "        }    #T_cb0524cc_7438_11ea_bc06_0242ac1c0002row3_col0 {\n",
              "            background-color:  #8ace88;\n",
              "            color:  #000000;\n",
              "        }    #T_cb0524cc_7438_11ea_bc06_0242ac1c0002row4_col0 {\n",
              "            background-color:  #caeac3;\n",
              "            color:  #000000;\n",
              "        }    #T_cb0524cc_7438_11ea_bc06_0242ac1c0002row5_col0 {\n",
              "            background-color:  #e6f5e1;\n",
              "            color:  #000000;\n",
              "        }    #T_cb0524cc_7438_11ea_bc06_0242ac1c0002row6_col0 {\n",
              "            background-color:  #e6f5e1;\n",
              "            color:  #000000;\n",
              "        }    #T_cb0524cc_7438_11ea_bc06_0242ac1c0002row7_col0 {\n",
              "            background-color:  #e6f5e1;\n",
              "            color:  #000000;\n",
              "        }    #T_cb0524cc_7438_11ea_bc06_0242ac1c0002row8_col0 {\n",
              "            background-color:  #ecf8e8;\n",
              "            color:  #000000;\n",
              "        }    #T_cb0524cc_7438_11ea_bc06_0242ac1c0002row9_col0 {\n",
              "            background-color:  #f1faee;\n",
              "            color:  #000000;\n",
              "        }    #T_cb0524cc_7438_11ea_bc06_0242ac1c0002row10_col0 {\n",
              "            background-color:  #f1faee;\n",
              "            color:  #000000;\n",
              "        }    #T_cb0524cc_7438_11ea_bc06_0242ac1c0002row11_col0 {\n",
              "            background-color:  #f1faee;\n",
              "            color:  #000000;\n",
              "        }    #T_cb0524cc_7438_11ea_bc06_0242ac1c0002row12_col0 {\n",
              "            background-color:  #f1faee;\n",
              "            color:  #000000;\n",
              "        }    #T_cb0524cc_7438_11ea_bc06_0242ac1c0002row13_col0 {\n",
              "            background-color:  #f7fcf5;\n",
              "            color:  #000000;\n",
              "        }    #T_cb0524cc_7438_11ea_bc06_0242ac1c0002row14_col0 {\n",
              "            background-color:  #f7fcf5;\n",
              "            color:  #000000;\n",
              "        }    #T_cb0524cc_7438_11ea_bc06_0242ac1c0002row15_col0 {\n",
              "            background-color:  #f7fcf5;\n",
              "            color:  #000000;\n",
              "        }    #T_cb0524cc_7438_11ea_bc06_0242ac1c0002row16_col0 {\n",
              "            background-color:  #f7fcf5;\n",
              "            color:  #000000;\n",
              "        }    #T_cb0524cc_7438_11ea_bc06_0242ac1c0002row17_col0 {\n",
              "            background-color:  #f7fcf5;\n",
              "            color:  #000000;\n",
              "        }    #T_cb0524cc_7438_11ea_bc06_0242ac1c0002row18_col0 {\n",
              "            background-color:  #f7fcf5;\n",
              "            color:  #000000;\n",
              "        }    #T_cb0524cc_7438_11ea_bc06_0242ac1c0002row19_col0 {\n",
              "            background-color:  #f7fcf5;\n",
              "            color:  #000000;\n",
              "        }    #T_cb0524cc_7438_11ea_bc06_0242ac1c0002row20_col0 {\n",
              "            background-color:  #f7fcf5;\n",
              "            color:  #000000;\n",
              "        }    #T_cb0524cc_7438_11ea_bc06_0242ac1c0002row21_col0 {\n",
              "            background-color:  #f7fcf5;\n",
              "            color:  #000000;\n",
              "        }    #T_cb0524cc_7438_11ea_bc06_0242ac1c0002row22_col0 {\n",
              "            background-color:  #f7fcf5;\n",
              "            color:  #000000;\n",
              "        }    #T_cb0524cc_7438_11ea_bc06_0242ac1c0002row23_col0 {\n",
              "            background-color:  #f7fcf5;\n",
              "            color:  #000000;\n",
              "        }    #T_cb0524cc_7438_11ea_bc06_0242ac1c0002row24_col0 {\n",
              "            background-color:  #f7fcf5;\n",
              "            color:  #000000;\n",
              "        }    #T_cb0524cc_7438_11ea_bc06_0242ac1c0002row25_col0 {\n",
              "            background-color:  #f7fcf5;\n",
              "            color:  #000000;\n",
              "        }    #T_cb0524cc_7438_11ea_bc06_0242ac1c0002row26_col0 {\n",
              "            background-color:  #f7fcf5;\n",
              "            color:  #000000;\n",
              "        }</style><table id=\"T_cb0524cc_7438_11ea_bc06_0242ac1c0002\" ><thead>    <tr>        <th class=\"blank level0\" ></th>        <th class=\"col_heading level0 col0\" >Recovered</th>    </tr>    <tr>        <th class=\"index_name level0\" >State</th>        <th class=\"blank\" ></th>    </tr></thead><tbody>\n",
              "                <tr>\n",
              "                        <th id=\"T_cb0524cc_7438_11ea_bc06_0242ac1c0002level0_row0\" class=\"row_heading level0 row0\" >Maharashtra</th>\n",
              "                        <td id=\"T_cb0524cc_7438_11ea_bc06_0242ac1c0002row0_col0\" class=\"data row0 col0\" >25</td>\n",
              "            </tr>\n",
              "            <tr>\n",
              "                        <th id=\"T_cb0524cc_7438_11ea_bc06_0242ac1c0002level0_row1\" class=\"row_heading level0 row1\" >Haryana</th>\n",
              "                        <td id=\"T_cb0524cc_7438_11ea_bc06_0242ac1c0002row1_col0\" class=\"data row1 col0\" >12</td>\n",
              "            </tr>\n",
              "            <tr>\n",
              "                        <th id=\"T_cb0524cc_7438_11ea_bc06_0242ac1c0002level0_row2\" class=\"row_heading level0 row2\" >Kerala</th>\n",
              "                        <td id=\"T_cb0524cc_7438_11ea_bc06_0242ac1c0002row2_col0\" class=\"data row2 col0\" >11</td>\n",
              "            </tr>\n",
              "            <tr>\n",
              "                        <th id=\"T_cb0524cc_7438_11ea_bc06_0242ac1c0002level0_row3\" class=\"row_heading level0 row3\" >Uttar Pradesh</th>\n",
              "                        <td id=\"T_cb0524cc_7438_11ea_bc06_0242ac1c0002row3_col0\" class=\"data row3 col0\" >11</td>\n",
              "            </tr>\n",
              "            <tr>\n",
              "                        <th id=\"T_cb0524cc_7438_11ea_bc06_0242ac1c0002level0_row4\" class=\"row_heading level0 row4\" >Delhi</th>\n",
              "                        <td id=\"T_cb0524cc_7438_11ea_bc06_0242ac1c0002row4_col0\" class=\"data row4 col0\" >6</td>\n",
              "            </tr>\n",
              "            <tr>\n",
              "                        <th id=\"T_cb0524cc_7438_11ea_bc06_0242ac1c0002level0_row5\" class=\"row_heading level0 row5\" >Ladakh</th>\n",
              "                        <td id=\"T_cb0524cc_7438_11ea_bc06_0242ac1c0002row5_col0\" class=\"data row5 col0\" >3</td>\n",
              "            </tr>\n",
              "            <tr>\n",
              "                        <th id=\"T_cb0524cc_7438_11ea_bc06_0242ac1c0002level0_row6\" class=\"row_heading level0 row6\" >Rajasthan</th>\n",
              "                        <td id=\"T_cb0524cc_7438_11ea_bc06_0242ac1c0002row6_col0\" class=\"data row6 col0\" >3</td>\n",
              "            </tr>\n",
              "            <tr>\n",
              "                        <th id=\"T_cb0524cc_7438_11ea_bc06_0242ac1c0002level0_row7\" class=\"row_heading level0 row7\" >Karnataka</th>\n",
              "                        <td id=\"T_cb0524cc_7438_11ea_bc06_0242ac1c0002row7_col0\" class=\"data row7 col0\" >3</td>\n",
              "            </tr>\n",
              "            <tr>\n",
              "                        <th id=\"T_cb0524cc_7438_11ea_bc06_0242ac1c0002level0_row8\" class=\"row_heading level0 row8\" >Tamil Nadu</th>\n",
              "                        <td id=\"T_cb0524cc_7438_11ea_bc06_0242ac1c0002row8_col0\" class=\"data row8 col0\" >2</td>\n",
              "            </tr>\n",
              "            <tr>\n",
              "                        <th id=\"T_cb0524cc_7438_11ea_bc06_0242ac1c0002level0_row9\" class=\"row_heading level0 row9\" >Telengana</th>\n",
              "                        <td id=\"T_cb0524cc_7438_11ea_bc06_0242ac1c0002row9_col0\" class=\"data row9 col0\" >1</td>\n",
              "            </tr>\n",
              "            <tr>\n",
              "                        <th id=\"T_cb0524cc_7438_11ea_bc06_0242ac1c0002level0_row10\" class=\"row_heading level0 row10\" >Punjab</th>\n",
              "                        <td id=\"T_cb0524cc_7438_11ea_bc06_0242ac1c0002row10_col0\" class=\"data row10 col0\" >1</td>\n",
              "            </tr>\n",
              "            <tr>\n",
              "                        <th id=\"T_cb0524cc_7438_11ea_bc06_0242ac1c0002level0_row11\" class=\"row_heading level0 row11\" >Andhra Pradesh</th>\n",
              "                        <td id=\"T_cb0524cc_7438_11ea_bc06_0242ac1c0002row11_col0\" class=\"data row11 col0\" >1</td>\n",
              "            </tr>\n",
              "            <tr>\n",
              "                        <th id=\"T_cb0524cc_7438_11ea_bc06_0242ac1c0002level0_row12\" class=\"row_heading level0 row12\" >Jammu and Kashmir</th>\n",
              "                        <td id=\"T_cb0524cc_7438_11ea_bc06_0242ac1c0002row12_col0\" class=\"data row12 col0\" >1</td>\n",
              "            </tr>\n",
              "            <tr>\n",
              "                        <th id=\"T_cb0524cc_7438_11ea_bc06_0242ac1c0002level0_row13\" class=\"row_heading level0 row13\" >Chandigarh</th>\n",
              "                        <td id=\"T_cb0524cc_7438_11ea_bc06_0242ac1c0002row13_col0\" class=\"data row13 col0\" >0</td>\n",
              "            </tr>\n",
              "            <tr>\n",
              "                        <th id=\"T_cb0524cc_7438_11ea_bc06_0242ac1c0002level0_row14\" class=\"row_heading level0 row14\" >Goa</th>\n",
              "                        <td id=\"T_cb0524cc_7438_11ea_bc06_0242ac1c0002row14_col0\" class=\"data row14 col0\" >0</td>\n",
              "            </tr>\n",
              "            <tr>\n",
              "                        <th id=\"T_cb0524cc_7438_11ea_bc06_0242ac1c0002level0_row15\" class=\"row_heading level0 row15\" >Chattisgarh</th>\n",
              "                        <td id=\"T_cb0524cc_7438_11ea_bc06_0242ac1c0002row15_col0\" class=\"data row15 col0\" >0</td>\n",
              "            </tr>\n",
              "            <tr>\n",
              "                        <th id=\"T_cb0524cc_7438_11ea_bc06_0242ac1c0002level0_row16\" class=\"row_heading level0 row16\" >Bihar</th>\n",
              "                        <td id=\"T_cb0524cc_7438_11ea_bc06_0242ac1c0002row16_col0\" class=\"data row16 col0\" >0</td>\n",
              "            </tr>\n",
              "            <tr>\n",
              "                        <th id=\"T_cb0524cc_7438_11ea_bc06_0242ac1c0002level0_row17\" class=\"row_heading level0 row17\" >Gujarat</th>\n",
              "                        <td id=\"T_cb0524cc_7438_11ea_bc06_0242ac1c0002row17_col0\" class=\"data row17 col0\" >0</td>\n",
              "            </tr>\n",
              "            <tr>\n",
              "                        <th id=\"T_cb0524cc_7438_11ea_bc06_0242ac1c0002level0_row18\" class=\"row_heading level0 row18\" >West Bengal</th>\n",
              "                        <td id=\"T_cb0524cc_7438_11ea_bc06_0242ac1c0002row18_col0\" class=\"data row18 col0\" >0</td>\n",
              "            </tr>\n",
              "            <tr>\n",
              "                        <th id=\"T_cb0524cc_7438_11ea_bc06_0242ac1c0002level0_row19\" class=\"row_heading level0 row19\" >Himachal Pradesh</th>\n",
              "                        <td id=\"T_cb0524cc_7438_11ea_bc06_0242ac1c0002row19_col0\" class=\"data row19 col0\" >0</td>\n",
              "            </tr>\n",
              "            <tr>\n",
              "                        <th id=\"T_cb0524cc_7438_11ea_bc06_0242ac1c0002level0_row20\" class=\"row_heading level0 row20\" >Uttarakhand</th>\n",
              "                        <td id=\"T_cb0524cc_7438_11ea_bc06_0242ac1c0002row20_col0\" class=\"data row20 col0\" >0</td>\n",
              "            </tr>\n",
              "            <tr>\n",
              "                        <th id=\"T_cb0524cc_7438_11ea_bc06_0242ac1c0002level0_row21\" class=\"row_heading level0 row21\" >Madhya Pradesh</th>\n",
              "                        <td id=\"T_cb0524cc_7438_11ea_bc06_0242ac1c0002row21_col0\" class=\"data row21 col0\" >0</td>\n",
              "            </tr>\n",
              "            <tr>\n",
              "                        <th id=\"T_cb0524cc_7438_11ea_bc06_0242ac1c0002level0_row22\" class=\"row_heading level0 row22\" >Manipur</th>\n",
              "                        <td id=\"T_cb0524cc_7438_11ea_bc06_0242ac1c0002row22_col0\" class=\"data row22 col0\" >0</td>\n",
              "            </tr>\n",
              "            <tr>\n",
              "                        <th id=\"T_cb0524cc_7438_11ea_bc06_0242ac1c0002level0_row23\" class=\"row_heading level0 row23\" >Mizoram</th>\n",
              "                        <td id=\"T_cb0524cc_7438_11ea_bc06_0242ac1c0002row23_col0\" class=\"data row23 col0\" >0</td>\n",
              "            </tr>\n",
              "            <tr>\n",
              "                        <th id=\"T_cb0524cc_7438_11ea_bc06_0242ac1c0002level0_row24\" class=\"row_heading level0 row24\" >Odisha</th>\n",
              "                        <td id=\"T_cb0524cc_7438_11ea_bc06_0242ac1c0002row24_col0\" class=\"data row24 col0\" >0</td>\n",
              "            </tr>\n",
              "            <tr>\n",
              "                        <th id=\"T_cb0524cc_7438_11ea_bc06_0242ac1c0002level0_row25\" class=\"row_heading level0 row25\" >Pondicherry</th>\n",
              "                        <td id=\"T_cb0524cc_7438_11ea_bc06_0242ac1c0002row25_col0\" class=\"data row25 col0\" >0</td>\n",
              "            </tr>\n",
              "            <tr>\n",
              "                        <th id=\"T_cb0524cc_7438_11ea_bc06_0242ac1c0002level0_row26\" class=\"row_heading level0 row26\" >Andaman and Nicobar Islands</th>\n",
              "                        <td id=\"T_cb0524cc_7438_11ea_bc06_0242ac1c0002row26_col0\" class=\"data row26 col0\" >0</td>\n",
              "            </tr>\n",
              "    </tbody></table>"
            ],
            "text/plain": [
              "<pandas.io.formats.style.Styler at 0x7f585b553ac8>"
            ]
          },
          "metadata": {
            "tags": []
          },
          "execution_count": 16
        }
      ]
    },
    {
      "cell_type": "code",
      "metadata": {
        "id": "LloLLQNdrjLr",
        "colab_type": "code",
        "outputId": "05619173-1ffa-497f-8d6f-41df519f2ac2",
        "colab": {
          "base_uri": "https://localhost:8080/",
          "height": 628
        }
      },
      "source": [
        "c = df.groupby(['State'])['Deaths'].sum().sort_values(ascending=False).to_frame()\n",
        "c.style.background_gradient(cmap='Reds')"
      ],
      "execution_count": 0,
      "outputs": [
        {
          "output_type": "execute_result",
          "data": {
            "text/html": [
              "<style  type=\"text/css\" >\n",
              "    #T_cb4ef232_7438_11ea_bc06_0242ac1c0002row0_col0 {\n",
              "            background-color:  #67000d;\n",
              "            color:  #f1f1f1;\n",
              "        }    #T_cb4ef232_7438_11ea_bc06_0242ac1c0002row1_col0 {\n",
              "            background-color:  #f14432;\n",
              "            color:  #f1f1f1;\n",
              "        }    #T_cb4ef232_7438_11ea_bc06_0242ac1c0002row2_col0 {\n",
              "            background-color:  #fc8a6a;\n",
              "            color:  #000000;\n",
              "        }    #T_cb4ef232_7438_11ea_bc06_0242ac1c0002row3_col0 {\n",
              "            background-color:  #fc8a6a;\n",
              "            color:  #000000;\n",
              "        }    #T_cb4ef232_7438_11ea_bc06_0242ac1c0002row4_col0 {\n",
              "            background-color:  #fdcab5;\n",
              "            color:  #000000;\n",
              "        }    #T_cb4ef232_7438_11ea_bc06_0242ac1c0002row5_col0 {\n",
              "            background-color:  #fdcab5;\n",
              "            color:  #000000;\n",
              "        }    #T_cb4ef232_7438_11ea_bc06_0242ac1c0002row6_col0 {\n",
              "            background-color:  #fdcab5;\n",
              "            color:  #000000;\n",
              "        }    #T_cb4ef232_7438_11ea_bc06_0242ac1c0002row7_col0 {\n",
              "            background-color:  #fdcab5;\n",
              "            color:  #000000;\n",
              "        }    #T_cb4ef232_7438_11ea_bc06_0242ac1c0002row8_col0 {\n",
              "            background-color:  #fdcab5;\n",
              "            color:  #000000;\n",
              "        }    #T_cb4ef232_7438_11ea_bc06_0242ac1c0002row9_col0 {\n",
              "            background-color:  #fdcab5;\n",
              "            color:  #000000;\n",
              "        }    #T_cb4ef232_7438_11ea_bc06_0242ac1c0002row10_col0 {\n",
              "            background-color:  #fdcab5;\n",
              "            color:  #000000;\n",
              "        }    #T_cb4ef232_7438_11ea_bc06_0242ac1c0002row11_col0 {\n",
              "            background-color:  #fff5f0;\n",
              "            color:  #000000;\n",
              "        }    #T_cb4ef232_7438_11ea_bc06_0242ac1c0002row12_col0 {\n",
              "            background-color:  #fff5f0;\n",
              "            color:  #000000;\n",
              "        }    #T_cb4ef232_7438_11ea_bc06_0242ac1c0002row13_col0 {\n",
              "            background-color:  #fff5f0;\n",
              "            color:  #000000;\n",
              "        }    #T_cb4ef232_7438_11ea_bc06_0242ac1c0002row14_col0 {\n",
              "            background-color:  #fff5f0;\n",
              "            color:  #000000;\n",
              "        }    #T_cb4ef232_7438_11ea_bc06_0242ac1c0002row15_col0 {\n",
              "            background-color:  #fff5f0;\n",
              "            color:  #000000;\n",
              "        }    #T_cb4ef232_7438_11ea_bc06_0242ac1c0002row16_col0 {\n",
              "            background-color:  #fff5f0;\n",
              "            color:  #000000;\n",
              "        }    #T_cb4ef232_7438_11ea_bc06_0242ac1c0002row17_col0 {\n",
              "            background-color:  #fff5f0;\n",
              "            color:  #000000;\n",
              "        }    #T_cb4ef232_7438_11ea_bc06_0242ac1c0002row18_col0 {\n",
              "            background-color:  #fff5f0;\n",
              "            color:  #000000;\n",
              "        }    #T_cb4ef232_7438_11ea_bc06_0242ac1c0002row19_col0 {\n",
              "            background-color:  #fff5f0;\n",
              "            color:  #000000;\n",
              "        }    #T_cb4ef232_7438_11ea_bc06_0242ac1c0002row20_col0 {\n",
              "            background-color:  #fff5f0;\n",
              "            color:  #000000;\n",
              "        }    #T_cb4ef232_7438_11ea_bc06_0242ac1c0002row21_col0 {\n",
              "            background-color:  #fff5f0;\n",
              "            color:  #000000;\n",
              "        }    #T_cb4ef232_7438_11ea_bc06_0242ac1c0002row22_col0 {\n",
              "            background-color:  #fff5f0;\n",
              "            color:  #000000;\n",
              "        }    #T_cb4ef232_7438_11ea_bc06_0242ac1c0002row23_col0 {\n",
              "            background-color:  #fff5f0;\n",
              "            color:  #000000;\n",
              "        }    #T_cb4ef232_7438_11ea_bc06_0242ac1c0002row24_col0 {\n",
              "            background-color:  #fff5f0;\n",
              "            color:  #000000;\n",
              "        }    #T_cb4ef232_7438_11ea_bc06_0242ac1c0002row25_col0 {\n",
              "            background-color:  #fff5f0;\n",
              "            color:  #000000;\n",
              "        }    #T_cb4ef232_7438_11ea_bc06_0242ac1c0002row26_col0 {\n",
              "            background-color:  #fff5f0;\n",
              "            color:  #000000;\n",
              "        }</style><table id=\"T_cb4ef232_7438_11ea_bc06_0242ac1c0002\" ><thead>    <tr>        <th class=\"blank level0\" ></th>        <th class=\"col_heading level0 col0\" >Deaths</th>    </tr>    <tr>        <th class=\"index_name level0\" >State</th>        <th class=\"blank\" ></th>    </tr></thead><tbody>\n",
              "                <tr>\n",
              "                        <th id=\"T_cb4ef232_7438_11ea_bc06_0242ac1c0002level0_row0\" class=\"row_heading level0 row0\" >Maharashtra</th>\n",
              "                        <td id=\"T_cb4ef232_7438_11ea_bc06_0242ac1c0002row0_col0\" class=\"data row0 col0\" >5</td>\n",
              "            </tr>\n",
              "            <tr>\n",
              "                        <th id=\"T_cb4ef232_7438_11ea_bc06_0242ac1c0002level0_row1\" class=\"row_heading level0 row1\" >Gujarat</th>\n",
              "                        <td id=\"T_cb4ef232_7438_11ea_bc06_0242ac1c0002row1_col0\" class=\"data row1 col0\" >3</td>\n",
              "            </tr>\n",
              "            <tr>\n",
              "                        <th id=\"T_cb4ef232_7438_11ea_bc06_0242ac1c0002level0_row2\" class=\"row_heading level0 row2\" >Madhya Pradesh</th>\n",
              "                        <td id=\"T_cb4ef232_7438_11ea_bc06_0242ac1c0002row2_col0\" class=\"data row2 col0\" >2</td>\n",
              "            </tr>\n",
              "            <tr>\n",
              "                        <th id=\"T_cb4ef232_7438_11ea_bc06_0242ac1c0002level0_row3\" class=\"row_heading level0 row3\" >Karnataka</th>\n",
              "                        <td id=\"T_cb4ef232_7438_11ea_bc06_0242ac1c0002row3_col0\" class=\"data row3 col0\" >2</td>\n",
              "            </tr>\n",
              "            <tr>\n",
              "                        <th id=\"T_cb4ef232_7438_11ea_bc06_0242ac1c0002level0_row4\" class=\"row_heading level0 row4\" >West Bengal</th>\n",
              "                        <td id=\"T_cb4ef232_7438_11ea_bc06_0242ac1c0002row4_col0\" class=\"data row4 col0\" >1</td>\n",
              "            </tr>\n",
              "            <tr>\n",
              "                        <th id=\"T_cb4ef232_7438_11ea_bc06_0242ac1c0002level0_row5\" class=\"row_heading level0 row5\" >Jammu and Kashmir</th>\n",
              "                        <td id=\"T_cb4ef232_7438_11ea_bc06_0242ac1c0002row5_col0\" class=\"data row5 col0\" >1</td>\n",
              "            </tr>\n",
              "            <tr>\n",
              "                        <th id=\"T_cb4ef232_7438_11ea_bc06_0242ac1c0002level0_row6\" class=\"row_heading level0 row6\" >Bihar</th>\n",
              "                        <td id=\"T_cb4ef232_7438_11ea_bc06_0242ac1c0002row6_col0\" class=\"data row6 col0\" >1</td>\n",
              "            </tr>\n",
              "            <tr>\n",
              "                        <th id=\"T_cb4ef232_7438_11ea_bc06_0242ac1c0002level0_row7\" class=\"row_heading level0 row7\" >Tamil Nadu</th>\n",
              "                        <td id=\"T_cb4ef232_7438_11ea_bc06_0242ac1c0002row7_col0\" class=\"data row7 col0\" >1</td>\n",
              "            </tr>\n",
              "            <tr>\n",
              "                        <th id=\"T_cb4ef232_7438_11ea_bc06_0242ac1c0002level0_row8\" class=\"row_heading level0 row8\" >Punjab</th>\n",
              "                        <td id=\"T_cb4ef232_7438_11ea_bc06_0242ac1c0002row8_col0\" class=\"data row8 col0\" >1</td>\n",
              "            </tr>\n",
              "            <tr>\n",
              "                        <th id=\"T_cb4ef232_7438_11ea_bc06_0242ac1c0002level0_row9\" class=\"row_heading level0 row9\" >Delhi</th>\n",
              "                        <td id=\"T_cb4ef232_7438_11ea_bc06_0242ac1c0002row9_col0\" class=\"data row9 col0\" >1</td>\n",
              "            </tr>\n",
              "            <tr>\n",
              "                        <th id=\"T_cb4ef232_7438_11ea_bc06_0242ac1c0002level0_row10\" class=\"row_heading level0 row10\" >Himachal Pradesh</th>\n",
              "                        <td id=\"T_cb4ef232_7438_11ea_bc06_0242ac1c0002row10_col0\" class=\"data row10 col0\" >1</td>\n",
              "            </tr>\n",
              "            <tr>\n",
              "                        <th id=\"T_cb4ef232_7438_11ea_bc06_0242ac1c0002level0_row11\" class=\"row_heading level0 row11\" >Andhra Pradesh</th>\n",
              "                        <td id=\"T_cb4ef232_7438_11ea_bc06_0242ac1c0002row11_col0\" class=\"data row11 col0\" >0</td>\n",
              "            </tr>\n",
              "            <tr>\n",
              "                        <th id=\"T_cb4ef232_7438_11ea_bc06_0242ac1c0002level0_row12\" class=\"row_heading level0 row12\" >Chandigarh</th>\n",
              "                        <td id=\"T_cb4ef232_7438_11ea_bc06_0242ac1c0002row12_col0\" class=\"data row12 col0\" >0</td>\n",
              "            </tr>\n",
              "            <tr>\n",
              "                        <th id=\"T_cb4ef232_7438_11ea_bc06_0242ac1c0002level0_row13\" class=\"row_heading level0 row13\" >Chattisgarh</th>\n",
              "                        <td id=\"T_cb4ef232_7438_11ea_bc06_0242ac1c0002row13_col0\" class=\"data row13 col0\" >0</td>\n",
              "            </tr>\n",
              "            <tr>\n",
              "                        <th id=\"T_cb4ef232_7438_11ea_bc06_0242ac1c0002level0_row14\" class=\"row_heading level0 row14\" >Goa</th>\n",
              "                        <td id=\"T_cb4ef232_7438_11ea_bc06_0242ac1c0002row14_col0\" class=\"data row14 col0\" >0</td>\n",
              "            </tr>\n",
              "            <tr>\n",
              "                        <th id=\"T_cb4ef232_7438_11ea_bc06_0242ac1c0002level0_row15\" class=\"row_heading level0 row15\" >Haryana</th>\n",
              "                        <td id=\"T_cb4ef232_7438_11ea_bc06_0242ac1c0002row15_col0\" class=\"data row15 col0\" >0</td>\n",
              "            </tr>\n",
              "            <tr>\n",
              "                        <th id=\"T_cb4ef232_7438_11ea_bc06_0242ac1c0002level0_row16\" class=\"row_heading level0 row16\" >Ladakh</th>\n",
              "                        <td id=\"T_cb4ef232_7438_11ea_bc06_0242ac1c0002row16_col0\" class=\"data row16 col0\" >0</td>\n",
              "            </tr>\n",
              "            <tr>\n",
              "                        <th id=\"T_cb4ef232_7438_11ea_bc06_0242ac1c0002level0_row17\" class=\"row_heading level0 row17\" >Kerala</th>\n",
              "                        <td id=\"T_cb4ef232_7438_11ea_bc06_0242ac1c0002row17_col0\" class=\"data row17 col0\" >0</td>\n",
              "            </tr>\n",
              "            <tr>\n",
              "                        <th id=\"T_cb4ef232_7438_11ea_bc06_0242ac1c0002level0_row18\" class=\"row_heading level0 row18\" >Uttarakhand</th>\n",
              "                        <td id=\"T_cb4ef232_7438_11ea_bc06_0242ac1c0002row18_col0\" class=\"data row18 col0\" >0</td>\n",
              "            </tr>\n",
              "            <tr>\n",
              "                        <th id=\"T_cb4ef232_7438_11ea_bc06_0242ac1c0002level0_row19\" class=\"row_heading level0 row19\" >Manipur</th>\n",
              "                        <td id=\"T_cb4ef232_7438_11ea_bc06_0242ac1c0002row19_col0\" class=\"data row19 col0\" >0</td>\n",
              "            </tr>\n",
              "            <tr>\n",
              "                        <th id=\"T_cb4ef232_7438_11ea_bc06_0242ac1c0002level0_row20\" class=\"row_heading level0 row20\" >Mizoram</th>\n",
              "                        <td id=\"T_cb4ef232_7438_11ea_bc06_0242ac1c0002row20_col0\" class=\"data row20 col0\" >0</td>\n",
              "            </tr>\n",
              "            <tr>\n",
              "                        <th id=\"T_cb4ef232_7438_11ea_bc06_0242ac1c0002level0_row21\" class=\"row_heading level0 row21\" >Odisha</th>\n",
              "                        <td id=\"T_cb4ef232_7438_11ea_bc06_0242ac1c0002row21_col0\" class=\"data row21 col0\" >0</td>\n",
              "            </tr>\n",
              "            <tr>\n",
              "                        <th id=\"T_cb4ef232_7438_11ea_bc06_0242ac1c0002level0_row22\" class=\"row_heading level0 row22\" >Pondicherry</th>\n",
              "                        <td id=\"T_cb4ef232_7438_11ea_bc06_0242ac1c0002row22_col0\" class=\"data row22 col0\" >0</td>\n",
              "            </tr>\n",
              "            <tr>\n",
              "                        <th id=\"T_cb4ef232_7438_11ea_bc06_0242ac1c0002level0_row23\" class=\"row_heading level0 row23\" >Rajasthan</th>\n",
              "                        <td id=\"T_cb4ef232_7438_11ea_bc06_0242ac1c0002row23_col0\" class=\"data row23 col0\" >0</td>\n",
              "            </tr>\n",
              "            <tr>\n",
              "                        <th id=\"T_cb4ef232_7438_11ea_bc06_0242ac1c0002level0_row24\" class=\"row_heading level0 row24\" >Telengana</th>\n",
              "                        <td id=\"T_cb4ef232_7438_11ea_bc06_0242ac1c0002row24_col0\" class=\"data row24 col0\" >0</td>\n",
              "            </tr>\n",
              "            <tr>\n",
              "                        <th id=\"T_cb4ef232_7438_11ea_bc06_0242ac1c0002level0_row25\" class=\"row_heading level0 row25\" >Uttar Pradesh</th>\n",
              "                        <td id=\"T_cb4ef232_7438_11ea_bc06_0242ac1c0002row25_col0\" class=\"data row25 col0\" >0</td>\n",
              "            </tr>\n",
              "            <tr>\n",
              "                        <th id=\"T_cb4ef232_7438_11ea_bc06_0242ac1c0002level0_row26\" class=\"row_heading level0 row26\" >Andaman and Nicobar Islands</th>\n",
              "                        <td id=\"T_cb4ef232_7438_11ea_bc06_0242ac1c0002row26_col0\" class=\"data row26 col0\" >0</td>\n",
              "            </tr>\n",
              "    </tbody></table>"
            ],
            "text/plain": [
              "<pandas.io.formats.style.Styler at 0x7f584ff23dd8>"
            ]
          },
          "metadata": {
            "tags": []
          },
          "execution_count": 17
        }
      ]
    },
    {
      "cell_type": "code",
      "metadata": {
        "id": "UUdXof0troML",
        "colab_type": "code",
        "outputId": "bd93a932-fdbb-4c4e-f877-97ac31375f75",
        "colab": {
          "base_uri": "https://localhost:8080/",
          "height": 628
        }
      },
      "source": [
        "sns.set(style='darkgrid',font_scale=1.2)\n",
        "a = df.groupby(['State'])['Active cases'].sum().sort_values(ascending = False).to_frame()\n",
        "a.style.background_gradient(cmap='Blues')"
      ],
      "execution_count": 0,
      "outputs": [
        {
          "output_type": "execute_result",
          "data": {
            "text/html": [
              "<style  type=\"text/css\" >\n",
              "    #T_cc15761e_7438_11ea_bc06_0242ac1c0002row0_col0 {\n",
              "            background-color:  #08306b;\n",
              "            color:  #f1f1f1;\n",
              "        }    #T_cc15761e_7438_11ea_bc06_0242ac1c0002row1_col0 {\n",
              "            background-color:  #08488e;\n",
              "            color:  #f1f1f1;\n",
              "        }    #T_cc15761e_7438_11ea_bc06_0242ac1c0002row2_col0 {\n",
              "            background-color:  #add0e6;\n",
              "            color:  #000000;\n",
              "        }    #T_cc15761e_7438_11ea_bc06_0242ac1c0002row3_col0 {\n",
              "            background-color:  #b4d3e9;\n",
              "            color:  #000000;\n",
              "        }    #T_cc15761e_7438_11ea_bc06_0242ac1c0002row4_col0 {\n",
              "            background-color:  #b7d4ea;\n",
              "            color:  #000000;\n",
              "        }    #T_cc15761e_7438_11ea_bc06_0242ac1c0002row5_col0 {\n",
              "            background-color:  #c2d9ee;\n",
              "            color:  #000000;\n",
              "        }    #T_cc15761e_7438_11ea_bc06_0242ac1c0002row6_col0 {\n",
              "            background-color:  #c6dbef;\n",
              "            color:  #000000;\n",
              "        }    #T_cc15761e_7438_11ea_bc06_0242ac1c0002row7_col0 {\n",
              "            background-color:  #ccdff1;\n",
              "            color:  #000000;\n",
              "        }    #T_cc15761e_7438_11ea_bc06_0242ac1c0002row8_col0 {\n",
              "            background-color:  #cde0f1;\n",
              "            color:  #000000;\n",
              "        }    #T_cc15761e_7438_11ea_bc06_0242ac1c0002row9_col0 {\n",
              "            background-color:  #d2e3f3;\n",
              "            color:  #000000;\n",
              "        }    #T_cc15761e_7438_11ea_bc06_0242ac1c0002row10_col0 {\n",
              "            background-color:  #d6e6f4;\n",
              "            color:  #000000;\n",
              "        }    #T_cc15761e_7438_11ea_bc06_0242ac1c0002row11_col0 {\n",
              "            background-color:  #dfebf7;\n",
              "            color:  #000000;\n",
              "        }    #T_cc15761e_7438_11ea_bc06_0242ac1c0002row12_col0 {\n",
              "            background-color:  #e3eef8;\n",
              "            color:  #000000;\n",
              "        }    #T_cc15761e_7438_11ea_bc06_0242ac1c0002row13_col0 {\n",
              "            background-color:  #e7f1fa;\n",
              "            color:  #000000;\n",
              "        }    #T_cc15761e_7438_11ea_bc06_0242ac1c0002row14_col0 {\n",
              "            background-color:  #e9f2fa;\n",
              "            color:  #000000;\n",
              "        }    #T_cc15761e_7438_11ea_bc06_0242ac1c0002row15_col0 {\n",
              "            background-color:  #ecf4fb;\n",
              "            color:  #000000;\n",
              "        }    #T_cc15761e_7438_11ea_bc06_0242ac1c0002row16_col0 {\n",
              "            background-color:  #eff6fc;\n",
              "            color:  #000000;\n",
              "        }    #T_cc15761e_7438_11ea_bc06_0242ac1c0002row17_col0 {\n",
              "            background-color:  #eff6fc;\n",
              "            color:  #000000;\n",
              "        }    #T_cc15761e_7438_11ea_bc06_0242ac1c0002row18_col0 {\n",
              "            background-color:  #f2f7fd;\n",
              "            color:  #000000;\n",
              "        }    #T_cc15761e_7438_11ea_bc06_0242ac1c0002row19_col0 {\n",
              "            background-color:  #f2f7fd;\n",
              "            color:  #000000;\n",
              "        }    #T_cc15761e_7438_11ea_bc06_0242ac1c0002row20_col0 {\n",
              "            background-color:  #f2f8fd;\n",
              "            color:  #000000;\n",
              "        }    #T_cc15761e_7438_11ea_bc06_0242ac1c0002row21_col0 {\n",
              "            background-color:  #f5f9fe;\n",
              "            color:  #000000;\n",
              "        }    #T_cc15761e_7438_11ea_bc06_0242ac1c0002row22_col0 {\n",
              "            background-color:  #f5f9fe;\n",
              "            color:  #000000;\n",
              "        }    #T_cc15761e_7438_11ea_bc06_0242ac1c0002row23_col0 {\n",
              "            background-color:  #f6faff;\n",
              "            color:  #000000;\n",
              "        }    #T_cc15761e_7438_11ea_bc06_0242ac1c0002row24_col0 {\n",
              "            background-color:  #f7fbff;\n",
              "            color:  #000000;\n",
              "        }    #T_cc15761e_7438_11ea_bc06_0242ac1c0002row25_col0 {\n",
              "            background-color:  #f7fbff;\n",
              "            color:  #000000;\n",
              "        }    #T_cc15761e_7438_11ea_bc06_0242ac1c0002row26_col0 {\n",
              "            background-color:  #f7fbff;\n",
              "            color:  #000000;\n",
              "        }</style><table id=\"T_cc15761e_7438_11ea_bc06_0242ac1c0002\" ><thead>    <tr>        <th class=\"blank level0\" ></th>        <th class=\"col_heading level0 col0\" >Active cases</th>    </tr>    <tr>        <th class=\"index_name level0\" >State</th>        <th class=\"blank\" ></th>    </tr></thead><tbody>\n",
              "                <tr>\n",
              "                        <th id=\"T_cc15761e_7438_11ea_bc06_0242ac1c0002level0_row0\" class=\"row_heading level0 row0\" >Kerala</th>\n",
              "                        <td id=\"T_cc15761e_7438_11ea_bc06_0242ac1c0002row0_col0\" class=\"data row0 col0\" >165</td>\n",
              "            </tr>\n",
              "            <tr>\n",
              "                        <th id=\"T_cc15761e_7438_11ea_bc06_0242ac1c0002level0_row1\" class=\"row_heading level0 row1\" >Maharashtra</th>\n",
              "                        <td id=\"T_cc15761e_7438_11ea_bc06_0242ac1c0002row1_col0\" class=\"data row1 col0\" >150</td>\n",
              "            </tr>\n",
              "            <tr>\n",
              "                        <th id=\"T_cc15761e_7438_11ea_bc06_0242ac1c0002level0_row2\" class=\"row_heading level0 row2\" >Telengana</th>\n",
              "                        <td id=\"T_cc15761e_7438_11ea_bc06_0242ac1c0002row2_col0\" class=\"data row2 col0\" >55</td>\n",
              "            </tr>\n",
              "            <tr>\n",
              "                        <th id=\"T_cc15761e_7438_11ea_bc06_0242ac1c0002level0_row3\" class=\"row_heading level0 row3\" >Rajasthan</th>\n",
              "                        <td id=\"T_cc15761e_7438_11ea_bc06_0242ac1c0002row3_col0\" class=\"data row3 col0\" >51</td>\n",
              "            </tr>\n",
              "            <tr>\n",
              "                        <th id=\"T_cc15761e_7438_11ea_bc06_0242ac1c0002level0_row4\" class=\"row_heading level0 row4\" >Karnataka</th>\n",
              "                        <td id=\"T_cc15761e_7438_11ea_bc06_0242ac1c0002row4_col0\" class=\"data row4 col0\" >50</td>\n",
              "            </tr>\n",
              "            <tr>\n",
              "                        <th id=\"T_cc15761e_7438_11ea_bc06_0242ac1c0002level0_row5\" class=\"row_heading level0 row5\" >Uttar Pradesh</th>\n",
              "                        <td id=\"T_cc15761e_7438_11ea_bc06_0242ac1c0002row5_col0\" class=\"data row5 col0\" >44</td>\n",
              "            </tr>\n",
              "            <tr>\n",
              "                        <th id=\"T_cc15761e_7438_11ea_bc06_0242ac1c0002level0_row6\" class=\"row_heading level0 row6\" >Gujarat</th>\n",
              "                        <td id=\"T_cc15761e_7438_11ea_bc06_0242ac1c0002row6_col0\" class=\"data row6 col0\" >42</td>\n",
              "            </tr>\n",
              "            <tr>\n",
              "                        <th id=\"T_cc15761e_7438_11ea_bc06_0242ac1c0002level0_row7\" class=\"row_heading level0 row7\" >Tamil Nadu</th>\n",
              "                        <td id=\"T_cc15761e_7438_11ea_bc06_0242ac1c0002row7_col0\" class=\"data row7 col0\" >37</td>\n",
              "            </tr>\n",
              "            <tr>\n",
              "                        <th id=\"T_cc15761e_7438_11ea_bc06_0242ac1c0002level0_row8\" class=\"row_heading level0 row8\" >Punjab</th>\n",
              "                        <td id=\"T_cc15761e_7438_11ea_bc06_0242ac1c0002row8_col0\" class=\"data row8 col0\" >36</td>\n",
              "            </tr>\n",
              "            <tr>\n",
              "                        <th id=\"T_cc15761e_7438_11ea_bc06_0242ac1c0002level0_row9\" class=\"row_heading level0 row9\" >Delhi</th>\n",
              "                        <td id=\"T_cc15761e_7438_11ea_bc06_0242ac1c0002row9_col0\" class=\"data row9 col0\" >32</td>\n",
              "            </tr>\n",
              "            <tr>\n",
              "                        <th id=\"T_cc15761e_7438_11ea_bc06_0242ac1c0002level0_row10\" class=\"row_heading level0 row10\" >Madhya Pradesh</th>\n",
              "                        <td id=\"T_cc15761e_7438_11ea_bc06_0242ac1c0002row10_col0\" class=\"data row10 col0\" >28</td>\n",
              "            </tr>\n",
              "            <tr>\n",
              "                        <th id=\"T_cc15761e_7438_11ea_bc06_0242ac1c0002level0_row11\" class=\"row_heading level0 row11\" >Haryana</th>\n",
              "                        <td id=\"T_cc15761e_7438_11ea_bc06_0242ac1c0002row11_col0\" class=\"data row11 col0\" >21</td>\n",
              "            </tr>\n",
              "            <tr>\n",
              "                        <th id=\"T_cc15761e_7438_11ea_bc06_0242ac1c0002level0_row12\" class=\"row_heading level0 row12\" >Jammu and Kashmir</th>\n",
              "                        <td id=\"T_cc15761e_7438_11ea_bc06_0242ac1c0002row12_col0\" class=\"data row12 col0\" >18</td>\n",
              "            </tr>\n",
              "            <tr>\n",
              "                        <th id=\"T_cc15761e_7438_11ea_bc06_0242ac1c0002level0_row13\" class=\"row_heading level0 row13\" >West Bengal</th>\n",
              "                        <td id=\"T_cc15761e_7438_11ea_bc06_0242ac1c0002row13_col0\" class=\"data row13 col0\" >14</td>\n",
              "            </tr>\n",
              "            <tr>\n",
              "                        <th id=\"T_cc15761e_7438_11ea_bc06_0242ac1c0002level0_row14\" class=\"row_heading level0 row14\" >Andhra Pradesh</th>\n",
              "                        <td id=\"T_cc15761e_7438_11ea_bc06_0242ac1c0002row14_col0\" class=\"data row14 col0\" >13</td>\n",
              "            </tr>\n",
              "            <tr>\n",
              "                        <th id=\"T_cc15761e_7438_11ea_bc06_0242ac1c0002level0_row15\" class=\"row_heading level0 row15\" >Ladakh</th>\n",
              "                        <td id=\"T_cc15761e_7438_11ea_bc06_0242ac1c0002row15_col0\" class=\"data row15 col0\" >10</td>\n",
              "            </tr>\n",
              "            <tr>\n",
              "                        <th id=\"T_cc15761e_7438_11ea_bc06_0242ac1c0002level0_row16\" class=\"row_heading level0 row16\" >Chandigarh</th>\n",
              "                        <td id=\"T_cc15761e_7438_11ea_bc06_0242ac1c0002row16_col0\" class=\"data row16 col0\" >8</td>\n",
              "            </tr>\n",
              "            <tr>\n",
              "                        <th id=\"T_cc15761e_7438_11ea_bc06_0242ac1c0002level0_row17\" class=\"row_heading level0 row17\" >Bihar</th>\n",
              "                        <td id=\"T_cc15761e_7438_11ea_bc06_0242ac1c0002row17_col0\" class=\"data row17 col0\" >8</td>\n",
              "            </tr>\n",
              "            <tr>\n",
              "                        <th id=\"T_cc15761e_7438_11ea_bc06_0242ac1c0002level0_row18\" class=\"row_heading level0 row18\" >Chattisgarh</th>\n",
              "                        <td id=\"T_cc15761e_7438_11ea_bc06_0242ac1c0002row18_col0\" class=\"data row18 col0\" >6</td>\n",
              "            </tr>\n",
              "            <tr>\n",
              "                        <th id=\"T_cc15761e_7438_11ea_bc06_0242ac1c0002level0_row19\" class=\"row_heading level0 row19\" >Andaman and Nicobar Islands</th>\n",
              "                        <td id=\"T_cc15761e_7438_11ea_bc06_0242ac1c0002row19_col0\" class=\"data row19 col0\" >6</td>\n",
              "            </tr>\n",
              "            <tr>\n",
              "                        <th id=\"T_cc15761e_7438_11ea_bc06_0242ac1c0002level0_row20\" class=\"row_heading level0 row20\" >Uttarakhand</th>\n",
              "                        <td id=\"T_cc15761e_7438_11ea_bc06_0242ac1c0002row20_col0\" class=\"data row20 col0\" >5</td>\n",
              "            </tr>\n",
              "            <tr>\n",
              "                        <th id=\"T_cc15761e_7438_11ea_bc06_0242ac1c0002level0_row21\" class=\"row_heading level0 row21\" >Goa</th>\n",
              "                        <td id=\"T_cc15761e_7438_11ea_bc06_0242ac1c0002row21_col0\" class=\"data row21 col0\" >3</td>\n",
              "            </tr>\n",
              "            <tr>\n",
              "                        <th id=\"T_cc15761e_7438_11ea_bc06_0242ac1c0002level0_row22\" class=\"row_heading level0 row22\" >Odisha</th>\n",
              "                        <td id=\"T_cc15761e_7438_11ea_bc06_0242ac1c0002row22_col0\" class=\"data row22 col0\" >3</td>\n",
              "            </tr>\n",
              "            <tr>\n",
              "                        <th id=\"T_cc15761e_7438_11ea_bc06_0242ac1c0002level0_row23\" class=\"row_heading level0 row23\" >Himachal Pradesh</th>\n",
              "                        <td id=\"T_cc15761e_7438_11ea_bc06_0242ac1c0002row23_col0\" class=\"data row23 col0\" >2</td>\n",
              "            </tr>\n",
              "            <tr>\n",
              "                        <th id=\"T_cc15761e_7438_11ea_bc06_0242ac1c0002level0_row24\" class=\"row_heading level0 row24\" >Manipur</th>\n",
              "                        <td id=\"T_cc15761e_7438_11ea_bc06_0242ac1c0002row24_col0\" class=\"data row24 col0\" >1</td>\n",
              "            </tr>\n",
              "            <tr>\n",
              "                        <th id=\"T_cc15761e_7438_11ea_bc06_0242ac1c0002level0_row25\" class=\"row_heading level0 row25\" >Mizoram</th>\n",
              "                        <td id=\"T_cc15761e_7438_11ea_bc06_0242ac1c0002row25_col0\" class=\"data row25 col0\" >1</td>\n",
              "            </tr>\n",
              "            <tr>\n",
              "                        <th id=\"T_cc15761e_7438_11ea_bc06_0242ac1c0002level0_row26\" class=\"row_heading level0 row26\" >Pondicherry</th>\n",
              "                        <td id=\"T_cc15761e_7438_11ea_bc06_0242ac1c0002row26_col0\" class=\"data row26 col0\" >1</td>\n",
              "            </tr>\n",
              "    </tbody></table>"
            ],
            "text/plain": [
              "<pandas.io.formats.style.Styler at 0x7f584ff06be0>"
            ]
          },
          "metadata": {
            "tags": []
          },
          "execution_count": 18
        }
      ]
    },
    {
      "cell_type": "code",
      "metadata": {
        "id": "oBVKhRKSp7-S",
        "colab_type": "code",
        "outputId": "13e7dbd8-45af-4eee-cea6-6a97990419be",
        "colab": {
          "base_uri": "https://localhost:8080/",
          "height": 601
        }
      },
      "source": [
        "plt.figure(figsize=[10,8])\n",
        "sns.barplot(df['Active cases'],df['State'])\n",
        "plt.xlabel('Number of Cases')\n",
        "plt.ylabel('State')\n",
        "plt.title('State-wise Active cases')\n",
        "plt.xticks(rotation=90)"
      ],
      "execution_count": 0,
      "outputs": [
        {
          "output_type": "execute_result",
          "data": {
            "text/plain": [
              "(array([  0.,  20.,  40.,  60.,  80., 100., 120., 140., 160., 180.]),\n",
              " <a list of 10 Text major ticklabel objects>)"
            ]
          },
          "metadata": {
            "tags": []
          },
          "execution_count": 19
        },
        {
          "output_type": "display_data",
          "data": {
            "image/png": "[encoded data removed]",
            "text/plain": [
              "<Figure size 720x576 with 1 Axes>"
            ]
          },
          "metadata": {
            "tags": []
          }
        }
      ]
    },
    {
      "cell_type": "markdown",
      "metadata": {
        "id": "IcOtweZHqw5q",
        "colab_type": "text"
      },
      "source": [
        ""
      ]
    },
    {
      "cell_type": "code",
      "metadata": {
        "id": "U7HWKAHEcide",
        "colab_type": "code",
        "outputId": "423388df-8ee5-4733-c3cc-dcf32507513a",
        "colab": {
          "base_uri": "https://localhost:8080/",
          "height": 324
        }
      },
      "source": [
        "df1.rename(columns={'Name of State / UT':'State'},inplace=True)\n",
        "df1.drop(columns='Unnamed: 3',inplace=True)\n"
      ],
      "execution_count": 0,
      "outputs": [
        {
          "output_type": "error",
          "ename": "KeyError",
          "evalue": "ignored",
          "traceback": [
            "\u001b[0;31m---------------------------------------------------------------------------\u001b[0m",
            "\u001b[0;31mKeyError\u001b[0m                                  Traceback (most recent call last)",
            "\u001b[0;32m<ipython-input-20-31c6f57551a3>\u001b[0m in \u001b[0;36m<module>\u001b[0;34m()\u001b[0m\n\u001b[1;32m      1\u001b[0m \u001b[0mdf1\u001b[0m\u001b[0;34m.\u001b[0m\u001b[0mrename\u001b[0m\u001b[0;34m(\u001b[0m\u001b[0mcolumns\u001b[0m\u001b[0;34m=\u001b[0m\u001b[0;34m{\u001b[0m\u001b[0;34m'Name of State / UT'\u001b[0m\u001b[0;34m:\u001b[0m\u001b[0;34m'State'\u001b[0m\u001b[0;34m}\u001b[0m\u001b[0;34m,\u001b[0m\u001b[0minplace\u001b[0m\u001b[0;34m=\u001b[0m\u001b[0;32mTrue\u001b[0m\u001b[0;34m)\u001b[0m\u001b[0;34m\u001b[0m\u001b[0;34m\u001b[0m\u001b[0m\n\u001b[0;32m----> 2\u001b[0;31m \u001b[0mdf1\u001b[0m\u001b[0;34m.\u001b[0m\u001b[0mdrop\u001b[0m\u001b[0;34m(\u001b[0m\u001b[0mcolumns\u001b[0m\u001b[0;34m=\u001b[0m\u001b[0;34m'Unnamed: 3'\u001b[0m\u001b[0;34m,\u001b[0m\u001b[0minplace\u001b[0m\u001b[0;34m=\u001b[0m\u001b[0;32mTrue\u001b[0m\u001b[0;34m)\u001b[0m\u001b[0;34m\u001b[0m\u001b[0;34m\u001b[0m\u001b[0m\n\u001b[0m",
            "\u001b[0;32m/usr/local/lib/python3.6/dist-packages/pandas/core/frame.py\u001b[0m in \u001b[0;36mdrop\u001b[0;34m(self, labels, axis, index, columns, level, inplace, errors)\u001b[0m\n\u001b[1;32m   3995\u001b[0m             \u001b[0mlevel\u001b[0m\u001b[0;34m=\u001b[0m\u001b[0mlevel\u001b[0m\u001b[0;34m,\u001b[0m\u001b[0;34m\u001b[0m\u001b[0;34m\u001b[0m\u001b[0m\n\u001b[1;32m   3996\u001b[0m             \u001b[0minplace\u001b[0m\u001b[0;34m=\u001b[0m\u001b[0minplace\u001b[0m\u001b[0;34m,\u001b[0m\u001b[0;34m\u001b[0m\u001b[0;34m\u001b[0m\u001b[0m\n\u001b[0;32m-> 3997\u001b[0;31m             \u001b[0merrors\u001b[0m\u001b[0;34m=\u001b[0m\u001b[0merrors\u001b[0m\u001b[0;34m,\u001b[0m\u001b[0;34m\u001b[0m\u001b[0;34m\u001b[0m\u001b[0m\n\u001b[0m\u001b[1;32m   3998\u001b[0m         )\n\u001b[1;32m   3999\u001b[0m \u001b[0;34m\u001b[0m\u001b[0m\n",
            "\u001b[0;32m/usr/local/lib/python3.6/dist-packages/pandas/core/generic.py\u001b[0m in \u001b[0;36mdrop\u001b[0;34m(self, labels, axis, index, columns, level, inplace, errors)\u001b[0m\n\u001b[1;32m   3934\u001b[0m         \u001b[0;32mfor\u001b[0m \u001b[0maxis\u001b[0m\u001b[0;34m,\u001b[0m \u001b[0mlabels\u001b[0m \u001b[0;32min\u001b[0m \u001b[0maxes\u001b[0m\u001b[0;34m.\u001b[0m\u001b[0mitems\u001b[0m\u001b[0;34m(\u001b[0m\u001b[0;34m)\u001b[0m\u001b[0;34m:\u001b[0m\u001b[0;34m\u001b[0m\u001b[0;34m\u001b[0m\u001b[0m\n\u001b[1;32m   3935\u001b[0m             \u001b[0;32mif\u001b[0m \u001b[0mlabels\u001b[0m \u001b[0;32mis\u001b[0m \u001b[0;32mnot\u001b[0m \u001b[0;32mNone\u001b[0m\u001b[0;34m:\u001b[0m\u001b[0;34m\u001b[0m\u001b[0;34m\u001b[0m\u001b[0m\n\u001b[0;32m-> 3936\u001b[0;31m                 \u001b[0mobj\u001b[0m \u001b[0;34m=\u001b[0m \u001b[0mobj\u001b[0m\u001b[0;34m.\u001b[0m\u001b[0m_drop_axis\u001b[0m\u001b[0;34m(\u001b[0m\u001b[0mlabels\u001b[0m\u001b[0;34m,\u001b[0m \u001b[0maxis\u001b[0m\u001b[0;34m,\u001b[0m \u001b[0mlevel\u001b[0m\u001b[0;34m=\u001b[0m\u001b[0mlevel\u001b[0m\u001b[0;34m,\u001b[0m \u001b[0merrors\u001b[0m\u001b[0;34m=\u001b[0m\u001b[0merrors\u001b[0m\u001b[0;34m)\u001b[0m\u001b[0;34m\u001b[0m\u001b[0;34m\u001b[0m\u001b[0m\n\u001b[0m\u001b[1;32m   3937\u001b[0m \u001b[0;34m\u001b[0m\u001b[0m\n\u001b[1;32m   3938\u001b[0m         \u001b[0;32mif\u001b[0m \u001b[0minplace\u001b[0m\u001b[0;34m:\u001b[0m\u001b[0;34m\u001b[0m\u001b[0;34m\u001b[0m\u001b[0m\n",
            "\u001b[0;32m/usr/local/lib/python3.6/dist-packages/pandas/core/generic.py\u001b[0m in \u001b[0;36m_drop_axis\u001b[0;34m(self, labels, axis, level, errors)\u001b[0m\n\u001b[1;32m   3968\u001b[0m                 \u001b[0mnew_axis\u001b[0m \u001b[0;34m=\u001b[0m \u001b[0maxis\u001b[0m\u001b[0;34m.\u001b[0m\u001b[0mdrop\u001b[0m\u001b[0;34m(\u001b[0m\u001b[0mlabels\u001b[0m\u001b[0;34m,\u001b[0m \u001b[0mlevel\u001b[0m\u001b[0;34m=\u001b[0m\u001b[0mlevel\u001b[0m\u001b[0;34m,\u001b[0m \u001b[0merrors\u001b[0m\u001b[0;34m=\u001b[0m\u001b[0merrors\u001b[0m\u001b[0;34m)\u001b[0m\u001b[0;34m\u001b[0m\u001b[0;34m\u001b[0m\u001b[0m\n\u001b[1;32m   3969\u001b[0m             \u001b[0;32melse\u001b[0m\u001b[0;34m:\u001b[0m\u001b[0;34m\u001b[0m\u001b[0;34m\u001b[0m\u001b[0m\n\u001b[0;32m-> 3970\u001b[0;31m                 \u001b[0mnew_axis\u001b[0m \u001b[0;34m=\u001b[0m \u001b[0maxis\u001b[0m\u001b[0;34m.\u001b[0m\u001b[0mdrop\u001b[0m\u001b[0;34m(\u001b[0m\u001b[0mlabels\u001b[0m\u001b[0;34m,\u001b[0m \u001b[0merrors\u001b[0m\u001b[0;34m=\u001b[0m\u001b[0merrors\u001b[0m\u001b[0;34m)\u001b[0m\u001b[0;34m\u001b[0m\u001b[0;34m\u001b[0m\u001b[0m\n\u001b[0m\u001b[1;32m   3971\u001b[0m             \u001b[0mresult\u001b[0m \u001b[0;34m=\u001b[0m \u001b[0mself\u001b[0m\u001b[0;34m.\u001b[0m\u001b[0mreindex\u001b[0m\u001b[0;34m(\u001b[0m\u001b[0;34m**\u001b[0m\u001b[0;34m{\u001b[0m\u001b[0maxis_name\u001b[0m\u001b[0;34m:\u001b[0m \u001b[0mnew_axis\u001b[0m\u001b[0;34m}\u001b[0m\u001b[0;34m)\u001b[0m\u001b[0;34m\u001b[0m\u001b[0;34m\u001b[0m\u001b[0m\n\u001b[1;32m   3972\u001b[0m \u001b[0;34m\u001b[0m\u001b[0m\n",
            "\u001b[0;32m/usr/local/lib/python3.6/dist-packages/pandas/core/indexes/base.py\u001b[0m in \u001b[0;36mdrop\u001b[0;34m(self, labels, errors)\u001b[0m\n\u001b[1;32m   5015\u001b[0m         \u001b[0;32mif\u001b[0m \u001b[0mmask\u001b[0m\u001b[0;34m.\u001b[0m\u001b[0many\u001b[0m\u001b[0;34m(\u001b[0m\u001b[0;34m)\u001b[0m\u001b[0;34m:\u001b[0m\u001b[0;34m\u001b[0m\u001b[0;34m\u001b[0m\u001b[0m\n\u001b[1;32m   5016\u001b[0m             \u001b[0;32mif\u001b[0m \u001b[0merrors\u001b[0m \u001b[0;34m!=\u001b[0m \u001b[0;34m\"ignore\"\u001b[0m\u001b[0;34m:\u001b[0m\u001b[0;34m\u001b[0m\u001b[0;34m\u001b[0m\u001b[0m\n\u001b[0;32m-> 5017\u001b[0;31m                 \u001b[0;32mraise\u001b[0m \u001b[0mKeyError\u001b[0m\u001b[0;34m(\u001b[0m\u001b[0;34mf\"{labels[mask]} not found in axis\"\u001b[0m\u001b[0;34m)\u001b[0m\u001b[0;34m\u001b[0m\u001b[0;34m\u001b[0m\u001b[0m\n\u001b[0m\u001b[1;32m   5018\u001b[0m             \u001b[0mindexer\u001b[0m \u001b[0;34m=\u001b[0m \u001b[0mindexer\u001b[0m\u001b[0;34m[\u001b[0m\u001b[0;34m~\u001b[0m\u001b[0mmask\u001b[0m\u001b[0;34m]\u001b[0m\u001b[0;34m\u001b[0m\u001b[0;34m\u001b[0m\u001b[0m\n\u001b[1;32m   5019\u001b[0m         \u001b[0;32mreturn\u001b[0m \u001b[0mself\u001b[0m\u001b[0;34m.\u001b[0m\u001b[0mdelete\u001b[0m\u001b[0;34m(\u001b[0m\u001b[0mindexer\u001b[0m\u001b[0;34m)\u001b[0m\u001b[0;34m\u001b[0m\u001b[0;34m\u001b[0m\u001b[0m\n",
            "\u001b[0;31mKeyError\u001b[0m: \"['Unnamed: 3'] not found in axis\""
          ]
        }
      ]
    },
    {
      "cell_type": "code",
      "metadata": {
        "id": "IPo4Z4eGp763",
        "colab_type": "code",
        "outputId": "15b1ac57-a6b0-4c23-d23a-f5bc0c39ed37",
        "colab": {
          "base_uri": "https://localhost:8080/",
          "height": 111
        }
      },
      "source": [
        "df1.head(2)"
      ],
      "execution_count": 0,
      "outputs": [
        {
          "output_type": "execute_result",
          "data": {
            "text/html": [
              "<div>\n",
              "<style scoped>\n",
              "    .dataframe tbody tr th:only-of-type {\n",
              "        vertical-align: middle;\n",
              "    }\n",
              "\n",
              "    .dataframe tbody tr th {\n",
              "        vertical-align: top;\n",
              "    }\n",
              "\n",
              "    .dataframe thead th {\n",
              "        text-align: right;\n",
              "    }\n",
              "</style>\n",
              "<table border=\"1\" class=\"dataframe\">\n",
              "  <thead>\n",
              "    <tr style=\"text-align: right;\">\n",
              "      <th></th>\n",
              "      <th>Date</th>\n",
              "      <th>Total Cases</th>\n",
              "      <th>New Cases</th>\n",
              "      <th>Active</th>\n",
              "      <th>Recovered</th>\n",
              "      <th>Deaths</th>\n",
              "      <th>Days after surpassing 100 cases</th>\n",
              "    </tr>\n",
              "  </thead>\n",
              "  <tbody>\n",
              "    <tr>\n",
              "      <th>0</th>\n",
              "      <td>2020-01-30</td>\n",
              "      <td>1</td>\n",
              "      <td>1</td>\n",
              "      <td>1</td>\n",
              "      <td>0</td>\n",
              "      <td>0</td>\n",
              "      <td>NaN</td>\n",
              "    </tr>\n",
              "    <tr>\n",
              "      <th>1</th>\n",
              "      <td>2020-01-31</td>\n",
              "      <td>1</td>\n",
              "      <td>0</td>\n",
              "      <td>1</td>\n",
              "      <td>0</td>\n",
              "      <td>0</td>\n",
              "      <td>NaN</td>\n",
              "    </tr>\n",
              "  </tbody>\n",
              "</table>\n",
              "</div>"
            ],
            "text/plain": [
              "        Date  Total Cases  ...  Deaths  Days after surpassing 100 cases\n",
              "0 2020-01-30            1  ...       0                              NaN\n",
              "1 2020-01-31            1  ...       0                              NaN\n",
              "\n",
              "[2 rows x 7 columns]"
            ]
          },
          "metadata": {
            "tags": []
          },
          "execution_count": 21
        }
      ]
    },
    {
      "cell_type": "code",
      "metadata": {
        "id": "3CwN0GdMjaII",
        "colab_type": "code",
        "colab": {}
      },
      "source": [
        ""
      ],
      "execution_count": 0,
      "outputs": []
    },
    {
      "cell_type": "code",
      "metadata": {
        "id": "F3xfMKv1p75s",
        "colab_type": "code",
        "colab": {}
      },
      "source": [
        "India = df['Total Confirmed cases (Indian National)'].sum()\n",
        "Foreign = df['Total Confirmed cases ( Foreign National )'].sum()\n",
        "dict = {'India':India , 'Foreigners':Foreign}\n"
      ],
      "execution_count": 0,
      "outputs": []
    },
    {
      "cell_type": "code",
      "metadata": {
        "id": "QWHQaBX8p73S",
        "colab_type": "code",
        "outputId": "03c42afb-2043-4c45-a7cc-2e3e4cd75bb0",
        "colab": {
          "base_uri": "https://localhost:8080/",
          "height": 357
        }
      },
      "source": [
        "plt.figure(figsize=[5,5])\n",
        "plt.pie(dict.values() ,labels=dict.keys() ,autopct='%.2f')\n",
        "plt.title('Confirmed cases : Indian National vs Foreign National')"
      ],
      "execution_count": 0,
      "outputs": [
        {
          "output_type": "execute_result",
          "data": {
            "text/plain": [
              "Text(0.5, 1.0, 'Confirmed cases : Indian National vs Foreign National')"
            ]
          },
          "metadata": {
            "tags": []
          },
          "execution_count": 23
        },
        {
          "output_type": "display_data",
          "data": {
            "image/png": "[encoded data removed]",
            "text/plain": [
              "<Figure size 360x360 with 1 Axes>"
            ]
          },
          "metadata": {
            "tags": []
          }
        }
      ]
    },
    {
      "cell_type": "code",
      "metadata": {
        "id": "gacM7o-Gp7zL",
        "colab_type": "code",
        "outputId": "e9404f88-84dd-4806-c7f0-ae53c10db7ab",
        "colab": {
          "base_uri": "https://localhost:8080/",
          "height": 1000
        }
      },
      "source": [
        "plt.figure(figsize=[12,6])\n",
        "sns.set(style='darkgrid',font_scale=1)\n",
        "plt.bar(df['State'],df['Total Confirmed cases (Indian National)'],color='g')\n",
        "plt.bar(df['State'],df['Total Confirmed cases ( Foreign National )'],color='b')\n",
        "plt.legend(labels =['Indian National','Foreign National'])\n",
        "plt.title('Confirmed cases : Indian National vs Foreign National')\n",
        "plt.xticks(rotation=90)"
      ],
      "execution_count": 0,
      "outputs": [
        {
          "output_type": "execute_result",
          "data": {
            "text/plain": [
              "([0,\n",
              "  1,\n",
              "  2,\n",
              "  3,\n",
              "  4,\n",
              "  5,\n",
              "  6,\n",
              "  7,\n",
              "  8,\n",
              "  9,\n",
              "  10,\n",
              "  11,\n",
              "  12,\n",
              "  13,\n",
              "  14,\n",
              "  15,\n",
              "  16,\n",
              "  17,\n",
              "  18,\n",
              "  19,\n",
              "  20,\n",
              "  21,\n",
              "  22,\n",
              "  23,\n",
              "  24,\n",
              "  25,\n",
              "  26],\n",
              " <a list of 27 Text major ticklabel objects>)"
            ]
          },
          "metadata": {
            "tags": []
          },
          "execution_count": 25
        },
        {
          "output_type": "display_data",
          "data": {
            "image/png": "[encoded data removed]",
            "text/plain": [
              "<Figure size 864x432 with 1 Axes>"
            ]
          },
          "metadata": {
            "tags": []
          }
        }
      ]
    },
    {
      "cell_type": "code",
      "metadata": {
        "id": "GeiyaP6np7wY",
        "colab_type": "code",
        "outputId": "356b1579-1500-4fdc-f28b-29e0d5ef7a19",
        "colab": {
          "base_uri": "https://localhost:8080/",
          "height": 111
        }
      },
      "source": [
        "df1.head(2)"
      ],
      "execution_count": 0,
      "outputs": [
        {
          "output_type": "execute_result",
          "data": {
            "text/html": [
              "<div>\n",
              "<style scoped>\n",
              "    .dataframe tbody tr th:only-of-type {\n",
              "        vertical-align: middle;\n",
              "    }\n",
              "\n",
              "    .dataframe tbody tr th {\n",
              "        vertical-align: top;\n",
              "    }\n",
              "\n",
              "    .dataframe thead th {\n",
              "        text-align: right;\n",
              "    }\n",
              "</style>\n",
              "<table border=\"1\" class=\"dataframe\">\n",
              "  <thead>\n",
              "    <tr style=\"text-align: right;\">\n",
              "      <th></th>\n",
              "      <th>Date</th>\n",
              "      <th>Total Cases</th>\n",
              "      <th>New Cases</th>\n",
              "      <th>Active</th>\n",
              "      <th>Recovered</th>\n",
              "      <th>Deaths</th>\n",
              "      <th>Days after surpassing 100 cases</th>\n",
              "    </tr>\n",
              "  </thead>\n",
              "  <tbody>\n",
              "    <tr>\n",
              "      <th>0</th>\n",
              "      <td>2020-01-30</td>\n",
              "      <td>1</td>\n",
              "      <td>1</td>\n",
              "      <td>1</td>\n",
              "      <td>0</td>\n",
              "      <td>0</td>\n",
              "      <td>NaN</td>\n",
              "    </tr>\n",
              "    <tr>\n",
              "      <th>1</th>\n",
              "      <td>2020-01-31</td>\n",
              "      <td>1</td>\n",
              "      <td>0</td>\n",
              "      <td>1</td>\n",
              "      <td>0</td>\n",
              "      <td>0</td>\n",
              "      <td>NaN</td>\n",
              "    </tr>\n",
              "  </tbody>\n",
              "</table>\n",
              "</div>"
            ],
            "text/plain": [
              "        Date  Total Cases  ...  Deaths  Days after surpassing 100 cases\n",
              "0 2020-01-30            1  ...       0                              NaN\n",
              "1 2020-01-31            1  ...       0                              NaN\n",
              "\n",
              "[2 rows x 7 columns]"
            ]
          },
          "metadata": {
            "tags": []
          },
          "execution_count": 26
        }
      ]
    },
    {
      "cell_type": "code",
      "metadata": {
        "id": "IAwI3PWVp7sC",
        "colab_type": "code",
        "colab": {}
      },
      "source": [
        "Date = pd.to_datetime(df1['Date'])"
      ],
      "execution_count": 0,
      "outputs": []
    },
    {
      "cell_type": "code",
      "metadata": {
        "id": "XgXuNvXdp7q3",
        "colab_type": "code",
        "colab": {}
      },
      "source": [
        "date = Date.dt.strftime(\"%m-%d\")"
      ],
      "execution_count": 0,
      "outputs": []
    },
    {
      "cell_type": "code",
      "metadata": {
        "id": "31uwdlwbp7ow",
        "colab_type": "code",
        "colab": {}
      },
      "source": [
        "active = df1['Active']"
      ],
      "execution_count": 0,
      "outputs": []
    },
    {
      "cell_type": "code",
      "metadata": {
        "id": "Njn4wFOgp7m9",
        "colab_type": "code",
        "outputId": "2f2bc1a5-b142-42a7-986b-673f43c418b3",
        "colab": {
          "base_uri": "https://localhost:8080/",
          "height": 1000
        }
      },
      "source": [
        "plt.figure(figsize=[13.5,7.5])\n",
        "plt.style.use('fivethirtyeight')\n",
        "sns.lineplot(x=date,y=active,label='Active',markers=True,color='coral')\n",
        "plt.xlabel('Date')\n",
        "plt.ylabel('Number of Active cases')\n",
        "plt.title('COVID-19 Active cases in India')\n",
        "plt.xticks(rotation=90)"
      ],
      "execution_count": 0,
      "outputs": [
        {
          "output_type": "execute_result",
          "data": {
            "text/plain": [
              "([0,\n",
              "  1,\n",
              "  2,\n",
              "  3,\n",
              "  4,\n",
              "  5,\n",
              "  6,\n",
              "  7,\n",
              "  8,\n",
              "  9,\n",
              "  10,\n",
              "  11,\n",
              "  12,\n",
              "  13,\n",
              "  14,\n",
              "  15,\n",
              "  16,\n",
              "  17,\n",
              "  18,\n",
              "  19,\n",
              "  20,\n",
              "  21,\n",
              "  22,\n",
              "  23,\n",
              "  24,\n",
              "  25,\n",
              "  26,\n",
              "  27,\n",
              "  28,\n",
              "  29,\n",
              "  30,\n",
              "  31,\n",
              "  32,\n",
              "  33,\n",
              "  34,\n",
              "  35,\n",
              "  36,\n",
              "  37,\n",
              "  38,\n",
              "  39,\n",
              "  40,\n",
              "  41,\n",
              "  42,\n",
              "  43,\n",
              "  44,\n",
              "  45,\n",
              "  46,\n",
              "  47,\n",
              "  48,\n",
              "  49,\n",
              "  50,\n",
              "  51,\n",
              "  52,\n",
              "  53,\n",
              "  54,\n",
              "  55,\n",
              "  56,\n",
              "  57,\n",
              "  58],\n",
              " <a list of 59 Text major ticklabel objects>)"
            ]
          },
          "metadata": {
            "tags": []
          },
          "execution_count": 30
        },
        {
          "output_type": "display_data",
          "data": {
            "image/png": "[encoded data removed]",
            "text/plain": [
              "<Figure size 972x540 with 1 Axes>"
            ]
          },
          "metadata": {
            "tags": []
          }
        }
      ]
    },
    {
      "cell_type": "code",
      "metadata": {
        "id": "0eVFwWHfp7kv",
        "colab_type": "code",
        "outputId": "29bc8452-6286-4be4-fa59-47d378824f61",
        "colab": {
          "base_uri": "https://localhost:8080/",
          "height": 1000
        }
      },
      "source": [
        "plt.figure(figsize=[14,6])\n",
        "plt.style.use('seaborn')\n",
        "sns.lineplot(x=date,y=active,label='Active',markers=True,color='b')\n",
        "sns.lineplot(x=date,y=df1['Deaths'],label='Deaths',markers=True,color='r')\n",
        "sns.lineplot(x=date,y=df1['Recovered'],label='Recovered',markers=True,color='g')\n",
        "plt.legend(loc='upper left')\n",
        "plt.xlabel('Date',fontsize=15)\n",
        "plt.ylabel('Number of Cases',fontsize=15)\n",
        "plt.title('Total Cases in India',fontsize=22)\n",
        "plt.xticks(rotation=90)"
      ],
      "execution_count": 0,
      "outputs": [
        {
          "output_type": "execute_result",
          "data": {
            "text/plain": [
              "([0,\n",
              "  1,\n",
              "  2,\n",
              "  3,\n",
              "  4,\n",
              "  5,\n",
              "  6,\n",
              "  7,\n",
              "  8,\n",
              "  9,\n",
              "  10,\n",
              "  11,\n",
              "  12,\n",
              "  13,\n",
              "  14,\n",
              "  15,\n",
              "  16,\n",
              "  17,\n",
              "  18,\n",
              "  19,\n",
              "  20,\n",
              "  21,\n",
              "  22,\n",
              "  23,\n",
              "  24,\n",
              "  25,\n",
              "  26,\n",
              "  27,\n",
              "  28,\n",
              "  29,\n",
              "  30,\n",
              "  31,\n",
              "  32,\n",
              "  33,\n",
              "  34,\n",
              "  35,\n",
              "  36,\n",
              "  37,\n",
              "  38,\n",
              "  39,\n",
              "  40,\n",
              "  41,\n",
              "  42,\n",
              "  43,\n",
              "  44,\n",
              "  45,\n",
              "  46,\n",
              "  47,\n",
              "  48,\n",
              "  49,\n",
              "  50,\n",
              "  51,\n",
              "  52,\n",
              "  53,\n",
              "  54,\n",
              "  55,\n",
              "  56,\n",
              "  57,\n",
              "  58],\n",
              " <a list of 59 Text major ticklabel objects>)"
            ]
          },
          "metadata": {
            "tags": []
          },
          "execution_count": 31
        },
        {
          "output_type": "display_data",
          "data": {
            "image/png": "[encoded data removed]",
            "text/plain": [
              "<Figure size 1008x432 with 1 Axes>"
            ]
          },
          "metadata": {
            "tags": []
          }
        }
      ]
    },
    {
      "cell_type": "code",
      "metadata": {
        "id": "yO7pLOX_p7if",
        "colab_type": "code",
        "outputId": "f207a27b-a18e-4c34-e079-a6e60be31ea6",
        "colab": {
          "base_uri": "https://localhost:8080/",
          "height": 111
        }
      },
      "source": [
        "df1.head(2)"
      ],
      "execution_count": 0,
      "outputs": [
        {
          "output_type": "execute_result",
          "data": {
            "text/html": [
              "<div>\n",
              "<style scoped>\n",
              "    .dataframe tbody tr th:only-of-type {\n",
              "        vertical-align: middle;\n",
              "    }\n",
              "\n",
              "    .dataframe tbody tr th {\n",
              "        vertical-align: top;\n",
              "    }\n",
              "\n",
              "    .dataframe thead th {\n",
              "        text-align: right;\n",
              "    }\n",
              "</style>\n",
              "<table border=\"1\" class=\"dataframe\">\n",
              "  <thead>\n",
              "    <tr style=\"text-align: right;\">\n",
              "      <th></th>\n",
              "      <th>Date</th>\n",
              "      <th>Total Cases</th>\n",
              "      <th>New Cases</th>\n",
              "      <th>Active</th>\n",
              "      <th>Recovered</th>\n",
              "      <th>Deaths</th>\n",
              "      <th>Days after surpassing 100 cases</th>\n",
              "    </tr>\n",
              "  </thead>\n",
              "  <tbody>\n",
              "    <tr>\n",
              "      <th>0</th>\n",
              "      <td>2020-01-30</td>\n",
              "      <td>1</td>\n",
              "      <td>1</td>\n",
              "      <td>1</td>\n",
              "      <td>0</td>\n",
              "      <td>0</td>\n",
              "      <td>NaN</td>\n",
              "    </tr>\n",
              "    <tr>\n",
              "      <th>1</th>\n",
              "      <td>2020-01-31</td>\n",
              "      <td>1</td>\n",
              "      <td>0</td>\n",
              "      <td>1</td>\n",
              "      <td>0</td>\n",
              "      <td>0</td>\n",
              "      <td>NaN</td>\n",
              "    </tr>\n",
              "  </tbody>\n",
              "</table>\n",
              "</div>"
            ],
            "text/plain": [
              "        Date  Total Cases  ...  Deaths  Days after surpassing 100 cases\n",
              "0 2020-01-30            1  ...       0                              NaN\n",
              "1 2020-01-31            1  ...       0                              NaN\n",
              "\n",
              "[2 rows x 7 columns]"
            ]
          },
          "metadata": {
            "tags": []
          },
          "execution_count": 32
        }
      ]
    },
    {
      "cell_type": "code",
      "metadata": {
        "id": "BBi6k0bsp7f0",
        "colab_type": "code",
        "outputId": "3e128c1c-97cc-4657-bbaf-ee89965b62f8",
        "colab": {
          "base_uri": "https://localhost:8080/",
          "height": 1000
        }
      },
      "source": [
        "plt.figure(figsize=[13,6.7])\n",
        "sns.set(style='dark',font_scale=0.8)\n",
        "\n",
        "plt.bar(date,active,color='b')\n",
        "plt.xlabel('Date',fontsize=15)\n",
        "plt.ylabel('Number of Cases',fontsize=15)\n",
        "plt.title('Daily Cases in India',fontsize=22)\n",
        "plt.xticks(rotation=90)"
      ],
      "execution_count": 0,
      "outputs": [
        {
          "output_type": "execute_result",
          "data": {
            "text/plain": [
              "([0,\n",
              "  1,\n",
              "  2,\n",
              "  3,\n",
              "  4,\n",
              "  5,\n",
              "  6,\n",
              "  7,\n",
              "  8,\n",
              "  9,\n",
              "  10,\n",
              "  11,\n",
              "  12,\n",
              "  13,\n",
              "  14,\n",
              "  15,\n",
              "  16,\n",
              "  17,\n",
              "  18,\n",
              "  19,\n",
              "  20,\n",
              "  21,\n",
              "  22,\n",
              "  23,\n",
              "  24,\n",
              "  25,\n",
              "  26,\n",
              "  27,\n",
              "  28,\n",
              "  29,\n",
              "  30,\n",
              "  31,\n",
              "  32,\n",
              "  33,\n",
              "  34,\n",
              "  35,\n",
              "  36,\n",
              "  37,\n",
              "  38,\n",
              "  39,\n",
              "  40,\n",
              "  41,\n",
              "  42,\n",
              "  43,\n",
              "  44,\n",
              "  45,\n",
              "  46,\n",
              "  47,\n",
              "  48,\n",
              "  49,\n",
              "  50,\n",
              "  51,\n",
              "  52,\n",
              "  53,\n",
              "  54,\n",
              "  55,\n",
              "  56,\n",
              "  57,\n",
              "  58],\n",
              " <a list of 59 Text major ticklabel objects>)"
            ]
          },
          "metadata": {
            "tags": []
          },
          "execution_count": 33
        },
        {
          "output_type": "display_data",
          "data": {
            "image/png": "[encoded data removed]",
            "text/plain": [
              "<Figure size 936x482.4 with 1 Axes>"
            ]
          },
          "metadata": {
            "tags": []
          }
        }
      ]
    },
    {
      "cell_type": "code",
      "metadata": {
        "id": "KilEdEuqp596",
        "colab_type": "code",
        "outputId": "36ab2323-2eb9-4058-8ad2-2def86536092",
        "colab": {
          "base_uri": "https://localhost:8080/",
          "height": 1000
        }
      },
      "source": [
        "plt.figure(figsize=[12,6.7])\n",
        "sns.set(style='dark',font_scale=1)\n",
        "\n",
        "plt.bar(date,df1['Deaths'],color='r',width=0.95)\n",
        "plt.xlabel('Date',fontsize=15)\n",
        "plt.ylabel('Number of Cases',fontsize=15)\n",
        "plt.title('Deaths Cases in India',fontsize=22)\n",
        "plt.xticks(rotation=90)"
      ],
      "execution_count": 0,
      "outputs": [
        {
          "output_type": "execute_result",
          "data": {
            "text/plain": [
              "([0,\n",
              "  1,\n",
              "  2,\n",
              "  3,\n",
              "  4,\n",
              "  5,\n",
              "  6,\n",
              "  7,\n",
              "  8,\n",
              "  9,\n",
              "  10,\n",
              "  11,\n",
              "  12,\n",
              "  13,\n",
              "  14,\n",
              "  15,\n",
              "  16,\n",
              "  17,\n",
              "  18,\n",
              "  19,\n",
              "  20,\n",
              "  21,\n",
              "  22,\n",
              "  23,\n",
              "  24,\n",
              "  25,\n",
              "  26,\n",
              "  27,\n",
              "  28,\n",
              "  29,\n",
              "  30,\n",
              "  31,\n",
              "  32,\n",
              "  33,\n",
              "  34,\n",
              "  35,\n",
              "  36,\n",
              "  37,\n",
              "  38,\n",
              "  39,\n",
              "  40,\n",
              "  41,\n",
              "  42,\n",
              "  43,\n",
              "  44,\n",
              "  45,\n",
              "  46,\n",
              "  47,\n",
              "  48,\n",
              "  49,\n",
              "  50,\n",
              "  51,\n",
              "  52,\n",
              "  53,\n",
              "  54,\n",
              "  55,\n",
              "  56,\n",
              "  57,\n",
              "  58],\n",
              " <a list of 59 Text major ticklabel objects>)"
            ]
          },
          "metadata": {
            "tags": []
          },
          "execution_count": 42
        },
        {
          "output_type": "display_data",
          "data": {
            "image/png": "[encoded data removed]",
            "text/plain": [
              "<Figure size 864x482.4 with 1 Axes>"
            ]
          },
          "metadata": {
            "tags": []
          }
        }
      ]
    },
    {
      "cell_type": "code",
      "metadata": {
        "id": "ldNAv09_9kQT",
        "colab_type": "code",
        "colab": {}
      },
      "source": [
        ""
      ],
      "execution_count": 0,
      "outputs": []
    },
    {
      "cell_type": "code",
      "metadata": {
        "id": "jjcNHElR9kJK",
        "colab_type": "code",
        "colab": {}
      },
      "source": [
        ""
      ],
      "execution_count": 0,
      "outputs": []
    },
    {
      "cell_type": "code",
      "metadata": {
        "id": "fMGOtmnE9kF5",
        "colab_type": "code",
        "colab": {}
      },
      "source": [
        ""
      ],
      "execution_count": 0,
      "outputs": []
    },
    {
      "cell_type": "code",
      "metadata": {
        "id": "0xENrtvY9j-1",
        "colab_type": "code",
        "colab": {}
      },
      "source": [
        ""
      ],
      "execution_count": 0,
      "outputs": []
    },
    {
      "cell_type": "code",
      "metadata": {
        "id": "3--1On0g9j7H",
        "colab_type": "code",
        "colab": {}
      },
      "source": [
        ""
      ],
      "execution_count": 0,
      "outputs": []
    },
    {
      "cell_type": "code",
      "metadata": {
        "id": "bScviHZy9j4t",
        "colab_type": "code",
        "colab": {}
      },
      "source": [
        ""
      ],
      "execution_count": 0,
      "outputs": []
    },
    {
      "cell_type": "code",
      "metadata": {
        "id": "-D0nR-Ca9j21",
        "colab_type": "code",
        "colab": {}
      },
      "source": [
        ""
      ],
      "execution_count": 0,
      "outputs": []
    },
    {
      "cell_type": "code",
      "metadata": {
        "id": "6S-ELTHB9j0r",
        "colab_type": "code",
        "colab": {}
      },
      "source": [
        ""
      ],
      "execution_count": 0,
      "outputs": []
    },
    {
      "cell_type": "code",
      "metadata": {
        "id": "WdS3J0lq9jzL",
        "colab_type": "code",
        "colab": {}
      },
      "source": [
        ""
      ],
      "execution_count": 0,
      "outputs": []
    },
    {
      "cell_type": "code",
      "metadata": {
        "id": "TvLSiyOq9jxn",
        "colab_type": "code",
        "colab": {}
      },
      "source": [
        ""
      ],
      "execution_count": 0,
      "outputs": []
    },
    {
      "cell_type": "code",
      "metadata": {
        "id": "WlVStL7L9juu",
        "colab_type": "code",
        "colab": {}
      },
      "source": [
        ""
      ],
      "execution_count": 0,
      "outputs": []
    },
    {
      "cell_type": "code",
      "metadata": {
        "id": "9Oqn_Fyh9jtz",
        "colab_type": "code",
        "colab": {}
      },
      "source": [
        ""
      ],
      "execution_count": 0,
      "outputs": []
    },
    {
      "cell_type": "code",
      "metadata": {
        "id": "HezNpBdD9jqp",
        "colab_type": "code",
        "colab": {}
      },
      "source": [
        ""
      ],
      "execution_count": 0,
      "outputs": []
    },
    {
      "cell_type": "code",
      "metadata": {
        "id": "2r_OdE3n9jpY",
        "colab_type": "code",
        "colab": {}
      },
      "source": [
        ""
      ],
      "execution_count": 0,
      "outputs": []
    },
    {
      "cell_type": "code",
      "metadata": {
        "id": "aHqrPgSU9jnH",
        "colab_type": "code",
        "colab": {}
      },
      "source": [
        ""
      ],
      "execution_count": 0,
      "outputs": []
    },
    {
      "cell_type": "code",
      "metadata": {
        "id": "3jgJNBY-9jkT",
        "colab_type": "code",
        "colab": {}
      },
      "source": [
        ""
      ],
      "execution_count": 0,
      "outputs": []
    },
    {
      "cell_type": "code",
      "metadata": {
        "id": "j2pNTxKm9jis",
        "colab_type": "code",
        "colab": {}
      },
      "source": [
        ""
      ],
      "execution_count": 0,
      "outputs": []
    },
    {
      "cell_type": "code",
      "metadata": {
        "id": "TKegdnGj9jf7",
        "colab_type": "code",
        "colab": {}
      },
      "source": [
        ""
      ],
      "execution_count": 0,
      "outputs": []
    },
    {
      "cell_type": "code",
      "metadata": {
        "id": "u1BWXaTs9jey",
        "colab_type": "code",
        "colab": {}
      },
      "source": [
        ""
      ],
      "execution_count": 0,
      "outputs": []
    },
    {
      "cell_type": "code",
      "metadata": {
        "id": "UG74Pyrr9jbP",
        "colab_type": "code",
        "colab": {}
      },
      "source": [
        ""
      ],
      "execution_count": 0,
      "outputs": []
    },
    {
      "cell_type": "code",
      "metadata": {
        "id": "BfAvHGMp9jZP",
        "colab_type": "code",
        "colab": {}
      },
      "source": [
        ""
      ],
      "execution_count": 0,
      "outputs": []
    },
    {
      "cell_type": "code",
      "metadata": {
        "id": "wqWxRKUo9jWB",
        "colab_type": "code",
        "colab": {}
      },
      "source": [
        ""
      ],
      "execution_count": 0,
      "outputs": []
    }
  ]
}