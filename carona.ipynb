{
  "nbformat": 4,
  "nbformat_minor": 0,
  "metadata": {
    "colab": {
      "name": "carona.ipynb",
      "provenance": [],
      "collapsed_sections": []
    },
    "kernelspec": {
      "name": "python3",
      "display_name": "Python 3"
    }
  },
  "cells": [
    {
      "cell_type": "code",
      "metadata": {
        "id": "49CvdlVrfiLi",
        "colab_type": "code",
        "outputId": "517e7549-dab5-4192-a46d-c5c67d3aff6a",
        "colab": {
          "base_uri": "https://localhost:8080/",
          "height": 71
        }
      },
      "source": [
        "import pandas as pd \n",
        "import numpy as np\n",
        "import matplotlib.pyplot as plt\n",
        "import numpy as np # linear algebra\n",
        "import pandas as pd # data processing, CSV file I/O (e.g. pd.read_csv)\n",
        "import matplotlib.pyplot as plt\n",
        "import seaborn as sns \n",
        "import pandas as pd\n",
        "import os\n",
        "plt.style.use(\"fivethirtyeight\")# for pretty graphs\n",
        "\n",
        "# Increase the default plot size and set the color scheme\n",
        "plt.rcParams['figure.figsize'] = 8, 5\n",
        "import warnings\n",
        "warnings.filterwarnings('ignore')"
      ],
      "execution_count": 1,
      "outputs": [
        {
          "output_type": "stream",
          "text": [
            "/usr/local/lib/python3.6/dist-packages/statsmodels/tools/_testing.py:19: FutureWarning: pandas.util.testing is deprecated. Use the functions in the public API at pandas.testing instead.\n",
            "  import pandas.util.testing as tm\n"
          ],
          "name": "stderr"
        }
      ]
    },
    {
      "cell_type": "code",
      "metadata": {
        "id": "n59G_qTohb_V",
        "colab_type": "code",
        "outputId": "de5bacd4-3731-4de0-e30e-c00ca2f0595b",
        "colab": {
          "base_uri": "https://localhost:8080/",
          "height": 459
        }
      },
      "source": [
        "import matplotlib.style as style\n",
        "style.available"
      ],
      "execution_count": 2,
      "outputs": [
        {
          "output_type": "execute_result",
          "data": {
            "text/plain": [
              "['Solarize_Light2',\n",
              " '_classic_test_patch',\n",
              " 'bmh',\n",
              " 'classic',\n",
              " 'dark_background',\n",
              " 'fast',\n",
              " 'fivethirtyeight',\n",
              " 'ggplot',\n",
              " 'grayscale',\n",
              " 'seaborn',\n",
              " 'seaborn-bright',\n",
              " 'seaborn-colorblind',\n",
              " 'seaborn-dark',\n",
              " 'seaborn-dark-palette',\n",
              " 'seaborn-darkgrid',\n",
              " 'seaborn-deep',\n",
              " 'seaborn-muted',\n",
              " 'seaborn-notebook',\n",
              " 'seaborn-paper',\n",
              " 'seaborn-pastel',\n",
              " 'seaborn-poster',\n",
              " 'seaborn-talk',\n",
              " 'seaborn-ticks',\n",
              " 'seaborn-white',\n",
              " 'seaborn-whitegrid',\n",
              " 'tableau-colorblind10']"
            ]
          },
          "metadata": {
            "tags": []
          },
          "execution_count": 2
        }
      ]
    },
    {
      "cell_type": "markdown",
      "metadata": {
        "id": "lwshF4rTpwRc",
        "colab_type": "text"
      },
      "source": [
        ""
      ]
    },
    {
      "cell_type": "code",
      "metadata": {
        "id": "l8AYnUQYftV6",
        "colab_type": "code",
        "outputId": "757c7a0b-ece1-4865-e23f-734617c3a42d",
        "colab": {
          "resources": {
            "http://localhost:8080/nbextensions/google.colab/files.js": {
              "data": "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",
              "ok": true,
              "headers": [
                [
                  "content-type",
                  "application/javascript"
                ]
              ],
              "status": 200,
              "status_text": ""
            }
          },
          "base_uri": "https://localhost:8080/",
          "height": 108
        }
      },
      "source": [
        "from google.colab import files\n",
        "files.upload()"
      ],
      "execution_count": 3,
      "outputs": [
        {
          "output_type": "display_data",
          "data": {
            "text/html": [
              "\n",
              "     <input type=\"file\" id=\"files-a41d100e-144e-4f14-bd82-867284970386\" name=\"files[]\" multiple disabled />\n",
              "     <output id=\"result-a41d100e-144e-4f14-bd82-867284970386\">\n",
              "      Upload widget is only available when the cell has been executed in the\n",
              "      current browser session. Please rerun this cell to enable.\n",
              "      </output>\n",
              "      <script src=\"/nbextensions/google.colab/files.js\"></script> "
            ],
            "text/plain": [
              "<IPython.core.display.HTML object>"
            ]
          },
          "metadata": {
            "tags": []
          }
        },
        {
          "output_type": "stream",
          "text": [
            "Saving covid_19_india.csv to covid_19_india.csv\n"
          ],
          "name": "stdout"
        },
        {
          "output_type": "execute_result",
          "data": {
            "text/plain": [
              "{'covid_19_india.csv': b'\\xef\\xbb\\xbfSno,Date,Time,State/UnionTerritory,ConfirmedIndianNational,ConfirmedForeignNational,Cured,Deaths,Confirmed\\r\\n1,30/01/20,6:00 PM,Kerala,1,0,0,0,1\\r\\n2,31/01/20,6:00 PM,Kerala,1,0,0,0,1\\r\\n3,01/02/20,6:00 PM,Kerala,2,0,0,0,2\\r\\n4,02/02/20,6:00 PM,Kerala,3,0,0,0,3\\r\\n5,03/02/20,6:00 PM,Kerala,3,0,0,0,3\\r\\n6,04/02/20,6:00 PM,Kerala,3,0,0,0,3\\r\\n7,05/02/20,6:00 PM,Kerala,3,0,0,0,3\\r\\n8,06/02/20,6:00 PM,Kerala,3,0,0,0,3\\r\\n9,07/02/20,6:00 PM,Kerala,3,0,0,0,3\\r\\n10,08/02/20,6:00 PM,Kerala,3,0,0,0,3\\r\\n11,09/02/20,6:00 PM,Kerala,3,0,0,0,3\\r\\n12,10/02/20,6:00 PM,Kerala,3,0,0,0,3\\r\\n13,11/02/20,6:00 PM,Kerala,3,0,0,0,3\\r\\n14,12/02/20,6:00 PM,Kerala,3,0,0,0,3\\r\\n15,13/02/20,6:00 PM,Kerala,3,0,0,0,3\\r\\n16,14/02/20,6:00 PM,Kerala,3,0,0,0,3\\r\\n17,15/02/20,6:00 PM,Kerala,3,0,0,0,3\\r\\n18,16/02/20,6:00 PM,Kerala,3,0,0,0,3\\r\\n19,17/02/20,6:00 PM,Kerala,3,0,0,0,3\\r\\n20,18/02/20,6:00 PM,Kerala,3,0,0,0,3\\r\\n21,19/02/20,6:00 PM,Kerala,3,0,0,0,3\\r\\n22,20/02/20,6:00 PM,Kerala,3,0,0,0,3\\r\\n23,21/02/20,6:00 PM,Kerala,3,0,0,0,3\\r\\n24,22/02/20,6:00 PM,Kerala,3,0,0,0,3\\r\\n25,23/02/20,6:00 PM,Kerala,3,0,0,0,3\\r\\n26,24/02/20,6:00 PM,Kerala,3,0,0,0,3\\r\\n27,25/02/20,6:00 PM,Kerala,3,0,0,0,3\\r\\n28,26/02/20,6:00 PM,Kerala,3,0,0,0,3\\r\\n29,27/02/20,6:00 PM,Kerala,3,0,0,0,3\\r\\n30,28/02/20,6:00 PM,Kerala,3,0,0,0,3\\r\\n31,29/02/20,6:00 PM,Kerala,3,0,0,0,3\\r\\n32,01/03/20,6:00 PM,Kerala,3,0,0,0,3\\r\\n33,02/03/20,6:00 PM,Telengana,1,0,0,0,1\\r\\n34,02/03/20,6:00 PM,Kerala,3,0,0,0,3\\r\\n35,02/03/20,6:00 PM,Delhi,1,0,0,0,1\\r\\n36,03/03/20,6:00 PM,Telengana,1,0,0,0,1\\r\\n37,03/03/20,6:00 PM,Rajasthan,0,1,0,0,1\\r\\n38,03/03/20,6:00 PM,Kerala,3,0,3,0,3\\r\\n39,03/03/20,6:00 PM,Delhi,1,0,0,0,1\\r\\n40,04/03/20,6:00 PM,Uttar Pradesh,6,0,0,0,6\\r\\n41,04/03/20,6:00 PM,Kerala,3,0,3,0,3\\r\\n42,04/03/20,6:00 PM,Haryana,0,2,0,0,2\\r\\n43,04/03/20,6:00 PM,Delhi,1,0,0,0,1\\r\\n44,04/03/20,6:00 PM,Telengana,1,0,0,0,1\\r\\n45,04/03/20,6:00 PM,Rajasthan,1,14,0,0,15\\r\\n46,05/03/20,6:00 PM,Delhi,2,0,0,0,2\\r\\n47,05/03/20,6:00 PM,Haryana,0,2,0,0,2\\r\\n48,05/03/20,6:00 PM,Kerala,3,0,3,0,3\\r\\n49,05/03/20,6:00 PM,Rajasthan,1,14,0,0,15\\r\\n50,05/03/20,6:00 PM,Telengana,1,0,0,0,1\\r\\n51,05/03/20,6:00 PM,Uttar Pradesh,7,0,0,0,7\\r\\n52,06/03/20,6:00 PM,Delhi,3,0,0,0,3\\r\\n53,06/03/20,6:00 PM,Haryana,0,2,0,0,2\\r\\n54,06/03/20,6:00 PM,Kerala,3,0,3,0,3\\r\\n55,06/03/20,6:00 PM,Rajasthan,1,14,0,0,15\\r\\n56,06/03/20,6:00 PM,Uttar Pradesh,7,0,0,0,7\\r\\n57,06/03/20,6:00 PM,Telengana,1,0,0,0,1\\r\\n58,07/03/20,6:00 PM,Kerala,3,0,3,0,3\\r\\n59,07/03/20,6:00 PM,Uttar Pradesh,7,0,0,0,7\\r\\n60,07/03/20,6:00 PM,Ladakh,2,0,0,0,2\\r\\n61,07/03/20,6:00 PM,Telengana,1,0,0,0,1\\r\\n62,07/03/20,6:00 PM,Tamil Nadu,1,0,0,0,1\\r\\n63,07/03/20,6:00 PM,Delhi,3,0,0,0,3\\r\\n64,07/03/20,6:00 PM,Haryana,0,2,0,0,2\\r\\n65,07/03/20,6:00 PM,Rajasthan,1,14,0,0,15\\r\\n66,08/03/20,6:00 PM,Ladakh,2,0,0,0,2\\r\\n67,08/03/20,6:00 PM,Telengana,1,0,0,0,1\\r\\n68,08/03/20,6:00 PM,Tamil Nadu,1,0,0,0,1\\r\\n69,08/03/20,6:00 PM,Rajasthan,1,14,0,0,15\\r\\n70,08/03/20,6:00 PM,Kerala,8,0,3,0,8\\r\\n71,08/03/20,6:00 PM,Haryana,0,2,0,0,2\\r\\n72,08/03/20,6:00 PM,Delhi,3,0,0,0,3\\r\\n73,08/03/20,6:00 PM,Uttar Pradesh,7,0,0,0,7\\r\\n74,09/03/20,6:00 PM,Ladakh,2,0,0,0,2\\r\\n75,09/03/20,6:00 PM,Karnataka,1,0,0,0,1\\r\\n76,09/03/20,6:00 PM,Kerala,9,0,3,0,9\\r\\n77,09/03/20,6:00 PM,Maharashtra,2,0,0,0,2\\r\\n78,09/03/20,6:00 PM,Punjab,1,0,0,0,1\\r\\n79,09/03/20,6:00 PM,Rajasthan,1,14,0,0,15\\r\\n80,09/03/20,6:00 PM,Tamil Nadu,1,0,0,0,1\\r\\n81,09/03/20,6:00 PM,Telengana,1,0,0,0,1\\r\\n82,09/03/20,6:00 PM,Jammu and Kashmir,1,0,0,0,1\\r\\n83,09/03/20,6:00 PM,Uttar Pradesh,7,0,0,0,7\\r\\n84,09/03/20,6:00 PM,Haryana,0,2,0,0,2\\r\\n85,09/03/20,6:00 PM,Delhi,4,0,0,0,4\\r\\n86,10/03/20,6:00 PM,Uttar Pradesh,7,0,0,0,7\\r\\n87,10/03/20,6:00 PM,Ladakh,2,0,0,0,2\\r\\n88,10/03/20,6:00 PM,Delhi,4,0,0,0,4\\r\\n89,10/03/20,6:00 PM,Haryana,0,2,0,0,2\\r\\n90,10/03/20,6:00 PM,Karnataka,4,0,0,0,4\\r\\n91,10/03/20,6:00 PM,Kerala,15,0,3,0,15\\r\\n92,10/03/20,6:00 PM,Maharashtra,5,0,0,0,5\\r\\n93,10/03/20,6:00 PM,Punjab,1,0,0,0,1\\r\\n94,10/03/20,6:00 PM,Rajasthan,1,14,0,0,15\\r\\n95,10/03/20,6:00 PM,Tamil Nadu,1,0,0,0,1\\r\\n96,10/03/20,6:00 PM,Telengana,1,0,0,0,1\\r\\n97,10/03/20,6:00 PM,Jammu and Kashmir,1,0,0,0,1\\r\\n98,11/03/20,6:00 PM,Maharashtra,2,0,0,0,2\\r\\n99,11/03/20,6:00 PM,Delhi,5,0,0,0,5\\r\\n100,11/03/20,6:00 PM,Haryana,0,14,0,0,14\\r\\n101,11/03/20,6:00 PM,Kerala,17,0,3,0,17\\r\\n102,11/03/20,6:00 PM,Rajasthan,1,2,0,0,3\\r\\n103,11/03/20,6:00 PM,Telengana,1,0,0,0,1\\r\\n104,11/03/20,6:00 PM,Uttar Pradesh,9,0,0,0,9\\r\\n105,11/03/20,6:00 PM,Ladakh,2,0,0,0,2\\r\\n106,11/03/20,6:00 PM,Tamil Nadu,1,0,0,0,1\\r\\n107,11/03/20,6:00 PM,Jammu and Kashmir,1,0,0,0,1\\r\\n108,11/03/20,6:00 PM,Punjab,1,0,0,0,1\\r\\n109,11/03/20,6:00 PM,Karnataka,4,0,0,0,4\\r\\n110,12/03/20,6:00 PM,Delhi,6,0,0,0,6\\r\\n111,12/03/20,6:00 PM,Haryana,0,14,0,0,14\\r\\n112,12/03/20,6:00 PM,Kerala,17,0,3,0,17\\r\\n113,12/03/20,6:00 PM,Rajasthan,1,2,0,0,3\\r\\n114,12/03/20,6:00 PM,Telengana,1,0,0,0,1\\r\\n115,12/03/20,6:00 PM,Uttar Pradesh,10,1,0,0,11\\r\\n116,12/03/20,6:00 PM,Ladakh,3,0,0,0,3\\r\\n117,12/03/20,6:00 PM,Tamil Nadu,1,0,0,0,1\\r\\n118,12/03/20,6:00 PM,Jammu and Kashmir,1,0,0,0,1\\r\\n119,12/03/20,6:00 PM,Punjab,1,0,0,0,1\\r\\n120,12/03/20,6:00 PM,Karnataka,4,0,0,0,4\\r\\n121,12/03/20,6:00 PM,Maharashtra,11,0,0,0,11\\r\\n122,12/03/20,6:00 PM,Andhra Pradesh,1,0,0,0,1\\r\\n123,13/03/20,6:00 PM,Delhi,6,0,0,0,6\\r\\n124,13/03/20,6:00 PM,Haryana,0,14,0,0,14\\r\\n125,13/03/20,6:00 PM,Kerala,19,0,3,0,19\\r\\n126,13/03/20,6:00 PM,Rajasthan,1,2,0,0,3\\r\\n127,13/03/20,6:00 PM,Telengana,1,0,0,0,1\\r\\n128,13/03/20,6:00 PM,Uttar Pradesh,10,1,0,0,11\\r\\n129,13/03/20,6:00 PM,Ladakh,3,0,0,0,3\\r\\n130,13/03/20,6:00 PM,Tamil Nadu,1,0,0,0,1\\r\\n131,13/03/20,6:00 PM,Jammu and Kashmir,1,0,0,0,1\\r\\n132,13/03/20,6:00 PM,Punjab,1,0,0,0,1\\r\\n133,13/03/20,6:00 PM,Karnataka,6,0,0,1,6\\r\\n134,13/03/20,6:00 PM,Maharashtra,14,0,0,0,14\\r\\n135,13/03/20,6:00 PM,Andhra Pradesh,1,0,0,0,1\\r\\n136,14/03/20,6:00 PM,Delhi,7,0,1,1,7\\r\\n137,14/03/20,6:00 PM,Haryana,0,14,0,0,14\\r\\n138,14/03/20,6:00 PM,Kerala,19,0,3,0,19\\r\\n139,14/03/20,6:00 PM,Rajasthan,1,2,1,0,3\\r\\n140,14/03/20,6:00 PM,Telengana,1,0,0,0,1\\r\\n141,14/03/20,6:00 PM,Uttar Pradesh,11,1,5,0,12\\r\\n142,14/03/20,6:00 PM,Ladakh,3,0,0,0,3\\r\\n143,14/03/20,6:00 PM,Tamil Nadu,1,0,0,0,1\\r\\n144,14/03/20,6:00 PM,Jammu and Kashmir,2,0,0,0,2\\r\\n145,14/03/20,6:00 PM,Punjab,1,0,0,0,1\\r\\n146,14/03/20,6:00 PM,Karnataka,6,0,0,1,6\\r\\n147,14/03/20,6:00 PM,Maharashtra,14,0,0,0,14\\r\\n148,14/03/20,6:00 PM,Andhra Pradesh,1,0,0,0,1\\r\\n149,15/03/20,6:00 PM,Andhra Pradesh,1,0,0,0,1\\r\\n150,15/03/20,6:00 PM,Delhi,7,0,2,1,7\\r\\n151,15/03/20,6:00 PM,Haryana,0,14,0,0,14\\r\\n152,15/03/20,6:00 PM,Karnataka,6,0,0,1,6\\r\\n153,15/03/20,6:00 PM,Kerala,22,0,3,0,22\\r\\n154,15/03/20,6:00 PM,Maharashtra,32,0,0,0,32\\r\\n155,15/03/20,6:00 PM,Punjab,1,0,0,0,1\\r\\n156,15/03/20,6:00 PM,Rajasthan,2,2,3,0,4\\r\\n157,15/03/20,6:00 PM,Tamil Nadu,1,0,0,0,1\\r\\n158,15/03/20,6:00 PM,Telengana,3,0,1,0,3\\r\\n159,15/03/20,6:00 PM,Jammu and Kashmir,2,0,0,0,2\\r\\n160,15/03/20,6:00 PM,Ladakh,3,0,0,0,3\\r\\n161,15/03/20,6:00 PM,Uttar Pradesh,12,1,4,0,13\\r\\n162,15/03/20,6:00 PM,Uttarakhand,1,0,0,0,1\\r\\n163,16/03/20,6:00 PM,Andhra Pradesh,1,0,0,0,1\\r\\n164,16/03/20,6:00 PM,Delhi,7,0,2,1,7\\r\\n165,16/03/20,6:00 PM,Haryana,0,14,0,0,14\\r\\n166,16/03/20,6:00 PM,Karnataka,6,0,0,1,6\\r\\n167,16/03/20,6:00 PM,Kerala,23,0,3,0,23\\r\\n168,16/03/20,6:00 PM,Maharashtra,32,0,0,0,32\\r\\n169,16/03/20,6:00 PM,Odisha,1,0,0,0,1\\r\\n170,16/03/20,6:00 PM,Punjab,1,0,0,0,1\\r\\n171,16/03/20,6:00 PM,Rajasthan,2,2,3,0,4\\r\\n172,16/03/20,6:00 PM,Tamil Nadu,1,0,0,0,1\\r\\n173,16/03/20,6:00 PM,Telengana,3,0,1,0,3\\r\\n174,16/03/20,6:00 PM,Jammu and Kashmir,3,0,0,0,3\\r\\n175,16/03/20,6:00 PM,Ladakh,4,0,0,0,4\\r\\n176,16/03/20,6:00 PM,Uttar Pradesh,12,1,4,0,13\\r\\n177,16/03/20,6:00 PM,Uttarakhand,1,0,0,0,1\\r\\n178,17/03/20,6:00 PM,Andhra Pradesh,1,0,0,0,1\\r\\n179,17/03/20,6:00 PM,Delhi,8,0,2,1,8\\r\\n180,17/03/20,6:00 PM,Haryana,1,14,0,0,15\\r\\n181,17/03/20,6:00 PM,Karnataka,11,0,0,1,11\\r\\n182,17/03/20,6:00 PM,Kerala,24,2,3,0,26\\r\\n183,17/03/20,6:00 PM,Maharashtra,36,3,0,1,39\\r\\n184,17/03/20,6:00 PM,Odisha,1,0,0,0,1\\r\\n185,17/03/20,6:00 PM,Punjab,1,0,0,0,1\\r\\n186,17/03/20,6:00 PM,Rajasthan,2,2,3,0,4\\r\\n187,17/03/20,6:00 PM,Tamil Nadu,1,0,0,0,1\\r\\n188,17/03/20,6:00 PM,Telengana,3,2,1,0,5\\r\\n189,17/03/20,6:00 PM,Jammu and Kashmir,3,0,0,0,3\\r\\n190,17/03/20,6:00 PM,Ladakh,6,0,0,0,6\\r\\n191,17/03/20,6:00 PM,Uttar Pradesh,14,1,5,0,15\\r\\n192,17/03/20,6:00 PM,Uttarakhand,1,0,0,0,1\\r\\n193,18/03/20,6:00 PM,Andhra Pradesh,1,0,0,0,1\\r\\n194,18/03/20,6:00 PM,Delhi,9,1,2,1,10\\r\\n195,18/03/20,6:00 PM,Haryana,3,14,0,0,17\\r\\n196,18/03/20,6:00 PM,Karnataka,11,0,0,1,11\\r\\n197,18/03/20,6:00 PM,Kerala,25,2,3,0,27\\r\\n198,18/03/20,6:00 PM,Maharashtra,39,3,0,1,42\\r\\n199,18/03/20,6:00 PM,Odisha,1,0,0,0,1\\r\\n200,18/03/20,6:00 PM,Pondicherry,1,0,0,0,1\\r\\n201,18/03/20,6:00 PM,Punjab,1,0,0,0,1\\r\\n202,18/03/20,6:00 PM,Rajasthan,2,2,3,0,4\\r\\n203,18/03/20,6:00 PM,Tamil Nadu,1,0,0,0,1\\r\\n204,18/03/20,6:00 PM,Telengana,4,2,1,0,6\\r\\n205,18/03/20,6:00 PM,Jammu and Kashmir,3,0,0,0,3\\r\\n206,18/03/20,6:00 PM,Ladakh,8,0,0,0,8\\r\\n207,18/03/20,6:00 PM,Uttar Pradesh,15,1,5,0,16\\r\\n208,18/03/20,6:00 PM,Uttarakhand,1,0,0,0,1\\r\\n209,18/03/20,6:00 PM,West Bengal,1,0,0,0,1\\r\\n210,19/03/20,6:00 PM,Andhra Pradesh,2,0,0,0,2\\r\\n211,19/03/20,6:00 PM,Chattisgarh,1,0,0,0,1\\r\\n212,19/03/20,6:00 PM,Delhi,11,1,3,1,12\\r\\n213,19/03/20,6:00 PM,Haryana,3,14,0,0,17\\r\\n214,19/03/20,6:00 PM,Karnataka,14,0,0,1,14\\r\\n215,19/03/20,6:00 PM,Kerala,25,2,3,0,27\\r\\n216,19/03/20,6:00 PM,Maharashtra,44,3,0,1,47\\r\\n217,19/03/20,6:00 PM,Odisha,1,0,0,0,1\\r\\n218,19/03/20,6:00 PM,Pondicherry,1,0,0,0,1\\r\\n219,19/03/20,6:00 PM,Punjab,2,0,0,1,2\\r\\n220,19/03/20,6:00 PM,Rajasthan,5,2,3,0,7\\r\\n221,19/03/20,6:00 PM,Tamil Nadu,2,0,1,0,2\\r\\n222,19/03/20,6:00 PM,Telengana,4,2,1,0,6\\r\\n223,19/03/20,6:00 PM,Chandigarh,1,0,0,0,1\\r\\n224,19/03/20,6:00 PM,Jammu and Kashmir,4,0,0,0,4\\r\\n225,19/03/20,6:00 PM,Ladakh,8,0,0,0,8\\r\\n226,19/03/20,6:00 PM,Uttar Pradesh,18,1,9,0,19\\r\\n227,19/03/20,6:00 PM,Uttarakhand,1,0,0,0,1\\r\\n228,19/03/20,6:00 PM,West Bengal,1,0,0,0,1\\r\\n229,20/03/20,6:00 PM,Andhra Pradesh,3,0,0,0,3\\r\\n230,20/03/20,6:00 PM,Chhattisgarh,1,0,0,0,1\\r\\n231,20/03/20,6:00 PM,Delhi,16,1,5,1,17\\r\\n232,20/03/20,6:00 PM,Gujarat,5,0,0,0,5\\r\\n233,20/03/20,6:00 PM,Haryana,3,14,0,0,17\\r\\n234,20/03/20,6:00 PM,Karnataka,15,0,1,1,15\\r\\n235,20/03/20,6:00 PM,Kerala,26,2,3,0,28\\r\\n236,20/03/20,6:00 PM,Maharashtra,49,3,0,1,52\\r\\n237,20/03/20,6:00 PM,Odisha,2,0,0,0,2\\r\\n238,20/03/20,6:00 PM,Puducherry,1,0,0,0,1\\r\\n239,20/03/20,6:00 PM,Punjab,2,0,0,1,2\\r\\n240,20/03/20,6:00 PM,Rajasthan,15,2,3,0,17\\r\\n241,20/03/20,6:00 PM,Tamil Nadu,3,0,1,0,3\\r\\n242,20/03/20,6:00 PM,Telengana,8,9,1,0,17\\r\\n243,20/03/20,6:00 PM,Chandigarh,1,0,0,0,1\\r\\n244,20/03/20,6:00 PM,Jammu and Kashmir,4,0,0,0,4\\r\\n245,20/03/20,6:00 PM,Ladakh,10,0,0,0,10\\r\\n246,20/03/20,6:00 PM,Uttar Pradesh,22,1,9,0,23\\r\\n247,20/03/20,6:00 PM,Uttarakhand,3,0,0,0,3\\r\\n248,20/03/20,6:00 PM,West Bengal,2,0,0,0,2\\r\\n249,21/03/20,6:00 PM,Andhra Pradesh,3,0,0,0,3\\r\\n250,21/03/20,6:00 PM,Chhattisgarh,1,0,0,0,1\\r\\n251,21/03/20,6:00 PM,Delhi,25,1,5,1,26\\r\\n252,21/03/20,6:00 PM,Gujarat,7,0,0,0,7\\r\\n253,21/03/20,6:00 PM,Haryana,3,14,0,0,17\\r\\n254,21/03/20,6:00 PM,Himachal Pradesh,2,0,0,0,2\\r\\n255,21/03/20,6:00 PM,Karnataka,15,0,1,1,15\\r\\n256,21/03/20,6:00 PM,Kerala,33,7,3,0,40\\r\\n257,21/03/20,6:00 PM,Madhya Pradesh,4,0,0,0,4\\r\\n258,21/03/20,6:00 PM,Maharashtra,60,3,0,1,63\\r\\n259,21/03/20,6:00 PM,Odisha,2,0,0,0,2\\r\\n260,21/03/20,6:00 PM,Puducherry,1,0,0,0,1\\r\\n261,21/03/20,6:00 PM,Punjab,13,0,0,1,13\\r\\n262,21/03/20,6:00 PM,Rajasthan,15,2,3,0,17\\r\\n263,21/03/20,6:00 PM,Tamil Nadu,3,0,1,0,3\\r\\n264,21/03/20,6:00 PM,Telengana,10,11,1,0,21\\r\\n265,21/03/20,6:00 PM,Chandigarh,1,0,0,0,1\\r\\n266,21/03/20,6:00 PM,Jammu and Kashmir,4,0,0,0,4\\r\\n267,21/03/20,6:00 PM,Ladakh,13,0,0,0,13\\r\\n268,21/03/20,6:00 PM,Uttar Pradesh,23,1,9,0,24\\r\\n269,21/03/20,6:00 PM,Uttarakhand,3,0,0,0,3\\r\\n270,21/03/20,6:00 PM,West Bengal,3,0,0,0,3\\r\\n271,22/03/20,6:00 PM,Andhra Pradesh,5,0,0,0,5\\r\\n272,22/03/20,6:00 PM,Bihar,2,0,0,1,2\\r\\n273,22/03/20,6:00 PM,Chhattisgarh,1,0,0,0,1\\r\\n274,22/03/20,6:00 PM,Delhi,28,1,5,1,29\\r\\n275,22/03/20,6:00 PM,Gujarat,18,0,0,1,18\\r\\n276,22/03/20,6:00 PM,Haryana,7,14,0,0,21\\r\\n277,22/03/20,6:00 PM,Himachal Pradesh,2,0,0,0,2\\r\\n278,22/03/20,6:00 PM,Karnataka,26,0,2,1,26\\r\\n279,22/03/20,6:00 PM,Kerala,45,7,3,0,52\\r\\n280,22/03/20,6:00 PM,Madhya Pradesh,4,0,0,0,4\\r\\n281,22/03/20,6:00 PM,Maharashtra,64,3,0,2,67\\r\\n282,22/03/20,6:00 PM,Odisha,2,0,0,0,2\\r\\n283,22/03/20,6:00 PM,Puducherry,1,0,0,0,1\\r\\n284,22/03/20,6:00 PM,Punjab,21,0,0,1,21\\r\\n285,22/03/20,6:00 PM,Rajasthan,22,2,3,0,24\\r\\n286,22/03/20,6:00 PM,Tamil Nadu,5,2,1,0,7\\r\\n287,22/03/20,6:00 PM,Telengana,11,11,1,0,22\\r\\n288,22/03/20,6:00 PM,Chandigarh,5,0,0,0,5\\r\\n289,22/03/20,6:00 PM,Jammu and Kashmir,4,0,0,0,4\\r\\n290,22/03/20,6:00 PM,Ladakh,13,0,0,0,13\\r\\n291,22/03/20,6:00 PM,Uttar Pradesh,26,1,9,0,27\\r\\n292,22/03/20,6:00 PM,Uttarakhand,3,0,0,0,3\\r\\n293,22/03/20,6:00 PM,West Bengal,4,0,0,0,4\\r\\n294,23/03/20,6:00 PM,Andhra Pradesh,7,0,0,0,7\\r\\n295,23/03/20,6:00 PM,Bihar,2,0,0,1,2\\r\\n296,23/03/20,6:00 PM,Chhattisgarh,1,0,0,0,1\\r\\n297,23/03/20,6:00 PM,Delhi,28,1,5,1,29\\r\\n298,23/03/20,6:00 PM,Gujarat,29,0,0,1,29\\r\\n299,23/03/20,6:00 PM,Haryana,12,14,0,0,26\\r\\n300,23/03/20,6:00 PM,Himachal Pradesh,2,0,0,0,2\\r\\n301,23/03/20,6:00 PM,Karnataka,33,0,2,1,33\\r\\n302,23/03/20,6:00 PM,Kerala,60,7,3,0,67\\r\\n303,23/03/20,6:00 PM,Madhya Pradesh,6,0,0,0,6\\r\\n304,23/03/20,6:00 PM,Maharashtra,71,3,0,2,74\\r\\n305,23/03/20,6:00 PM,Odisha,2,0,0,0,2\\r\\n306,23/03/20,6:00 PM,Puducherry,1,0,0,0,1\\r\\n307,23/03/20,6:00 PM,Punjab,21,0,0,1,21\\r\\n308,23/03/20,6:00 PM,Rajasthan,26,2,3,0,28\\r\\n309,23/03/20,6:00 PM,Tamil Nadu,7,2,1,0,9\\r\\n310,23/03/20,6:00 PM,Telengana,22,10,1,0,32\\r\\n311,23/03/20,6:00 PM,Chandigarh,6,0,0,0,6\\r\\n312,23/03/20,6:00 PM,Jammu and Kashmir,4,0,0,0,4\\r\\n313,23/03/20,6:00 PM,Ladakh,13,0,0,0,13\\r\\n314,23/03/20,6:00 PM,Uttar Pradesh,30,1,9,0,31\\r\\n315,23/03/20,6:00 PM,Uttarakhand,3,0,0,0,3\\r\\n316,23/03/20,6:00 PM,West Bengal,7,0,0,0,7\\r\\n317,24/03/20,6:00 PM,Andhra Pradesh,8,0,0,0,8\\r\\n318,24/03/20,6:00 PM,Bihar,3,0,0,1,3\\r\\n319,24/03/20,6:00 PM,Chhattisgarh,1,0,0,0,1\\r\\n320,24/03/20,6:00 PM,Delhi,29,1,6,1,30\\r\\n321,24/03/20,6:00 PM,Gujarat,32,1,0,1,33\\r\\n322,24/03/20,6:00 PM,Haryana,14,14,11,0,28\\r\\n323,24/03/20,6:00 PM,Himachal Pradesh,3,0,0,1,3\\r\\n324,24/03/20,6:00 PM,Karnataka,37,0,3,1,37\\r\\n325,24/03/20,6:00 PM,Kerala,87,8,4,0,95\\r\\n326,24/03/20,6:00 PM,Madhya Pradesh,7,0,0,0,7\\r\\n327,24/03/20,6:00 PM,Maharashtra,86,3,0,2,89\\r\\n328,24/03/20,6:00 PM,Manipur,1,0,0,0,1\\r\\n329,24/03/20,6:00 PM,Odisha,2,0,0,0,2\\r\\n330,24/03/20,6:00 PM,Puducherry,1,0,0,0,1\\r\\n331,24/03/20,6:00 PM,Punjab,29,0,0,1,29\\r\\n332,24/03/20,6:00 PM,Rajasthan,30,2,3,0,32\\r\\n333,24/03/20,6:00 PM,Tamil Nadu,13,2,1,0,15\\r\\n334,24/03/20,6:00 PM,Telengana,25,10,1,0,35\\r\\n335,24/03/20,6:00 PM,Chandigarh,7,0,0,0,7\\r\\n336,24/03/20,6:00 PM,Jammu and Kashmir,4,0,0,0,4\\r\\n337,24/03/20,6:00 PM,Ladakh,13,0,0,0,13\\r\\n338,24/03/20,6:00 PM,Uttar Pradesh,32,1,11,0,33\\r\\n339,24/03/20,6:00 PM,Uttarakhand,3,1,0,0,4\\r\\n340,24/03/20,6:00 PM,West Bengal,9,0,0,1,9\\r\\n341,25/03/20,6:00 PM,Andhra Pradesh,9,0,1,0,9\\r\\n342,25/03/20,6:00 PM,Bihar,4,0,0,1,4\\r\\n343,25/03/20,6:00 PM,Chhattisgarh,1,0,0,0,1\\r\\n344,25/03/20,6:00 PM,Delhi,30,1,6,1,31\\r\\n345,25/03/20,6:00 PM,Gujarat,37,1,0,1,38\\r\\n346,25/03/20,6:00 PM,Haryana,14,14,11,0,28\\r\\n347,25/03/20,6:00 PM,Himachal Pradesh,3,0,0,1,3\\r\\n348,25/03/20,6:00 PM,Karnataka,41,0,3,1,41\\r\\n349,25/03/20,6:00 PM,Kerala,101,8,4,0,109\\r\\n350,25/03/20,6:00 PM,Madhya Pradesh,14,0,0,0,14\\r\\n351,25/03/20,6:00 PM,Maharashtra,125,3,1,3,128\\r\\n352,25/03/20,6:00 PM,Manipur,1,0,0,0,1\\r\\n353,25/03/20,6:00 PM,Mizoram,1,0,0,0,1\\r\\n354,25/03/20,6:00 PM,Odisha,2,0,0,0,2\\r\\n355,25/03/20,6:00 PM,Puducherry,1,0,0,0,1\\r\\n356,25/03/20,6:00 PM,Punjab,29,0,0,1,29\\r\\n357,25/03/20,6:00 PM,Rajasthan,34,2,3,0,36\\r\\n358,25/03/20,6:00 PM,Tamil Nadu,16,2,1,0,18\\r\\n359,25/03/20,6:00 PM,Telengana,25,10,1,0,35\\r\\n360,25/03/20,6:00 PM,Chandigarh,7,0,0,0,7\\r\\n361,25/03/20,6:00 PM,Jammu and Kashmir,7,0,1,0,7\\r\\n362,25/03/20,6:00 PM,Ladakh,13,0,0,0,13\\r\\n363,25/03/20,6:00 PM,Uttar Pradesh,36,1,11,0,37\\r\\n364,25/03/20,6:00 PM,Uttarakhand,3,1,0,0,4\\r\\n365,25/03/20,6:00 PM,West Bengal,9,0,0,1,9\\r\\n366,26/03/20,6:00 PM,Andaman and Nicobar Islands,1,0,0,0,1\\r\\n367,26/03/20,6:00 PM,Andhra Pradesh,11,0,1,0,11\\r\\n368,26/03/20,6:00 PM,Bihar,6,0,0,1,6\\r\\n369,26/03/20,6:00 PM,Chandigarh,7,0,0,0,7\\r\\n370,26/03/20,6:00 PM,Chhattisgarh,6,0,0,0,6\\r\\n371,26/03/20,6:00 PM,Delhi,35,1,6,1,36\\r\\n372,26/03/20,6:00 PM,Goa,3,0,0,0,3\\r\\n373,26/03/20,6:00 PM,Gujarat,42,1,0,3,43\\r\\n374,26/03/20,6:00 PM,Haryana,16,14,11,0,30\\r\\n375,26/03/20,6:00 PM,Himachal Pradesh,3,0,0,1,3\\r\\n376,26/03/20,6:00 PM,Jammu and Kashmir,13,0,1,0,13\\r\\n377,26/03/20,6:00 PM,Karnataka,55,0,3,2,55\\r\\n378,26/03/20,6:00 PM,Kerala,110,8,6,0,118\\r\\n379,26/03/20,6:00 PM,Ladakh,13,0,0,0,13\\r\\n380,26/03/20,6:00 PM,Madhya Pradesh,20,0,0,1,20\\r\\n381,26/03/20,6:00 PM,Maharashtra,121,3,1,3,124\\r\\n382,26/03/20,6:00 PM,Manipur,1,0,0,0,1\\r\\n383,26/03/20,6:00 PM,Mizoram,1,0,0,0,1\\r\\n384,26/03/20,6:00 PM,Odisha,2,0,0,0,2\\r\\n385,26/03/20,6:00 PM,Puducherry,1,0,0,0,1\\r\\n386,26/03/20,6:00 PM,Punjab,33,0,0,1,33\\r\\n387,26/03/20,6:00 PM,Rajasthan,39,2,3,0,41\\r\\n388,26/03/20,6:00 PM,Tamil Nadu,20,6,1,1,26\\r\\n389,26/03/20,6:00 PM,Telengana,34,10,1,0,44\\r\\n390,26/03/20,6:00 PM,Uttarakhand,4,1,0,0,5\\r\\n391,26/03/20,6:00 PM,Uttar Pradesh,40,1,11,0,41\\r\\n392,26/03/20,6:00 PM,West Bengal,10,0,0,1,10\\r\\n393,27/03/20,10:00 AM,Andaman and Nicobar Islands,1,0,0,0,1\\r\\n394,27/03/20,10:00 AM,Andhra Pradesh,12,0,1,0,12\\r\\n395,27/03/20,10:00 AM,Bihar,6,0,0,1,6\\r\\n396,27/03/20,10:00 AM,Chandigarh,7,0,0,0,7\\r\\n397,27/03/20,10:00 AM,Chhattisgarh,6,0,0,0,6\\r\\n398,27/03/20,10:00 AM,Delhi,35,1,6,1,36\\r\\n399,27/03/20,10:00 AM,Goa,3,0,0,0,3\\r\\n400,27/03/20,10:00 AM,Gujarat,42,1,0,3,43\\r\\n401,27/03/20,10:00 AM,Haryana,16,14,11,0,30\\r\\n402,27/03/20,10:00 AM,Himachal Pradesh,3,0,0,1,3\\r\\n403,27/03/20,10:00 AM,Jammu and Kashmir,13,0,1,1,13\\r\\n404,27/03/20,10:00 AM,Karnataka,55,0,3,2,55\\r\\n405,27/03/20,10:00 AM,Kerala,129,8,11,0,137\\r\\n406,27/03/20,10:00 AM,Ladakh,13,0,3,0,13\\r\\n407,27/03/20,10:00 AM,Madhya Pradesh,20,0,0,1,20\\r\\n408,27/03/20,10:00 AM,Maharashtra,127,3,15,4,130\\r\\n409,27/03/20,10:00 AM,Manipur,1,0,0,0,1\\r\\n410,27/03/20,10:00 AM,Mizoram,1,0,0,0,1\\r\\n411,27/03/20,10:00 AM,Odisha,2,0,0,0,2\\r\\n412,27/03/20,10:00 AM,Puducherry,1,0,0,0,1\\r\\n413,27/03/20,10:00 AM,Punjab,33,0,0,1,33\\r\\n414,27/03/20,10:00 AM,Rajasthan,39,2,3,0,41\\r\\n415,27/03/20,10:00 AM,Tamil Nadu,23,6,1,1,29\\r\\n416,27/03/20,10:00 AM,Telengana,35,10,1,0,45\\r\\n417,27/03/20,10:00 AM,Uttarakhand,4,1,0,0,5\\r\\n418,27/03/20,10:00 AM,Uttar Pradesh,40,1,11,0,41\\r\\n419,27/03/20,10:00 AM,West Bengal,10,0,0,1,10\\r\\n420,28/03/20,6:00 PM,Andhra Pradesh,14,0,1,0,14\\r\\n421,28/03/20,6:00 PM,Andaman and Nicobar Islands,6,0,0,0,6\\r\\n422,28/03/20,6:00 PM,Bihar,9,0,0,1,9\\r\\n423,28/03/20,6:00 PM,Chandigarh,8,0,0,0,8\\r\\n424,28/03/20,6:00 PM,Chhattisgarh,6,0,0,0,6\\r\\n425,28/03/20,6:00 PM,Delhi,38,1,6,1,39\\r\\n426,28/03/20,6:00 PM,Goa,3,0,0,0,3\\r\\n427,28/03/20,6:00 PM,Gujarat,44,1,0,3,45\\r\\n428,28/03/20,6:00 PM,Haryana,19,14,12,0,33\\r\\n429,28/03/20,6:00 PM,Himachal Pradesh,3,0,0,1,3\\r\\n430,28/03/20,6:00 PM,Jammu and Kashmir,20,0,1,1,20\\r\\n431,28/03/20,6:00 PM,Karnataka,55,0,3,2,55\\r\\n432,28/03/20,6:00 PM,Kerala,168,8,11,0,176\\r\\n433,28/03/20,6:00 PM,Ladakh,13,0,3,0,13\\r\\n434,28/03/20,6:00 PM,Madhya Pradesh,30,0,0,2,30\\r\\n435,28/03/20,6:00 PM,Maharashtra,177,3,25,5,180\\r\\n436,28/03/20,6:00 PM,Manipur,1,0,0,0,1\\r\\n437,28/03/20,6:00 PM,Mizoram,1,0,0,0,1\\r\\n438,28/03/20,6:00 PM,Odisha,3,0,0,0,3\\r\\n439,28/03/20,6:00 PM,Puducherry,1,0,0,0,1\\r\\n440,28/03/20,6:00 PM,Punjab,38,0,1,1,38\\r\\n441,28/03/20,6:00 PM,Rajasthan,52,2,3,0,54\\r\\n442,28/03/20,6:00 PM,Tamil Nadu,34,6,2,1,40\\r\\n443,28/03/20,6:00 PM,Telengana,46,10,1,0,56\\r\\n444,28/03/20,6:00 PM,Uttarakhand,4,1,0,0,5\\r\\n445,28/03/20,6:00 PM,Uttar Pradesh,54,1,11,0,55\\r\\n446,28/03/20,6:00 PM,West Bengal,15,0,0,1,15\\r\\n447,29/03/20,7:30 PM,Andhra Pradesh,-,-,1,0,19\\r\\n448,29/03/20,7:30 PM,Andaman and Nicobar Islands,-,-,0,0,9\\r\\n449,29/03/20,7:30 PM,Bihar,-,-,0,1,11\\r\\n450,29/03/20,7:30 PM,Chandigarh,-,-,0,0,8\\r\\n451,29/03/20,7:30 PM,Chhattisgarh,-,-,0,0,7\\r\\n452,29/03/20,7:30 PM,Delhi,-,-,6,2,49\\r\\n453,29/03/20,7:30 PM,Goa,-,-,0,0,5\\r\\n454,29/03/20,7:30 PM,Gujarat,-,-,1,5,58\\r\\n455,29/03/20,7:30 PM,Haryana,-,-,17,0,33\\r\\n456,29/03/20,7:30 PM,Himachal Pradesh,-,-,0,1,3\\r\\n457,29/03/20,7:30 PM,Jammu and Kashmir,-,-,1,2,31\\r\\n458,29/03/20,7:30 PM,Karnataka,-,-,5,3,76\\r\\n459,29/03/20,7:30 PM,Kerala,-,-,15,1,182\\r\\n460,29/03/20,7:30 PM,Ladakh,-,-,3,0,13\\r\\n461,29/03/20,7:30 PM,Madhya Pradesh,-,-,0,2,30\\r\\n462,29/03/20,7:30 PM,Maharashtra,-,-,25,6,186\\r\\n463,29/03/20,7:30 PM,Manipur,-,-,0,0,1\\r\\n464,29/03/20,7:30 PM,Mizoram,-,-,0,0,1\\r\\n465,29/03/20,7:30 PM,Odisha,-,-,0,0,3\\r\\n466,29/03/20,7:30 PM,Puducherry,-,-,0,0,1\\r\\n467,29/03/20,7:30 PM,Punjab,-,-,1,1,38\\r\\n468,29/03/20,7:30 PM,Rajasthan,-,-,3,0,55\\r\\n469,29/03/20,7:30 PM,Tamil Nadu,-,-,4,1,49\\r\\n470,29/03/20,7:30 PM,Telengana,-,-,1,1,66\\r\\n471,29/03/20,7:30 PM,Uttarakhand,-,-,2,0,7\\r\\n472,29/03/20,7:30 PM,Uttar Pradesh,-,-,11,0,65\\r\\n473,29/03/20,7:30 PM,West Bengal,-,-,0,1,18\\r\\n474,30/03/20,9:30 PM,Andhra Pradesh,-,-,1,0,23\\r\\n475,30/03/20,9:30 PM,Andaman and Nicobar Islands,-,-,0,0,9\\r\\n476,30/03/20,9:30 PM,Bihar,-,-,0,1,15\\r\\n477,30/03/20,9:30 PM,Chandigarh,-,-,0,0,8\\r\\n478,30/03/20,9:30 PM,Chhattisgarh,-,-,0,0,7\\r\\n479,30/03/20,9:30 PM,Delhi,-,-,6,2,87\\r\\n480,30/03/20,9:30 PM,Goa,-,-,0,0,5\\r\\n481,30/03/20,9:30 PM,Gujarat,-,-,1,6,69\\r\\n482,30/03/20,9:30 PM,Haryana,-,-,18,0,36\\r\\n483,30/03/20,9:30 PM,Himachal Pradesh,-,-,0,1,3\\r\\n484,30/03/20,9:30 PM,Jammu and Kashmir,-,-,2,2,48\\r\\n485,30/03/20,9:30 PM,Karnataka,-,-,5,3,83\\r\\n486,30/03/20,9:30 PM,Kerala,-,-,19,1,202\\r\\n487,30/03/20,9:30 PM,Ladakh,-,-,3,0,13\\r\\n488,30/03/20,9:30 PM,Madhya Pradesh,-,-,0,3,47\\r\\n489,30/03/20,9:30 PM,Maharashtra,-,-,25,8,198\\r\\n490,30/03/20,9:30 PM,Manipur,-,-,0,0,1\\r\\n491,30/03/20,9:30 PM,Mizoram,-,-,0,0,1\\r\\n492,30/03/20,9:30 PM,Odisha,-,-,0,0,3\\r\\n493,30/03/20,9:30 PM,Puducherry,-,-,0,0,1\\r\\n494,30/03/20,9:30 PM,Punjab,-,-,1,1,38\\r\\n495,30/03/20,9:30 PM,Rajasthan,-,-,3,0,59\\r\\n496,30/03/20,9:30 PM,Tamil Nadu,-,-,4,1,67\\r\\n497,30/03/20,9:30 PM,Telengana,-,-,1,1,71\\r\\n498,30/03/20,9:30 PM,Uttarakhand,-,-,2,0,7\\r\\n499,30/03/20,9:30 PM,Uttar Pradesh,-,-,11,0,82\\r\\n500,30/03/20,9:30 PM,West Bengal,-,-,0,1,22'}"
            ]
          },
          "metadata": {
            "tags": []
          },
          "execution_count": 3
        }
      ]
    },
    {
      "cell_type": "code",
      "metadata": {
        "id": "gaR1oIhig2vB",
        "colab_type": "code",
        "colab": {}
      },
      "source": [
        "df = pd.read_csv('covid_19_india.csv')"
      ],
      "execution_count": 0,
      "outputs": []
    },
    {
      "cell_type": "code",
      "metadata": {
        "id": "d_MoCp3dhVFv",
        "colab_type": "code",
        "outputId": "061b96c5-f2fe-4bf0-e06c-3e126a926ceb",
        "colab": {
          "base_uri": "https://localhost:8080/",
          "height": 204
        }
      },
      "source": [
        "df.head()"
      ],
      "execution_count": 5,
      "outputs": [
        {
          "output_type": "execute_result",
          "data": {
            "text/html": [
              "<div>\n",
              "<style scoped>\n",
              "    .dataframe tbody tr th:only-of-type {\n",
              "        vertical-align: middle;\n",
              "    }\n",
              "\n",
              "    .dataframe tbody tr th {\n",
              "        vertical-align: top;\n",
              "    }\n",
              "\n",
              "    .dataframe thead th {\n",
              "        text-align: right;\n",
              "    }\n",
              "</style>\n",
              "<table border=\"1\" class=\"dataframe\">\n",
              "  <thead>\n",
              "    <tr style=\"text-align: right;\">\n",
              "      <th></th>\n",
              "      <th>Sno</th>\n",
              "      <th>Date</th>\n",
              "      <th>Time</th>\n",
              "      <th>State/UnionTerritory</th>\n",
              "      <th>ConfirmedIndianNational</th>\n",
              "      <th>ConfirmedForeignNational</th>\n",
              "      <th>Cured</th>\n",
              "      <th>Deaths</th>\n",
              "      <th>Confirmed</th>\n",
              "    </tr>\n",
              "  </thead>\n",
              "  <tbody>\n",
              "    <tr>\n",
              "      <th>0</th>\n",
              "      <td>1</td>\n",
              "      <td>30/01/20</td>\n",
              "      <td>6:00 PM</td>\n",
              "      <td>Kerala</td>\n",
              "      <td>1</td>\n",
              "      <td>0</td>\n",
              "      <td>0</td>\n",
              "      <td>0</td>\n",
              "      <td>1</td>\n",
              "    </tr>\n",
              "    <tr>\n",
              "      <th>1</th>\n",
              "      <td>2</td>\n",
              "      <td>31/01/20</td>\n",
              "      <td>6:00 PM</td>\n",
              "      <td>Kerala</td>\n",
              "      <td>1</td>\n",
              "      <td>0</td>\n",
              "      <td>0</td>\n",
              "      <td>0</td>\n",
              "      <td>1</td>\n",
              "    </tr>\n",
              "    <tr>\n",
              "      <th>2</th>\n",
              "      <td>3</td>\n",
              "      <td>01/02/20</td>\n",
              "      <td>6:00 PM</td>\n",
              "      <td>Kerala</td>\n",
              "      <td>2</td>\n",
              "      <td>0</td>\n",
              "      <td>0</td>\n",
              "      <td>0</td>\n",
              "      <td>2</td>\n",
              "    </tr>\n",
              "    <tr>\n",
              "      <th>3</th>\n",
              "      <td>4</td>\n",
              "      <td>02/02/20</td>\n",
              "      <td>6:00 PM</td>\n",
              "      <td>Kerala</td>\n",
              "      <td>3</td>\n",
              "      <td>0</td>\n",
              "      <td>0</td>\n",
              "      <td>0</td>\n",
              "      <td>3</td>\n",
              "    </tr>\n",
              "    <tr>\n",
              "      <th>4</th>\n",
              "      <td>5</td>\n",
              "      <td>03/02/20</td>\n",
              "      <td>6:00 PM</td>\n",
              "      <td>Kerala</td>\n",
              "      <td>3</td>\n",
              "      <td>0</td>\n",
              "      <td>0</td>\n",
              "      <td>0</td>\n",
              "      <td>3</td>\n",
              "    </tr>\n",
              "  </tbody>\n",
              "</table>\n",
              "</div>"
            ],
            "text/plain": [
              "   Sno      Date     Time  ... Cured Deaths Confirmed\n",
              "0    1  30/01/20  6:00 PM  ...     0      0         1\n",
              "1    2  31/01/20  6:00 PM  ...     0      0         1\n",
              "2    3  01/02/20  6:00 PM  ...     0      0         2\n",
              "3    4  02/02/20  6:00 PM  ...     0      0         3\n",
              "4    5  03/02/20  6:00 PM  ...     0      0         3\n",
              "\n",
              "[5 rows x 9 columns]"
            ]
          },
          "metadata": {
            "tags": []
          },
          "execution_count": 5
        }
      ]
    },
    {
      "cell_type": "code",
      "metadata": {
        "id": "nLrqu7WaswKt",
        "colab_type": "code",
        "outputId": "aeec9dad-1861-463d-8f83-89b2ab042a95",
        "colab": {
          "resources": {
            "http://localhost:8080/nbextensions/google.colab/files.js": {
              "data": "Ly8gQ29weXJpZ2h0IDIwMTcgR29vZ2xlIExMQwovLwovLyBMaWNlbnNlZCB1bmRlciB0aGUgQXBhY2hlIExpY2Vuc2UsIFZlcnNpb24gMi4wICh0aGUgIkxpY2Vuc2UiKTsKLy8geW91IG1heSBub3QgdXNlIHRoaXMgZmlsZSBleGNlcHQgaW4gY29tcGxpYW5jZSB3aXRoIHRoZSBMaWNlbnNlLgovLyBZb3UgbWF5IG9idGFpbiBhIGNvcHkgb2YgdGhlIExpY2Vuc2UgYXQKLy8KLy8gICAgICBodHRwOi8vd3d3LmFwYWNoZS5vcmcvbGljZW5zZXMvTElDRU5TRS0yLjAKLy8KLy8gVW5sZXNzIHJlcXVpcmVkIGJ5IGFwcGxpY2FibGUgbGF3IG9yIGFncmVlZCB0byBpbiB3cml0aW5nLCBzb2Z0d2FyZQovLyBkaXN0cmlidXRlZCB1bmRlciB0aGUgTGljZW5zZSBpcyBkaXN0cmlidXRlZCBvbiBhbiAiQVMgSVMiIEJBU0lTLAovLyBXSVRIT1VUIFdBUlJBTlRJRVMgT1IgQ09ORElUSU9OUyBPRiBBTlkgS0lORCwgZWl0aGVyIGV4cHJlc3Mgb3IgaW1wbGllZC4KLy8gU2VlIHRoZSBMaWNlbnNlIGZvciB0aGUgc3BlY2lmaWMgbGFuZ3VhZ2UgZ292ZXJuaW5nIHBlcm1pc3Npb25zIGFuZAovLyBsaW1pdGF0aW9ucyB1bmRlciB0aGUgTGljZW5zZS4KCi8qKgogKiBAZmlsZW92ZXJ2aWV3IEhlbHBlcnMgZm9yIGdvb2dsZS5jb2xhYiBQeXRob24gbW9kdWxlLgogKi8KKGZ1bmN0aW9uKHNjb3BlKSB7CmZ1bmN0aW9uIHNwYW4odGV4dCwgc3R5bGVBdHRyaWJ1dGVzID0ge30pIHsKICBjb25zdCBlbGVtZW50ID0gZG9jdW1lbnQuY3JlYXRlRWxlbWVudCgnc3BhbicpOwogIGVsZW1lbnQudGV4dENvbnRlbnQgPSB0ZXh0OwogIGZvciAoY29uc3Qga2V5IG9mIE9iamVjdC5rZXlzKHN0eWxlQXR0cmlidXRlcykpIHsKICAgIGVsZW1lbnQuc3R5bGVba2V5XSA9IHN0eWxlQXR0cmlidXRlc1trZXldOwogIH0KICByZXR1cm4gZWxlbWVudDsKfQoKLy8gTWF4IG51bWJlciBvZiBieXRlcyB3aGljaCB3aWxsIGJlIHVwbG9hZGVkIGF0IGEgdGltZS4KY29uc3QgTUFYX1BBWUxPQURfU0laRSA9IDEwMCAqIDEwMjQ7Ci8vIE1heCBhbW91bnQgb2YgdGltZSB0byBibG9jayB3YWl0aW5nIGZvciB0aGUgdXNlci4KY29uc3QgRklMRV9DSEFOR0VfVElNRU9VVF9NUyA9IDMwICogMTAwMDsKCmZ1bmN0aW9uIF91cGxvYWRGaWxlcyhpbnB1dElkLCBvdXRwdXRJZCkgewogIGNvbnN0IHN0ZXBzID0gdXBsb2FkRmlsZXNTdGVwKGlucHV0SWQsIG91dHB1dElkKTsKICBjb25zdCBvdXRwdXRFbGVtZW50ID0gZG9jdW1lbnQuZ2V0RWxlbWVudEJ5SWQob3V0cHV0SWQpOwogIC8vIENhY2hlIHN0ZXBzIG9uIHRoZSBvdXRwdXRFbGVtZW50IHRvIG1ha2UgaXQgYXZhaWxhYmxlIGZvciB0aGUgbmV4dCBjYWxsCiAgLy8gdG8gdXBsb2FkRmlsZXNDb250aW51ZSBmcm9tIFB5dGhvbi4KICBvdXRwdXRFbGVtZW50LnN0ZXBzID0gc3RlcHM7CgogIHJldHVybiBfdXBsb2FkRmlsZXNDb250aW51ZShvdXRwdXRJZCk7Cn0KCi8vIFRoaXMgaXMgcm91Z2hseSBhbiBhc3luYyBnZW5lcmF0b3IgKG5vdCBzdXBwb3J0ZWQgaW4gdGhlIGJyb3dzZXIgeWV0KSwKLy8gd2hlcmUgdGhlcmUgYXJlIG11bHRpcGxlIGFzeW5jaHJvbm91cyBzdGVwcyBhbmQgdGhlIFB5dGhvbiBzaWRlIGlzIGdvaW5nCi8vIHRvIHBvbGwgZm9yIGNvbXBsZXRpb24gb2YgZWFjaCBzdGVwLgovLyBUaGlzIHVzZXMgYSBQcm9taXNlIHRvIGJsb2NrIHRoZSBweXRob24gc2lkZSBvbiBjb21wbGV0aW9uIG9mIGVhY2ggc3RlcCwKLy8gdGhlbiBwYXNzZXMgdGhlIHJlc3VsdCBvZiB0aGUgcHJldmlvdXMgc3RlcCBhcyB0aGUgaW5wdXQgdG8gdGhlIG5leHQgc3RlcC4KZnVuY3Rpb24gX3VwbG9hZEZpbGVzQ29udGludWUob3V0cHV0SWQpIHsKICBjb25zdCBvdXRwdXRFbGVtZW50ID0gZG9jdW1lbnQuZ2V0RWxlbWVudEJ5SWQob3V0cHV0SWQpOwogIGNvbnN0IHN0ZXBzID0gb3V0cHV0RWxlbWVudC5zdGVwczsKCiAgY29uc3QgbmV4dCA9IHN0ZXBzLm5leHQob3V0cHV0RWxlbWVudC5sYXN0UHJvbWlzZVZhbHVlKTsKICByZXR1cm4gUHJvbWlzZS5yZXNvbHZlKG5leHQudmFsdWUucHJvbWlzZSkudGhlbigodmFsdWUpID0+IHsKICAgIC8vIENhY2hlIHRoZSBsYXN0IHByb21pc2UgdmFsdWUgdG8gbWFrZSBpdCBhdmFpbGFibGUgdG8gdGhlIG5leHQKICAgIC8vIHN0ZXAgb2YgdGhlIGdlbmVyYXRvci4KICAgIG91dHB1dEVsZW1lbnQubGFzdFByb21pc2VWYWx1ZSA9IHZhbHVlOwogICAgcmV0dXJuIG5leHQudmFsdWUucmVzcG9uc2U7CiAgfSk7Cn0KCi8qKgogKiBHZW5lcmF0b3IgZnVuY3Rpb24gd2hpY2ggaXMgY2FsbGVkIGJldHdlZW4gZWFjaCBhc3luYyBzdGVwIG9mIHRoZSB1cGxvYWQKICogcHJvY2Vzcy4KICogQHBhcmFtIHtzdHJpbmd9IGlucHV0SWQgRWxlbWVudCBJRCBvZiB0aGUgaW5wdXQgZmlsZSBwaWNrZXIgZWxlbWVudC4KICogQHBhcmFtIHtzdHJpbmd9IG91dHB1dElkIEVsZW1lbnQgSUQgb2YgdGhlIG91dHB1dCBkaXNwbGF5LgogKiBAcmV0dXJuIHshSXRlcmFibGU8IU9iamVjdD59IEl0ZXJhYmxlIG9mIG5leHQgc3RlcHMuCiAqLwpmdW5jdGlvbiogdXBsb2FkRmlsZXNTdGVwKGlucHV0SWQsIG91dHB1dElkKSB7CiAgY29uc3QgaW5wdXRFbGVtZW50ID0gZG9jdW1lbnQuZ2V0RWxlbWVudEJ5SWQoaW5wdXRJZCk7CiAgaW5wdXRFbGVtZW50LmRpc2FibGVkID0gZmFsc2U7CgogIGNvbnN0IG91dHB1dEVsZW1lbnQgPSBkb2N1bWVudC5nZXRFbGVtZW50QnlJZChvdXRwdXRJZCk7CiAgb3V0cHV0RWxlbWVudC5pbm5lckhUTUwgPSAnJzsKCiAgY29uc3QgcGlja2VkUHJvbWlzZSA9IG5ldyBQcm9taXNlKChyZXNvbHZlKSA9PiB7CiAgICBpbnB1dEVsZW1lbnQuYWRkRXZlbnRMaXN0ZW5lcignY2hhbmdlJywgKGUpID0+IHsKICAgICAgcmVzb2x2ZShlLnRhcmdldC5maWxlcyk7CiAgICB9KTsKICB9KTsKCiAgY29uc3QgY2FuY2VsID0gZG9jdW1lbnQuY3JlYXRlRWxlbWVudCgnYnV0dG9uJyk7CiAgaW5wdXRFbGVtZW50LnBhcmVudEVsZW1lbnQuYXBwZW5kQ2hpbGQoY2FuY2VsKTsKICBjYW5jZWwudGV4dENvbnRlbnQgPSAnQ2FuY2VsIHVwbG9hZCc7CiAgY29uc3QgY2FuY2VsUHJvbWlzZSA9IG5ldyBQcm9taXNlKChyZXNvbHZlKSA9PiB7CiAgICBjYW5jZWwub25jbGljayA9ICgpID0+IHsKICAgICAgcmVzb2x2ZShudWxsKTsKICAgIH07CiAgfSk7CgogIC8vIENhbmNlbCB1cGxvYWQgaWYgdXNlciBoYXNuJ3QgcGlja2VkIGFueXRoaW5nIGluIHRpbWVvdXQuCiAgY29uc3QgdGltZW91dFByb21pc2UgPSBuZXcgUHJvbWlzZSgocmVzb2x2ZSkgPT4gewogICAgc2V0VGltZW91dCgoKSA9PiB7CiAgICAgIHJlc29sdmUobnVsbCk7CiAgICB9LCBGSUxFX0NIQU5HRV9USU1FT1VUX01TKTsKICB9KTsKCiAgLy8gV2FpdCBmb3IgdGhlIHVzZXIgdG8gcGljayB0aGUgZmlsZXMuCiAgY29uc3QgZmlsZXMgPSB5aWVsZCB7CiAgICBwcm9taXNlOiBQcm9taXNlLnJhY2UoW3BpY2tlZFByb21pc2UsIHRpbWVvdXRQcm9taXNlLCBjYW5jZWxQcm9taXNlXSksCiAgICByZXNwb25zZTogewogICAgICBhY3Rpb246ICdzdGFydGluZycsCiAgICB9CiAgfTsKCiAgaWYgKCFmaWxlcykgewogICAgcmV0dXJuIHsKICAgICAgcmVzcG9uc2U6IHsKICAgICAgICBhY3Rpb246ICdjb21wbGV0ZScsCiAgICAgIH0KICAgIH07CiAgfQoKICBjYW5jZWwucmVtb3ZlKCk7CgogIC8vIERpc2FibGUgdGhlIGlucHV0IGVsZW1lbnQgc2luY2UgZnVydGhlciBwaWNrcyBhcmUgbm90IGFsbG93ZWQuCiAgaW5wdXRFbGVtZW50LmRpc2FibGVkID0gdHJ1ZTsKCiAgZm9yIChjb25zdCBmaWxlIG9mIGZpbGVzKSB7CiAgICBjb25zdCBsaSA9IGRvY3VtZW50LmNyZWF0ZUVsZW1lbnQoJ2xpJyk7CiAgICBsaS5hcHBlbmQoc3BhbihmaWxlLm5hbWUsIHtmb250V2VpZ2h0OiAnYm9sZCd9KSk7CiAgICBsaS5hcHBlbmQoc3BhbigKICAgICAgICBgKCR7ZmlsZS50eXBlIHx8ICduL2EnfSkgLSAke2ZpbGUuc2l6ZX0gYnl0ZXMsIGAgKwogICAgICAgIGBsYXN0IG1vZGlmaWVkOiAkewogICAgICAgICAgICBmaWxlLmxhc3RNb2RpZmllZERhdGUgPyBmaWxlLmxhc3RNb2RpZmllZERhdGUudG9Mb2NhbGVEYXRlU3RyaW5nKCkgOgogICAgICAgICAgICAgICAgICAgICAgICAgICAgICAgICAgICAnbi9hJ30gLSBgKSk7CiAgICBjb25zdCBwZXJjZW50ID0gc3BhbignMCUgZG9uZScpOwogICAgbGkuYXBwZW5kQ2hpbGQocGVyY2VudCk7CgogICAgb3V0cHV0RWxlbWVudC5hcHBlbmRDaGlsZChsaSk7CgogICAgY29uc3QgZmlsZURhdGFQcm9taXNlID0gbmV3IFByb21pc2UoKHJlc29sdmUpID0+IHsKICAgICAgY29uc3QgcmVhZGVyID0gbmV3IEZpbGVSZWFkZXIoKTsKICAgICAgcmVhZGVyLm9ubG9hZCA9IChlKSA9PiB7CiAgICAgICAgcmVzb2x2ZShlLnRhcmdldC5yZXN1bHQpOwogICAgICB9OwogICAgICByZWFkZXIucmVhZEFzQXJyYXlCdWZmZXIoZmlsZSk7CiAgICB9KTsKICAgIC8vIFdhaXQgZm9yIHRoZSBkYXRhIHRvIGJlIHJlYWR5LgogICAgbGV0IGZpbGVEYXRhID0geWllbGQgewogICAgICBwcm9taXNlOiBmaWxlRGF0YVByb21pc2UsCiAgICAgIHJlc3BvbnNlOiB7CiAgICAgICAgYWN0aW9uOiAnY29udGludWUnLAogICAgICB9CiAgICB9OwoKICAgIC8vIFVzZSBhIGNodW5rZWQgc2VuZGluZyB0byBhdm9pZCBtZXNzYWdlIHNpemUgbGltaXRzLiBTZWUgYi82MjExNTY2MC4KICAgIGxldCBwb3NpdGlvbiA9IDA7CiAgICB3aGlsZSAocG9zaXRpb24gPCBmaWxlRGF0YS5ieXRlTGVuZ3RoKSB7CiAgICAgIGNvbnN0IGxlbmd0aCA9IE1hdGgubWluKGZpbGVEYXRhLmJ5dGVMZW5ndGggLSBwb3NpdGlvbiwgTUFYX1BBWUxPQURfU0laRSk7CiAgICAgIGNvbnN0IGNodW5rID0gbmV3IFVpbnQ4QXJyYXkoZmlsZURhdGEsIHBvc2l0aW9uLCBsZW5ndGgpOwogICAgICBwb3NpdGlvbiArPSBsZW5ndGg7CgogICAgICBjb25zdCBiYXNlNjQgPSBidG9hKFN0cmluZy5mcm9tQ2hhckNvZGUuYXBwbHkobnVsbCwgY2h1bmspKTsKICAgICAgeWllbGQgewogICAgICAgIHJlc3BvbnNlOiB7CiAgICAgICAgICBhY3Rpb246ICdhcHBlbmQnLAogICAgICAgICAgZmlsZTogZmlsZS5uYW1lLAogICAgICAgICAgZGF0YTogYmFzZTY0LAogICAgICAgIH0sCiAgICAgIH07CiAgICAgIHBlcmNlbnQudGV4dENvbnRlbnQgPQogICAgICAgICAgYCR7TWF0aC5yb3VuZCgocG9zaXRpb24gLyBmaWxlRGF0YS5ieXRlTGVuZ3RoKSAqIDEwMCl9JSBkb25lYDsKICAgIH0KICB9CgogIC8vIEFsbCBkb25lLgogIHlpZWxkIHsKICAgIHJlc3BvbnNlOiB7CiAgICAgIGFjdGlvbjogJ2NvbXBsZXRlJywKICAgIH0KICB9Owp9CgpzY29wZS5nb29nbGUgPSBzY29wZS5nb29nbGUgfHwge307CnNjb3BlLmdvb2dsZS5jb2xhYiA9IHNjb3BlLmdvb2dsZS5jb2xhYiB8fCB7fTsKc2NvcGUuZ29vZ2xlLmNvbGFiLl9maWxlcyA9IHsKICBfdXBsb2FkRmlsZXMsCiAgX3VwbG9hZEZpbGVzQ29udGludWUsCn07Cn0pKHNlbGYpOwo=",
              "ok": true,
              "headers": [
                [
                  "content-type",
                  "application/javascript"
                ]
              ],
              "status": 200,
              "status_text": ""
            }
          },
          "base_uri": "https://localhost:8080/",
          "height": 270
        }
      },
      "source": [
        "from google.colab import files\n",
        "files.upload()\n",
        "from google.colab import files\n",
        "files.upload()\n",
        "from google.colab import files\n",
        "files.upload()\n",
        "from google.colab import files\n",
        "files.upload()"
      ],
      "execution_count": 6,
      "outputs": [
        {
          "output_type": "display_data",
          "data": {
            "text/html": [
              "\n",
              "     <input type=\"file\" id=\"files-10b15c89-f4a0-4aea-9bb0-d63cf152533c\" name=\"files[]\" multiple disabled />\n",
              "     <output id=\"result-10b15c89-f4a0-4aea-9bb0-d63cf152533c\">\n",
              "      Upload widget is only available when the cell has been executed in the\n",
              "      current browser session. Please rerun this cell to enable.\n",
              "      </output>\n",
              "      <script src=\"/nbextensions/google.colab/files.js\"></script> "
            ],
            "text/plain": [
              "<IPython.core.display.HTML object>"
            ]
          },
          "metadata": {
            "tags": []
          }
        },
        {
          "output_type": "stream",
          "text": [
            "Saving HospitalBedsIndia.csv to HospitalBedsIndia.csv\n"
          ],
          "name": "stdout"
        },
        {
          "output_type": "display_data",
          "data": {
            "text/html": [
              "\n",
              "     <input type=\"file\" id=\"files-c07d8f36-a0df-44ef-9a63-c28fafb97352\" name=\"files[]\" multiple disabled />\n",
              "     <output id=\"result-c07d8f36-a0df-44ef-9a63-c28fafb97352\">\n",
              "      Upload widget is only available when the cell has been executed in the\n",
              "      current browser session. Please rerun this cell to enable.\n",
              "      </output>\n",
              "      <script src=\"/nbextensions/google.colab/files.js\"></script> "
            ],
            "text/plain": [
              "<IPython.core.display.HTML object>"
            ]
          },
          "metadata": {
            "tags": []
          }
        },
        {
          "output_type": "stream",
          "text": [
            "Saving ICMRTestingDetails.csv to ICMRTestingDetails.csv\n"
          ],
          "name": "stdout"
        },
        {
          "output_type": "display_data",
          "data": {
            "text/html": [
              "\n",
              "     <input type=\"file\" id=\"files-0c09d76a-e14e-486b-a90e-9cc25967b74b\" name=\"files[]\" multiple disabled />\n",
              "     <output id=\"result-0c09d76a-e14e-486b-a90e-9cc25967b74b\">\n",
              "      Upload widget is only available when the cell has been executed in the\n",
              "      current browser session. Please rerun this cell to enable.\n",
              "      </output>\n",
              "      <script src=\"/nbextensions/google.colab/files.js\"></script> "
            ],
            "text/plain": [
              "<IPython.core.display.HTML object>"
            ]
          },
          "metadata": {
            "tags": []
          }
        },
        {
          "output_type": "stream",
          "text": [
            "Saving IndividualDetails.csv to IndividualDetails.csv\n"
          ],
          "name": "stdout"
        },
        {
          "output_type": "display_data",
          "data": {
            "text/html": [
              "\n",
              "     <input type=\"file\" id=\"files-9be4556e-e019-4640-b523-231b7559ef5d\" name=\"files[]\" multiple disabled />\n",
              "     <output id=\"result-9be4556e-e019-4640-b523-231b7559ef5d\">\n",
              "      Upload widget is only available when the cell has been executed in the\n",
              "      current browser session. Please rerun this cell to enable.\n",
              "      </output>\n",
              "      <script src=\"/nbextensions/google.colab/files.js\"></script> "
            ],
            "text/plain": [
              "<IPython.core.display.HTML object>"
            ]
          },
          "metadata": {
            "tags": []
          }
        },
        {
          "output_type": "stream",
          "text": [
            "Saving population_india_census2011.csv to population_india_census2011.csv\n"
          ],
          "name": "stdout"
        },
        {
          "output_type": "execute_result",
          "data": {
            "text/plain": [
              "{'population_india_census2011.csv': b'\\xef\\xbb\\xbfSno,State / Union Territory,Population,Rural population,Urban population,Area,Density,Gender Ratio\\r\\n1,Uttar Pradesh,199812341,155317278,44495063,\"240,928\\xc2\\xa0km2\\xc2\\xa0(93,023\\xc2\\xa0sq\\xc2\\xa0mi)\",\"828/km2\\xc2\\xa0(2,140/sq\\xc2\\xa0mi)\",912\\r\\n2,Maharashtra,112374333,61556074,50818259,\"307,713\\xc2\\xa0km2\\xc2\\xa0(118,809\\xc2\\xa0sq\\xc2\\xa0mi)\",365/km2\\xc2\\xa0(950/sq\\xc2\\xa0mi),929\\r\\n3,Bihar,104099452,92341436,11758016,\"94,163\\xc2\\xa0km2\\xc2\\xa0(36,357\\xc2\\xa0sq\\xc2\\xa0mi)\",\"1,102/km2\\xc2\\xa0(2,850/sq\\xc2\\xa0mi)\",918\\r\\n4,West Bengal,91276115,62183113,29093002,\"88,752\\xc2\\xa0km2\\xc2\\xa0(34,267\\xc2\\xa0sq\\xc2\\xa0mi)\",\"1,029/km2\\xc2\\xa0(2,670/sq\\xc2\\xa0mi)\",953\\r\\n5,Madhya Pradesh,72626809,52557404,20069405,\"308,245\\xc2\\xa0km2\\xc2\\xa0(119,014\\xc2\\xa0sq\\xc2\\xa0mi)\",236/km2\\xc2\\xa0(610/sq\\xc2\\xa0mi),931\\r\\n6,Tamil Nadu,72147030,37229590,34917440,\"130,058\\xc2\\xa0km2\\xc2\\xa0(50,216\\xc2\\xa0sq\\xc2\\xa0mi)\",\"555/km2\\xc2\\xa0(1,440/sq\\xc2\\xa0mi)\",996\\r\\n7,Rajasthan,68548437,51500352,17048085,\"342,239\\xc2\\xa0km2\\xc2\\xa0(132,139\\xc2\\xa0sq\\xc2\\xa0mi)\",201/km2\\xc2\\xa0(520/sq\\xc2\\xa0mi),928\\r\\n8,Karnataka,61095297,37469335,23625962,\"191,791\\xc2\\xa0km2\\xc2\\xa0(74,051\\xc2\\xa0sq\\xc2\\xa0mi)\",319/km2\\xc2\\xa0(830/sq\\xc2\\xa0mi),973\\r\\n9,Gujarat,60439692,34694609,25745083,\"196,024\\xc2\\xa0km2\\xc2\\xa0(75,685\\xc2\\xa0sq\\xc2\\xa0mi)\",308/km2\\xc2\\xa0(800/sq\\xc2\\xa0mi),919\\r\\n10,Andhra Pradesh,49577103,34966693,14610410,\"162,968\\xc2\\xa0km2\\xc2\\xa0(62,922\\xc2\\xa0sq\\xc2\\xa0mi)\",303/km2\\xc2\\xa0(780/sq\\xc2\\xa0mi),993\\r\\n11,Odisha,41974218,34970562,7003656,\"155,707\\xc2\\xa0km2\\xc2\\xa0(60,119\\xc2\\xa0sq\\xc2\\xa0mi)\",269/km2\\xc2\\xa0(700/sq\\xc2\\xa0mi),979\\r\\n12,Telengana,35003674,21395009,13608665,\"112,077\\xc2\\xa0km2\\xc2\\xa0(43,273\\xc2\\xa0sq\\xc2\\xa0mi)\",312/km2\\xc2\\xa0(810/sq\\xc2\\xa0mi),988\\r\\n13,Kerala,33406061,17471135,15934926,\"38,863\\xc2\\xa0km2\\xc2\\xa0(15,005\\xc2\\xa0sq\\xc2\\xa0mi)\",\"859/km2\\xc2\\xa0(2,220/sq\\xc2\\xa0mi)\",1084\\r\\n14,Jharkhand,32988134,25055073,7933061,\"79,714\\xc2\\xa0km2\\xc2\\xa0(30,778\\xc2\\xa0sq\\xc2\\xa0mi)\",\"414/km2\\xc2\\xa0(1,070/sq\\xc2\\xa0mi)\",948\\r\\n15,Assam,31205576,26807034,4398542,\"78,438\\xc2\\xa0km2\\xc2\\xa0(30,285\\xc2\\xa0sq\\xc2\\xa0mi)\",\"397/km2\\xc2\\xa0(1,030/sq\\xc2\\xa0mi)\",954\\r\\n16,Punjab,27743338,17344192,10399146,\"50,362\\xc2\\xa0km2\\xc2\\xa0(19,445\\xc2\\xa0sq\\xc2\\xa0mi)\",\"550/km2\\xc2\\xa0(1,400/sq\\xc2\\xa0mi)\",895\\r\\n17,Chhattisgarh,25545198,19607961,5937237,\"135,191\\xc2\\xa0km2\\xc2\\xa0(52,198\\xc2\\xa0sq\\xc2\\xa0mi)\",189/km2\\xc2\\xa0(490/sq\\xc2\\xa0mi),991\\r\\n18,Haryana,25351462,16509359,8842103,\"44,212\\xc2\\xa0km2\\xc2\\xa0(17,070\\xc2\\xa0sq\\xc2\\xa0mi)\",\"573/km2\\xc2\\xa0(1,480/sq\\xc2\\xa0mi)\",879\\r\\n19,Uttarakhand,10086292,7036954,3049338,\"53,483\\xc2\\xa0km2\\xc2\\xa0(20,650\\xc2\\xa0sq\\xc2\\xa0mi)\",189/km2\\xc2\\xa0(490/sq\\xc2\\xa0mi),963\\r\\n20,Himachal Pradesh,6864602,6176050,688552,\"55,673\\xc2\\xa0km2\\xc2\\xa0(21,495\\xc2\\xa0sq\\xc2\\xa0mi)\",123/km2\\xc2\\xa0(320/sq\\xc2\\xa0mi),972\\r\\n21,Tripura,3673917,2712464,961453,\"10,486\\xc2\\xa0km2\\xc2\\xa0(4,049\\xc2\\xa0sq\\xc2\\xa0mi)\",350/km2\\xc2\\xa0(910/sq\\xc2\\xa0mi),960\\r\\n22,Meghalaya,2966889,2371439,595450,\"22,429\\xc2\\xa0km2\\xc2\\xa0(8,660\\xc2\\xa0sq\\xc2\\xa0mi)\",132/km2\\xc2\\xa0(340/sq\\xc2\\xa0mi),989\\r\\n23,Manipur,2570390,1793875,776515,\"22,327\\xc2\\xa0km2\\xc2\\xa0(8,621\\xc2\\xa0sq\\xc2\\xa0mi)\",122/km2\\xc2\\xa0(320/sq\\xc2\\xa0mi),992\\r\\n24,Nagaland,1978502,1407536,570966,\"16,579\\xc2\\xa0km2\\xc2\\xa0(6,401\\xc2\\xa0sq\\xc2\\xa0mi)\",119/km2\\xc2\\xa0(310/sq\\xc2\\xa0mi),931\\r\\n25,Goa,1458545,551731,906814,\"3,702\\xc2\\xa0km2\\xc2\\xa0(1,429\\xc2\\xa0sq\\xc2\\xa0mi)\",\"394/km2\\xc2\\xa0(1,020/sq\\xc2\\xa0mi)\",973\\r\\n26,Arunachal Pradesh,1383727,1066358,317369,\"83,743\\xc2\\xa0km2\\xc2\\xa0(32,333\\xc2\\xa0sq\\xc2\\xa0mi)\",17/km2\\xc2\\xa0(44/sq\\xc2\\xa0mi),938\\r\\n27,Mizoram,1097206,525435,571771,\"21,081\\xc2\\xa0km2\\xc2\\xa0(8,139\\xc2\\xa0sq\\xc2\\xa0mi)\",52/km2\\xc2\\xa0(130/sq\\xc2\\xa0mi),976\\r\\n28,Sikkim,610577,456999,153578,\"7,096\\xc2\\xa0km2\\xc2\\xa0(2,740\\xc2\\xa0sq\\xc2\\xa0mi)\",86/km2\\xc2\\xa0(220/sq\\xc2\\xa0mi),890\\r\\n29,Delhi,16787941,419042,16368899,\"1,484\\xc2\\xa0km2\\xc2\\xa0(573\\xc2\\xa0sq\\xc2\\xa0mi)\",\"11,297/km2\\xc2\\xa0(29,260/sq\\xc2\\xa0mi)\",868\\r\\n30,Jammu and Kashmir,12267032,9064220,3202812,\"125,535\\xc2\\xa0km2\\xc2\\xa0(48,469\\xc2\\xa0sq\\xc2\\xa0mi)\",98/km2\\xc2\\xa0(250/sq\\xc2\\xa0mi),890\\r\\n31,Puducherry,1247953,395200,852753,479\\xc2\\xa0km2\\xc2\\xa0(185\\xc2\\xa0sq\\xc2\\xa0mi),\"2,598/km2\\xc2\\xa0(6,730/sq\\xc2\\xa0mi)\",1037\\r\\n32,Chandigarh,1055450,28991,1026459,114\\xc2\\xa0km2\\xc2\\xa0(44\\xc2\\xa0sq\\xc2\\xa0mi),\"9,252/km2\\xc2\\xa0(23,960/sq\\xc2\\xa0mi)\",818\\r\\n33,Dadra and Nagar Haveli and Daman and Diu,585764,243510,342254,603\\xc2\\xa0km2\\xc2\\xa0(233\\xc2\\xa0sq\\xc2\\xa0mi),\"970/km2\\xc2\\xa0(2,500/sq\\xc2\\xa0mi)\",711\\r\\n34,Andaman and Nicobar Islands,380581,237093,143488,\"8,249\\xc2\\xa0km2\\xc2\\xa0(3,185\\xc2\\xa0sq\\xc2\\xa0mi)\",46/km2\\xc2\\xa0(120/sq\\xc2\\xa0mi),876\\r\\n35,Ladakh,274000,43840,230160,\"96,701\\xc2\\xa0km2\\xc2\\xa0(37,336\\xc2\\xa0sq\\xc2\\xa0mi)\",2.8/km2\\xc2\\xa0(7.3/sq\\xc2\\xa0mi),853\\r\\n36,Lakshadweep,64473,14141,50332,32\\xc2\\xa0km2\\xc2\\xa0(12\\xc2\\xa0sq\\xc2\\xa0mi),\"2,013/km2\\xc2\\xa0(5,210/sq\\xc2\\xa0mi)\",946'}"
            ]
          },
          "metadata": {
            "tags": []
          },
          "execution_count": 6
        }
      ]
    },
    {
      "cell_type": "code",
      "metadata": {
        "id": "1WUZO5f_IWgl",
        "colab_type": "code",
        "colab": {}
      },
      "source": [
        "beds = pd.read_csv('HospitalBedsIndia.csv')\n",
        "ICMRTestingDetails = pd.read_csv('ICMRTestingDetails.csv')\n",
        "idetails = pd.read_csv('IndividualDetails.csv')\n",
        "population = pd.read_csv('population_india_census2011.csv')"
      ],
      "execution_count": 0,
      "outputs": []
    },
    {
      "cell_type": "code",
      "metadata": {
        "id": "OkyT96NEIWrK",
        "colab_type": "code",
        "colab": {}
      },
      "source": [
        "#from pandas_profiling import ProfileReport\n",
        "#prof= ProfileReport(df)"
      ],
      "execution_count": 0,
      "outputs": []
    },
    {
      "cell_type": "code",
      "metadata": {
        "id": "Fj0lzBNuswPI",
        "colab_type": "code",
        "colab": {}
      },
      "source": [
        "Beds = beds.drop(columns='Unnamed: 12')\n",
        "Beds.drop(columns='Unnamed: 13',inplace=True)"
      ],
      "execution_count": 0,
      "outputs": []
    },
    {
      "cell_type": "code",
      "metadata": {
        "id": "ptGBd7LOswSv",
        "colab_type": "code",
        "colab": {}
      },
      "source": [
        "ICMRTestingDetails.drop(columns='Source',inplace=True)\n",
        "#ICMRTestingDetails.head()"
      ],
      "execution_count": 0,
      "outputs": []
    },
    {
      "cell_type": "code",
      "metadata": {
        "id": "5jlZ_JqKQdh1",
        "colab_type": "code",
        "colab": {}
      },
      "source": [
        "ICMRTestingDetails.sort_values(by='DateTime',ascending=True,inplace=True)"
      ],
      "execution_count": 0,
      "outputs": []
    },
    {
      "cell_type": "code",
      "metadata": {
        "id": "75SY4E11Q4e5",
        "colab_type": "code",
        "colab": {}
      },
      "source": [
        "ICMRTestingDetails.drop(columns='TotalIndividualsTested',inplace=True)"
      ],
      "execution_count": 0,
      "outputs": []
    },
    {
      "cell_type": "code",
      "metadata": {
        "id": "-xqQsinnROTq",
        "colab_type": "code",
        "outputId": "888b5bfe-bfae-4f56-fb5a-1e669186a629",
        "colab": {
          "base_uri": "https://localhost:8080/",
          "height": 204
        }
      },
      "source": [
        "ICMRTestingDetails.head()"
      ],
      "execution_count": 13,
      "outputs": [
        {
          "output_type": "execute_result",
          "data": {
            "text/html": [
              "<div>\n",
              "<style scoped>\n",
              "    .dataframe tbody tr th:only-of-type {\n",
              "        vertical-align: middle;\n",
              "    }\n",
              "\n",
              "    .dataframe tbody tr th {\n",
              "        vertical-align: top;\n",
              "    }\n",
              "\n",
              "    .dataframe thead th {\n",
              "        text-align: right;\n",
              "    }\n",
              "</style>\n",
              "<table border=\"1\" class=\"dataframe\">\n",
              "  <thead>\n",
              "    <tr style=\"text-align: right;\">\n",
              "      <th></th>\n",
              "      <th>SNo</th>\n",
              "      <th>DateTime</th>\n",
              "      <th>TotalSamplesTested</th>\n",
              "      <th>TotalPositiveCases</th>\n",
              "    </tr>\n",
              "  </thead>\n",
              "  <tbody>\n",
              "    <tr>\n",
              "      <th>0</th>\n",
              "      <td>1</td>\n",
              "      <td>13/03/20 0:00</td>\n",
              "      <td>6500</td>\n",
              "      <td>78</td>\n",
              "    </tr>\n",
              "    <tr>\n",
              "      <th>1</th>\n",
              "      <td>2</td>\n",
              "      <td>18/03/20 18:00</td>\n",
              "      <td>13125</td>\n",
              "      <td>150</td>\n",
              "    </tr>\n",
              "    <tr>\n",
              "      <th>2</th>\n",
              "      <td>3</td>\n",
              "      <td>19/03/20 10:00</td>\n",
              "      <td>13316</td>\n",
              "      <td>168</td>\n",
              "    </tr>\n",
              "    <tr>\n",
              "      <th>3</th>\n",
              "      <td>4</td>\n",
              "      <td>19/03/20 18:00</td>\n",
              "      <td>14175</td>\n",
              "      <td>182</td>\n",
              "    </tr>\n",
              "    <tr>\n",
              "      <th>4</th>\n",
              "      <td>5</td>\n",
              "      <td>20/03/20 10:00</td>\n",
              "      <td>14376</td>\n",
              "      <td>206</td>\n",
              "    </tr>\n",
              "  </tbody>\n",
              "</table>\n",
              "</div>"
            ],
            "text/plain": [
              "   SNo        DateTime  TotalSamplesTested  TotalPositiveCases\n",
              "0    1   13/03/20 0:00                6500                  78\n",
              "1    2  18/03/20 18:00               13125                 150\n",
              "2    3  19/03/20 10:00               13316                 168\n",
              "3    4  19/03/20 18:00               14175                 182\n",
              "4    5  20/03/20 10:00               14376                 206"
            ]
          },
          "metadata": {
            "tags": []
          },
          "execution_count": 13
        }
      ]
    },
    {
      "cell_type": "code",
      "metadata": {
        "id": "XF1RiqNBswWv",
        "colab_type": "code",
        "colab": {}
      },
      "source": [
        "idetails.rename(columns={'notes' : 'Travel History'},inplace=True)\n"
      ],
      "execution_count": 0,
      "outputs": []
    },
    {
      "cell_type": "code",
      "metadata": {
        "id": "Fe6h9lpSU9E-",
        "colab_type": "code",
        "colab": {}
      },
      "source": [
        "idetails.dropna(axis=0,inplace=True)"
      ],
      "execution_count": 0,
      "outputs": []
    },
    {
      "cell_type": "code",
      "metadata": {
        "id": "BCifdvvFUuDI",
        "colab_type": "code",
        "colab": {}
      },
      "source": [
        "idetails.drop(columns=['detected_city','detected_district'],inplace=True)\n"
      ],
      "execution_count": 0,
      "outputs": []
    },
    {
      "cell_type": "code",
      "metadata": {
        "id": "qGvLlE-uVji8",
        "colab_type": "code",
        "outputId": "8c755eac-a837-4d74-ce0a-a1301ba327d2",
        "colab": {
          "base_uri": "https://localhost:8080/",
          "height": 238
        }
      },
      "source": [
        "idetails.drop(columns=['id'],inplace=True)\n",
        "idetails.head()"
      ],
      "execution_count": 17,
      "outputs": [
        {
          "output_type": "execute_result",
          "data": {
            "text/html": [
              "<div>\n",
              "<style scoped>\n",
              "    .dataframe tbody tr th:only-of-type {\n",
              "        vertical-align: middle;\n",
              "    }\n",
              "\n",
              "    .dataframe tbody tr th {\n",
              "        vertical-align: top;\n",
              "    }\n",
              "\n",
              "    .dataframe thead th {\n",
              "        text-align: right;\n",
              "    }\n",
              "</style>\n",
              "<table border=\"1\" class=\"dataframe\">\n",
              "  <thead>\n",
              "    <tr style=\"text-align: right;\">\n",
              "      <th></th>\n",
              "      <th>government_id</th>\n",
              "      <th>diagnosed_date</th>\n",
              "      <th>age</th>\n",
              "      <th>gender</th>\n",
              "      <th>detected_state</th>\n",
              "      <th>nationality</th>\n",
              "      <th>current_status</th>\n",
              "      <th>status_change_date</th>\n",
              "      <th>Travel History</th>\n",
              "    </tr>\n",
              "  </thead>\n",
              "  <tbody>\n",
              "    <tr>\n",
              "      <th>0</th>\n",
              "      <td>KL-TS-P1</td>\n",
              "      <td>30/01/2020</td>\n",
              "      <td>20</td>\n",
              "      <td>F</td>\n",
              "      <td>Kerala</td>\n",
              "      <td>India</td>\n",
              "      <td>Recovered</td>\n",
              "      <td>14/02/2020</td>\n",
              "      <td>Travelled from Wuhan</td>\n",
              "    </tr>\n",
              "    <tr>\n",
              "      <th>3</th>\n",
              "      <td>DL-P1</td>\n",
              "      <td>02/03/2020</td>\n",
              "      <td>45</td>\n",
              "      <td>M</td>\n",
              "      <td>Delhi</td>\n",
              "      <td>India</td>\n",
              "      <td>Recovered</td>\n",
              "      <td>15/03/2020</td>\n",
              "      <td>Travelled from Austria, Italy</td>\n",
              "    </tr>\n",
              "    <tr>\n",
              "      <th>28</th>\n",
              "      <td>DL-P2</td>\n",
              "      <td>05/03/2020</td>\n",
              "      <td>27</td>\n",
              "      <td>M</td>\n",
              "      <td>Delhi</td>\n",
              "      <td>India</td>\n",
              "      <td>Hospitalized</td>\n",
              "      <td>05/03/2020</td>\n",
              "      <td>Travelled from Italy PayTm Emp,</td>\n",
              "    </tr>\n",
              "    <tr>\n",
              "      <th>33</th>\n",
              "      <td>TN-P1</td>\n",
              "      <td>07/03/2020</td>\n",
              "      <td>45</td>\n",
              "      <td>M</td>\n",
              "      <td>Tamil Nadu</td>\n",
              "      <td>India</td>\n",
              "      <td>Recovered</td>\n",
              "      <td>07/03/2020</td>\n",
              "      <td>Travelled from Oman to Chennai Airport on 28.0...</td>\n",
              "    </tr>\n",
              "    <tr>\n",
              "      <th>34</th>\n",
              "      <td>KL-PT-P1</td>\n",
              "      <td>08/03/2020</td>\n",
              "      <td>24</td>\n",
              "      <td>M</td>\n",
              "      <td>Kerala</td>\n",
              "      <td>India</td>\n",
              "      <td>Hospitalized</td>\n",
              "      <td>08/03/2020</td>\n",
              "      <td>Travelled from Italy on 29/02/2020 through Doha</td>\n",
              "    </tr>\n",
              "  </tbody>\n",
              "</table>\n",
              "</div>"
            ],
            "text/plain": [
              "   government_id  ...                                     Travel History\n",
              "0       KL-TS-P1  ...                               Travelled from Wuhan\n",
              "3          DL-P1  ...                      Travelled from Austria, Italy\n",
              "28         DL-P2  ...                   Travelled from Italy PayTm Emp, \n",
              "33         TN-P1  ...  Travelled from Oman to Chennai Airport on 28.0...\n",
              "34      KL-PT-P1  ...    Travelled from Italy on 29/02/2020 through Doha\n",
              "\n",
              "[5 rows x 9 columns]"
            ]
          },
          "metadata": {
            "tags": []
          },
          "execution_count": 17
        }
      ]
    },
    {
      "cell_type": "code",
      "metadata": {
        "id": "rhn39rKbswal",
        "colab_type": "code",
        "outputId": "02cffb08-eb6b-476a-c10f-2d6ccbe8e14f",
        "colab": {
          "base_uri": "https://localhost:8080/",
          "height": 204
        }
      },
      "source": [
        "population.rename(columns={'State / Union Territory':'State'},inplace=True)\n",
        "population.drop(columns=['Sno','Area','Density','Gender Ratio'],inplace=True)\n",
        "population.head()"
      ],
      "execution_count": 18,
      "outputs": [
        {
          "output_type": "execute_result",
          "data": {
            "text/html": [
              "<div>\n",
              "<style scoped>\n",
              "    .dataframe tbody tr th:only-of-type {\n",
              "        vertical-align: middle;\n",
              "    }\n",
              "\n",
              "    .dataframe tbody tr th {\n",
              "        vertical-align: top;\n",
              "    }\n",
              "\n",
              "    .dataframe thead th {\n",
              "        text-align: right;\n",
              "    }\n",
              "</style>\n",
              "<table border=\"1\" class=\"dataframe\">\n",
              "  <thead>\n",
              "    <tr style=\"text-align: right;\">\n",
              "      <th></th>\n",
              "      <th>State</th>\n",
              "      <th>Population</th>\n",
              "      <th>Rural population</th>\n",
              "      <th>Urban population</th>\n",
              "    </tr>\n",
              "  </thead>\n",
              "  <tbody>\n",
              "    <tr>\n",
              "      <th>0</th>\n",
              "      <td>Uttar Pradesh</td>\n",
              "      <td>199812341</td>\n",
              "      <td>155317278</td>\n",
              "      <td>44495063</td>\n",
              "    </tr>\n",
              "    <tr>\n",
              "      <th>1</th>\n",
              "      <td>Maharashtra</td>\n",
              "      <td>112374333</td>\n",
              "      <td>61556074</td>\n",
              "      <td>50818259</td>\n",
              "    </tr>\n",
              "    <tr>\n",
              "      <th>2</th>\n",
              "      <td>Bihar</td>\n",
              "      <td>104099452</td>\n",
              "      <td>92341436</td>\n",
              "      <td>11758016</td>\n",
              "    </tr>\n",
              "    <tr>\n",
              "      <th>3</th>\n",
              "      <td>West Bengal</td>\n",
              "      <td>91276115</td>\n",
              "      <td>62183113</td>\n",
              "      <td>29093002</td>\n",
              "    </tr>\n",
              "    <tr>\n",
              "      <th>4</th>\n",
              "      <td>Madhya Pradesh</td>\n",
              "      <td>72626809</td>\n",
              "      <td>52557404</td>\n",
              "      <td>20069405</td>\n",
              "    </tr>\n",
              "  </tbody>\n",
              "</table>\n",
              "</div>"
            ],
            "text/plain": [
              "            State  Population  Rural population  Urban population\n",
              "0   Uttar Pradesh   199812341         155317278          44495063\n",
              "1     Maharashtra   112374333          61556074          50818259\n",
              "2           Bihar   104099452          92341436          11758016\n",
              "3     West Bengal    91276115          62183113          29093002\n",
              "4  Madhya Pradesh    72626809          52557404          20069405"
            ]
          },
          "metadata": {
            "tags": []
          },
          "execution_count": 18
        }
      ]
    },
    {
      "cell_type": "code",
      "metadata": {
        "id": "sQvChZBIswi6",
        "colab_type": "code",
        "colab": {}
      },
      "source": [
        "df['Confirmed Total'] = df['ConfirmedForeignNational'] + df['ConfirmedIndianNational']"
      ],
      "execution_count": 0,
      "outputs": []
    },
    {
      "cell_type": "code",
      "metadata": {
        "id": "IbYkwmyiswlV",
        "colab_type": "code",
        "colab": {}
      },
      "source": [
        "df.drop(columns=['Sno','Time'],inplace=True)"
      ],
      "execution_count": 0,
      "outputs": []
    },
    {
      "cell_type": "code",
      "metadata": {
        "id": "6TzBaEjkswqt",
        "colab_type": "code",
        "outputId": "3430e1bd-f2fb-4d7e-b35f-9a34cab1f736",
        "colab": {
          "base_uri": "https://localhost:8080/",
          "height": 204
        }
      },
      "source": [
        "df.rename(columns={'State/UnionTerritory':'State'},inplace=True)\n",
        "df.head()"
      ],
      "execution_count": 21,
      "outputs": [
        {
          "output_type": "execute_result",
          "data": {
            "text/html": [
              "<div>\n",
              "<style scoped>\n",
              "    .dataframe tbody tr th:only-of-type {\n",
              "        vertical-align: middle;\n",
              "    }\n",
              "\n",
              "    .dataframe tbody tr th {\n",
              "        vertical-align: top;\n",
              "    }\n",
              "\n",
              "    .dataframe thead th {\n",
              "        text-align: right;\n",
              "    }\n",
              "</style>\n",
              "<table border=\"1\" class=\"dataframe\">\n",
              "  <thead>\n",
              "    <tr style=\"text-align: right;\">\n",
              "      <th></th>\n",
              "      <th>Date</th>\n",
              "      <th>State</th>\n",
              "      <th>ConfirmedIndianNational</th>\n",
              "      <th>ConfirmedForeignNational</th>\n",
              "      <th>Cured</th>\n",
              "      <th>Deaths</th>\n",
              "      <th>Confirmed</th>\n",
              "      <th>Confirmed Total</th>\n",
              "    </tr>\n",
              "  </thead>\n",
              "  <tbody>\n",
              "    <tr>\n",
              "      <th>0</th>\n",
              "      <td>30/01/20</td>\n",
              "      <td>Kerala</td>\n",
              "      <td>1</td>\n",
              "      <td>0</td>\n",
              "      <td>0</td>\n",
              "      <td>0</td>\n",
              "      <td>1</td>\n",
              "      <td>01</td>\n",
              "    </tr>\n",
              "    <tr>\n",
              "      <th>1</th>\n",
              "      <td>31/01/20</td>\n",
              "      <td>Kerala</td>\n",
              "      <td>1</td>\n",
              "      <td>0</td>\n",
              "      <td>0</td>\n",
              "      <td>0</td>\n",
              "      <td>1</td>\n",
              "      <td>01</td>\n",
              "    </tr>\n",
              "    <tr>\n",
              "      <th>2</th>\n",
              "      <td>01/02/20</td>\n",
              "      <td>Kerala</td>\n",
              "      <td>2</td>\n",
              "      <td>0</td>\n",
              "      <td>0</td>\n",
              "      <td>0</td>\n",
              "      <td>2</td>\n",
              "      <td>02</td>\n",
              "    </tr>\n",
              "    <tr>\n",
              "      <th>3</th>\n",
              "      <td>02/02/20</td>\n",
              "      <td>Kerala</td>\n",
              "      <td>3</td>\n",
              "      <td>0</td>\n",
              "      <td>0</td>\n",
              "      <td>0</td>\n",
              "      <td>3</td>\n",
              "      <td>03</td>\n",
              "    </tr>\n",
              "    <tr>\n",
              "      <th>4</th>\n",
              "      <td>03/02/20</td>\n",
              "      <td>Kerala</td>\n",
              "      <td>3</td>\n",
              "      <td>0</td>\n",
              "      <td>0</td>\n",
              "      <td>0</td>\n",
              "      <td>3</td>\n",
              "      <td>03</td>\n",
              "    </tr>\n",
              "  </tbody>\n",
              "</table>\n",
              "</div>"
            ],
            "text/plain": [
              "       Date   State ConfirmedIndianNational  ... Deaths  Confirmed  Confirmed Total\n",
              "0  30/01/20  Kerala                       1  ...      0          1               01\n",
              "1  31/01/20  Kerala                       1  ...      0          1               01\n",
              "2  01/02/20  Kerala                       2  ...      0          2               02\n",
              "3  02/02/20  Kerala                       3  ...      0          3               03\n",
              "4  03/02/20  Kerala                       3  ...      0          3               03\n",
              "\n",
              "[5 rows x 8 columns]"
            ]
          },
          "metadata": {
            "tags": []
          },
          "execution_count": 21
        }
      ]
    },
    {
      "cell_type": "code",
      "metadata": {
        "id": "VjA0iTqxYrPk",
        "colab_type": "code",
        "colab": {}
      },
      "source": [
        "df.sort_values(by='Confirmed',ascending=False,inplace=True)\n"
      ],
      "execution_count": 0,
      "outputs": []
    },
    {
      "cell_type": "code",
      "metadata": {
        "id": "PwMpH-XfmrW0",
        "colab_type": "code",
        "colab": {}
      },
      "source": [
        "Recovered= idetails[idetails['current_status']=='Recovered']\n"
      ],
      "execution_count": 0,
      "outputs": []
    },
    {
      "cell_type": "code",
      "metadata": {
        "id": "UeXb7s_pnefn",
        "colab_type": "code",
        "outputId": "9fccdec3-37a0-4e63-f44a-679534065cd9",
        "colab": {
          "base_uri": "https://localhost:8080/",
          "height": 34
        }
      },
      "source": [
        "len(Recovered)"
      ],
      "execution_count": 24,
      "outputs": [
        {
          "output_type": "execute_result",
          "data": {
            "text/plain": [
              "8"
            ]
          },
          "metadata": {
            "tags": []
          },
          "execution_count": 24
        }
      ]
    },
    {
      "cell_type": "code",
      "metadata": {
        "id": "Nzl1uuJXmZW1",
        "colab_type": "code",
        "colab": {}
      },
      "source": [
        "df['Active Cases'] = df['Confirmed'] - df['Deaths'] - df['Cured']"
      ],
      "execution_count": 0,
      "outputs": []
    },
    {
      "cell_type": "code",
      "metadata": {
        "id": "evTqSyoxZVbx",
        "colab_type": "code",
        "outputId": "7fac2c2a-42ae-4fd6-845a-34363f5a9515",
        "colab": {
          "base_uri": "https://localhost:8080/",
          "height": 204
        }
      },
      "source": [
        "df.head()"
      ],
      "execution_count": 26,
      "outputs": [
        {
          "output_type": "execute_result",
          "data": {
            "text/html": [
              "<div>\n",
              "<style scoped>\n",
              "    .dataframe tbody tr th:only-of-type {\n",
              "        vertical-align: middle;\n",
              "    }\n",
              "\n",
              "    .dataframe tbody tr th {\n",
              "        vertical-align: top;\n",
              "    }\n",
              "\n",
              "    .dataframe thead th {\n",
              "        text-align: right;\n",
              "    }\n",
              "</style>\n",
              "<table border=\"1\" class=\"dataframe\">\n",
              "  <thead>\n",
              "    <tr style=\"text-align: right;\">\n",
              "      <th></th>\n",
              "      <th>Date</th>\n",
              "      <th>State</th>\n",
              "      <th>ConfirmedIndianNational</th>\n",
              "      <th>ConfirmedForeignNational</th>\n",
              "      <th>Cured</th>\n",
              "      <th>Deaths</th>\n",
              "      <th>Confirmed</th>\n",
              "      <th>Confirmed Total</th>\n",
              "      <th>Active Cases</th>\n",
              "    </tr>\n",
              "  </thead>\n",
              "  <tbody>\n",
              "    <tr>\n",
              "      <th>485</th>\n",
              "      <td>30/03/20</td>\n",
              "      <td>Kerala</td>\n",
              "      <td>-</td>\n",
              "      <td>-</td>\n",
              "      <td>19</td>\n",
              "      <td>1</td>\n",
              "      <td>202</td>\n",
              "      <td>--</td>\n",
              "      <td>182</td>\n",
              "    </tr>\n",
              "    <tr>\n",
              "      <th>488</th>\n",
              "      <td>30/03/20</td>\n",
              "      <td>Maharashtra</td>\n",
              "      <td>-</td>\n",
              "      <td>-</td>\n",
              "      <td>25</td>\n",
              "      <td>8</td>\n",
              "      <td>198</td>\n",
              "      <td>--</td>\n",
              "      <td>165</td>\n",
              "    </tr>\n",
              "    <tr>\n",
              "      <th>461</th>\n",
              "      <td>29/03/20</td>\n",
              "      <td>Maharashtra</td>\n",
              "      <td>-</td>\n",
              "      <td>-</td>\n",
              "      <td>25</td>\n",
              "      <td>6</td>\n",
              "      <td>186</td>\n",
              "      <td>--</td>\n",
              "      <td>155</td>\n",
              "    </tr>\n",
              "    <tr>\n",
              "      <th>458</th>\n",
              "      <td>29/03/20</td>\n",
              "      <td>Kerala</td>\n",
              "      <td>-</td>\n",
              "      <td>-</td>\n",
              "      <td>15</td>\n",
              "      <td>1</td>\n",
              "      <td>182</td>\n",
              "      <td>--</td>\n",
              "      <td>166</td>\n",
              "    </tr>\n",
              "    <tr>\n",
              "      <th>434</th>\n",
              "      <td>28/03/20</td>\n",
              "      <td>Maharashtra</td>\n",
              "      <td>177</td>\n",
              "      <td>3</td>\n",
              "      <td>25</td>\n",
              "      <td>5</td>\n",
              "      <td>180</td>\n",
              "      <td>3177</td>\n",
              "      <td>150</td>\n",
              "    </tr>\n",
              "  </tbody>\n",
              "</table>\n",
              "</div>"
            ],
            "text/plain": [
              "         Date        State  ... Confirmed Total Active Cases\n",
              "485  30/03/20       Kerala  ...              --          182\n",
              "488  30/03/20  Maharashtra  ...              --          165\n",
              "461  29/03/20  Maharashtra  ...              --          155\n",
              "458  29/03/20       Kerala  ...              --          166\n",
              "434  28/03/20  Maharashtra  ...            3177          150\n",
              "\n",
              "[5 rows x 9 columns]"
            ]
          },
          "metadata": {
            "tags": []
          },
          "execution_count": 26
        }
      ]
    },
    {
      "cell_type": "code",
      "metadata": {
        "id": "bUC1Llmwswhz",
        "colab_type": "code",
        "outputId": "3410ab18-bc62-4e4b-a80f-aa6cccd6fa5e",
        "colab": {
          "base_uri": "https://localhost:8080/",
          "height": 590
        }
      },
      "source": [
        "plt.figure(figsize=[10,8])\n",
        "sns.barplot(df['Active Cases'],df['State'],saturation=.85,errcolor='.045',ci=None)\n",
        "plt.title('State vs Number of cases',fontsize=15,loc='center')\n",
        "plt.xticks(rotation = 90)"
      ],
      "execution_count": 34,
      "outputs": [
        {
          "output_type": "execute_result",
          "data": {
            "text/plain": [
              "(array([ 0., 10., 20., 30., 40., 50., 60., 70.]),\n",
              " <a list of 8 Text major ticklabel objects>)"
            ]
          },
          "metadata": {
            "tags": []
          },
          "execution_count": 34
        },
        {
          "output_type": "display_data",
          "data": {
            "image/png": "[encoded data removed]",
            "text/plain": [
              "<Figure size 720x576 with 1 Axes>"
            ]
          },
          "metadata": {
            "tags": []
          }
        }
      ]
    },
    {
      "cell_type": "code",
      "metadata": {
        "id": "eIVO9RqoswZx",
        "colab_type": "code",
        "colab": {}
      },
      "source": [
        ""
      ],
      "execution_count": 0,
      "outputs": []
    },
    {
      "cell_type": "code",
      "metadata": {
        "id": "hlXLq7dVswVk",
        "colab_type": "code",
        "outputId": "9baa5fab-1ed7-4312-e97a-ee6bdf1d930a",
        "colab": {
          "base_uri": "https://localhost:8080/",
          "height": 979
        }
      },
      "source": [
        "df.groupby(['State'])['Active Cases'].sum().sort_values(ascending=False).to_frame()"
      ],
      "execution_count": 28,
      "outputs": [
        {
          "output_type": "execute_result",
          "data": {
            "text/html": [
              "<div>\n",
              "<style scoped>\n",
              "    .dataframe tbody tr th:only-of-type {\n",
              "        vertical-align: middle;\n",
              "    }\n",
              "\n",
              "    .dataframe tbody tr th {\n",
              "        vertical-align: top;\n",
              "    }\n",
              "\n",
              "    .dataframe thead th {\n",
              "        text-align: right;\n",
              "    }\n",
              "</style>\n",
              "<table border=\"1\" class=\"dataframe\">\n",
              "  <thead>\n",
              "    <tr style=\"text-align: right;\">\n",
              "      <th></th>\n",
              "      <th>Active Cases</th>\n",
              "    </tr>\n",
              "    <tr>\n",
              "      <th>State</th>\n",
              "      <th></th>\n",
              "    </tr>\n",
              "  </thead>\n",
              "  <tbody>\n",
              "    <tr>\n",
              "      <th>Kerala</th>\n",
              "      <td>1409</td>\n",
              "    </tr>\n",
              "    <tr>\n",
              "      <th>Maharashtra</th>\n",
              "      <td>1399</td>\n",
              "    </tr>\n",
              "    <tr>\n",
              "      <th>Karnataka</th>\n",
              "      <td>508</td>\n",
              "    </tr>\n",
              "    <tr>\n",
              "      <th>Rajasthan</th>\n",
              "      <td>496</td>\n",
              "    </tr>\n",
              "    <tr>\n",
              "      <th>Uttar Pradesh</th>\n",
              "      <td>481</td>\n",
              "    </tr>\n",
              "    <tr>\n",
              "      <th>Telengana</th>\n",
              "      <td>462</td>\n",
              "    </tr>\n",
              "    <tr>\n",
              "      <th>Delhi</th>\n",
              "      <td>406</td>\n",
              "    </tr>\n",
              "    <tr>\n",
              "      <th>Gujarat</th>\n",
              "      <td>362</td>\n",
              "    </tr>\n",
              "    <tr>\n",
              "      <th>Haryana</th>\n",
              "      <td>355</td>\n",
              "    </tr>\n",
              "    <tr>\n",
              "      <th>Punjab</th>\n",
              "      <td>292</td>\n",
              "    </tr>\n",
              "    <tr>\n",
              "      <th>Tamil Nadu</th>\n",
              "      <td>256</td>\n",
              "    </tr>\n",
              "    <tr>\n",
              "      <th>Ladakh</th>\n",
              "      <td>176</td>\n",
              "    </tr>\n",
              "    <tr>\n",
              "      <th>Madhya Pradesh</th>\n",
              "      <td>173</td>\n",
              "    </tr>\n",
              "    <tr>\n",
              "      <th>Jammu and Kashmir</th>\n",
              "      <td>161</td>\n",
              "    </tr>\n",
              "    <tr>\n",
              "      <th>Andhra Pradesh</th>\n",
              "      <td>117</td>\n",
              "    </tr>\n",
              "    <tr>\n",
              "      <th>West Bengal</th>\n",
              "      <td>104</td>\n",
              "    </tr>\n",
              "    <tr>\n",
              "      <th>Chandigarh</th>\n",
              "      <td>66</td>\n",
              "    </tr>\n",
              "    <tr>\n",
              "      <th>Uttarakhand</th>\n",
              "      <td>50</td>\n",
              "    </tr>\n",
              "    <tr>\n",
              "      <th>Bihar</th>\n",
              "      <td>49</td>\n",
              "    </tr>\n",
              "    <tr>\n",
              "      <th>Chhattisgarh</th>\n",
              "      <td>38</td>\n",
              "    </tr>\n",
              "    <tr>\n",
              "      <th>Odisha</th>\n",
              "      <td>29</td>\n",
              "    </tr>\n",
              "    <tr>\n",
              "      <th>Andaman and Nicobar Islands</th>\n",
              "      <td>26</td>\n",
              "    </tr>\n",
              "    <tr>\n",
              "      <th>Himachal Pradesh</th>\n",
              "      <td>20</td>\n",
              "    </tr>\n",
              "    <tr>\n",
              "      <th>Goa</th>\n",
              "      <td>19</td>\n",
              "    </tr>\n",
              "    <tr>\n",
              "      <th>Puducherry</th>\n",
              "      <td>11</td>\n",
              "    </tr>\n",
              "    <tr>\n",
              "      <th>Manipur</th>\n",
              "      <td>7</td>\n",
              "    </tr>\n",
              "    <tr>\n",
              "      <th>Mizoram</th>\n",
              "      <td>6</td>\n",
              "    </tr>\n",
              "    <tr>\n",
              "      <th>Pondicherry</th>\n",
              "      <td>2</td>\n",
              "    </tr>\n",
              "    <tr>\n",
              "      <th>Chattisgarh</th>\n",
              "      <td>1</td>\n",
              "    </tr>\n",
              "  </tbody>\n",
              "</table>\n",
              "</div>"
            ],
            "text/plain": [
              "                             Active Cases\n",
              "State                                    \n",
              "Kerala                               1409\n",
              "Maharashtra                          1399\n",
              "Karnataka                             508\n",
              "Rajasthan                             496\n",
              "Uttar Pradesh                         481\n",
              "Telengana                             462\n",
              "Delhi                                 406\n",
              "Gujarat                               362\n",
              "Haryana                               355\n",
              "Punjab                                292\n",
              "Tamil Nadu                            256\n",
              "Ladakh                                176\n",
              "Madhya Pradesh                        173\n",
              "Jammu and Kashmir                     161\n",
              "Andhra Pradesh                        117\n",
              "West Bengal                           104\n",
              "Chandigarh                             66\n",
              "Uttarakhand                            50\n",
              "Bihar                                  49\n",
              "Chhattisgarh                           38\n",
              "Odisha                                 29\n",
              "Andaman and Nicobar Islands            26\n",
              "Himachal Pradesh                       20\n",
              "Goa                                    19\n",
              "Puducherry                             11\n",
              "Manipur                                 7\n",
              "Mizoram                                 6\n",
              "Pondicherry                             2\n",
              "Chattisgarh                             1"
            ]
          },
          "metadata": {
            "tags": []
          },
          "execution_count": 28
        }
      ]
    },
    {
      "cell_type": "code",
      "metadata": {
        "id": "eGLAVwNm_MrA",
        "colab_type": "code",
        "colab": {}
      },
      "source": [
        "colors = [\"#006D2C\", \"#31A354\",\"#74C476\"]"
      ],
      "execution_count": 0,
      "outputs": []
    },
    {
      "cell_type": "code",
      "metadata": {
        "id": "v9IelnnpswR6",
        "colab_type": "code",
        "outputId": "2d027954-dd15-4657-bb88-2ae2791b1bcc",
        "colab": {
          "base_uri": "https://localhost:8080/",
          "height": 1000
        }
      },
      "source": [
        "plt.figure(figsize=[10,6])\n",
        "sns.set(style='darkgrid',font_scale=1)\n",
        "plt.bar(df['State'],df['Active Cases'],color='c')\n",
        "plt.bar(df['State'],df['Cured'],color='g')\n",
        "plt.bar(df['State'],df['Deaths'],color='r')\n",
        "plt.legend(labels =['Active_Cases','Cured','Deaths'])\n",
        "plt.title('State-wise Cases',fontsize=15)\n",
        "plt.xlabel('Indian States')\n",
        "plt.ylabel('Number of cases')\n",
        "plt.xticks(rotation=90)"
      ],
      "execution_count": 30,
      "outputs": [
        {
          "output_type": "execute_result",
          "data": {
            "text/plain": [
              "([0,\n",
              "  1,\n",
              "  2,\n",
              "  3,\n",
              "  4,\n",
              "  5,\n",
              "  6,\n",
              "  7,\n",
              "  8,\n",
              "  9,\n",
              "  10,\n",
              "  11,\n",
              "  12,\n",
              "  13,\n",
              "  14,\n",
              "  15,\n",
              "  16,\n",
              "  17,\n",
              "  18,\n",
              "  19,\n",
              "  20,\n",
              "  21,\n",
              "  22,\n",
              "  23,\n",
              "  24,\n",
              "  25,\n",
              "  26,\n",
              "  27,\n",
              "  28],\n",
              " <a list of 29 Text major ticklabel objects>)"
            ]
          },
          "metadata": {
            "tags": []
          },
          "execution_count": 30
        },
        {
          "output_type": "display_data",
          "data": {
            "image/png": "[encoded data removed]",
            "text/plain": [
              "<Figure size 720x432 with 1 Axes>"
            ]
          },
          "metadata": {
            "tags": []
          }
        }
      ]
    },
    {
      "cell_type": "code",
      "metadata": {
        "id": "BA7WrWvrHJ-r",
        "colab_type": "code",
        "colab": {}
      },
      "source": [
        "df['Dates'] = pd.to_datetime(df['Date'],dayfirst=True)"
      ],
      "execution_count": 0,
      "outputs": []
    },
    {
      "cell_type": "code",
      "metadata": {
        "id": "vb3xXhPzswOO",
        "colab_type": "code",
        "outputId": "7cbd6547-f097-4465-8149-a2737199cb13",
        "colab": {
          "base_uri": "https://localhost:8080/",
          "height": 425
        }
      },
      "source": [
        "plt.figure(figsize=[10,5])\n",
        "sns.set(style='ticks',font_scale=1)\n",
        "df.groupby(['Dates'])['Active Cases'].sum().plot(kind='line',color='b')\n",
        "df.groupby(['Dates'])['Cured'].sum().plot(kind='line',color='g')\n",
        "df.groupby(['Dates'])['Deaths'].sum().plot(kind='line',color='r')\n",
        "plt.legend(labels=['Active','Cured','Deaths'],bbox_to_anchor=(1,1))\n",
        "plt.title('Cured vs Deaths vs Active Cases',fontsize=10)\n",
        "plt.xlabel('Date')\n",
        "plt.ylabel('Number of cases')\n",
        "plt.xticks(rotation=90)\n"
      ],
      "execution_count": 36,
      "outputs": [
        {
          "output_type": "execute_result",
          "data": {
            "text/plain": [
              "(array([18291, 18293, 18322, 18351]),\n",
              " <a list of 4 Text major ticklabel objects>)"
            ]
          },
          "metadata": {
            "tags": []
          },
          "execution_count": 36
        },
        {
          "output_type": "display_data",
          "data": {
            "image/png": "[encoded data removed]",
            "text/plain": [
              "<Figure size 720x360 with 1 Axes>"
            ]
          },
          "metadata": {
            "tags": []
          }
        }
      ]
    },
    {
      "cell_type": "code",
      "metadata": {
        "id": "KCECuRIJLBZF",
        "colab_type": "code",
        "colab": {}
      },
      "source": [
        ""
      ],
      "execution_count": 0,
      "outputs": []
    },
    {
      "cell_type": "code",
      "metadata": {
        "id": "UVaKsw1VxOKK",
        "colab_type": "code",
        "colab": {}
      },
      "source": [
        ""
      ],
      "execution_count": 0,
      "outputs": []
    },
    {
      "cell_type": "code",
      "metadata": {
        "id": "G-Pvt67JxOII",
        "colab_type": "code",
        "colab": {}
      },
      "source": [
        ""
      ],
      "execution_count": 0,
      "outputs": []
    },
    {
      "cell_type": "code",
      "metadata": {
        "id": "bbVTdgj7xOFK",
        "colab_type": "code",
        "colab": {}
      },
      "source": [
        ""
      ],
      "execution_count": 0,
      "outputs": []
    }
  ]
}